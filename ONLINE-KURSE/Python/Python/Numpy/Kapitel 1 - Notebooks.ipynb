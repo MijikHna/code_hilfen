{
 "cells": [
  {
   "cell_type": "markdown",
   "metadata": {},
   "source": [
    "# 1 - Introduction to Jupyter Notebooks"
   ]
  },
  {
   "cell_type": "markdown",
   "metadata": {},
   "source": [
    "## What is a Jupyter notebook?\n",
    "\n",
    "#### Application for creating and sharing documents that contain:\n",
    "- live code\n",
    "- equations\n",
    "- visualizations\n",
    "- explanatory text\n",
    "\n",
    "Home page: http://jupyter.org/"
   ]
  },
  {
   "cell_type": "markdown",
   "metadata": {},
   "source": [
    "## Notebook tutorials\n",
    "- [Quick Start Guide](https://jupyter-notebook-beginner-guide.readthedocs.io/en/latest/)\n",
    "- [User Documentation](http://jupyter-notebook.readthedocs.io/en/latest/)\n",
    "- [Examples Documentation](http://jupyter-notebook.readthedocs.io/en/latest/examples/Notebook/examples_index.html)\n",
    "- [Cal Tech](http://bebi103.caltech.edu/2015/tutorials/t0b_intro_to_jupyter_notebooks.html)"
   ]
  },
  {
   "cell_type": "markdown",
   "metadata": {},
   "source": [
    "## Notebook Users\n",
    "- students, readers, viewers, learners\n",
    "    - read a digital book\n",
    "    - interact with a \"live\" book\n",
    "- notebook developers\n",
    "    - create notebooks for students, readers, ..."
   ]
  },
  {
   "cell_type": "markdown",
   "metadata": {},
   "source": [
    "## Notebooks contain cells\n",
    "- Code cells\n",
    "    - execute computer (Python, or many other languages)\n",
    "- Markdown cells\n",
    "    - documentation, \"narrative\" cells\n",
    "        - guide a reader through a notebook"
   ]
  },
  {
   "cell_type": "markdown",
   "metadata": {},
   "source": [
    "## Following cells are \"live\" cells"
   ]
  },
  {
   "cell_type": "code",
   "execution_count": 1,
   "metadata": {
    "collapsed": false
   },
   "outputs": [
    {
     "name": "stdout",
     "output_type": "stream",
     "text": [
      "Hello Jupyter World!; You are helping me learn\n"
     ]
    }
   ],
   "source": [
    "print (\"Hello Jupyter World!; You are helping me learn\")"
   ]
  },
  {
   "cell_type": "code",
   "execution_count": 2,
   "metadata": {
    "collapsed": false
   },
   "outputs": [
    {
     "data": {
      "text/plain": [
       "3.0"
      ]
     },
     "execution_count": 2,
     "metadata": {},
     "output_type": "execute_result"
    }
   ],
   "source": [
    "(5+7)/4"
   ]
  },
  {
   "cell_type": "code",
   "execution_count": 3,
   "metadata": {
    "collapsed": false
   },
   "outputs": [
    {
     "name": "stdout",
     "output_type": "stream",
     "text": [
      "[ 0  1  2  3  4  5  6  7  8  9 10]\n"
     ]
    }
   ],
   "source": [
    "import numpy as np\n",
    "my_first_array = np.arange(11)\n",
    "print (my_first_array)"
   ]
  },
  {
   "cell_type": "markdown",
   "metadata": {},
   "source": [
    "# 2- Notebook Basics"
   ]
  },
  {
   "cell_type": "markdown",
   "metadata": {},
   "source": [
    "## Modal Editor\n",
    "- Command Mode\n",
    "    - Blue cell border\n",
    "    - Enter command mode via 'ESC' key\n",
    "- Edit Mode\n",
    "    - Green cell border\n",
    "    - cell acts like a text editor\n",
    "    - Enter edit mode via 'ENTER' key\n",
    "- Execute a cell\n",
    "    - 'SHIFT ENTER' key combination"
   ]
  },
  {
   "cell_type": "markdown",
   "metadata": {},
   "source": [
    "## Keyboard Navigation\n",
    "- command palette tool icon\n",
    "    - has search capability\n",
    "### Common Navigation \n",
    "- Save notebook: 'CTRL' + s\n",
    "- Create cell above current cell: 'ESC' + a\n",
    "- Create cell below current cell: 'ESC' + b\n",
    "- Delete current cell: 'ESC' + d + d\n",
    "- Cell editing\n",
    "    - copy: 'CTRL' + c\n",
    "    - cut: 'CTRL' + x\n",
    "    - paste: 'CTRL' + v\n",
    "    - undo: 'CTRL' + z"
   ]
  },
  {
   "cell_type": "markdown",
   "metadata": {},
   "source": [
    "## Menu Bar\n",
    "- File\n",
    "    - Rename\n",
    "    - Save and checkpoint; 'CTRL' + s\n",
    "    - Print Preview\n",
    "    - New Notebook\n",
    "- Cell\n",
    "    - Run All\n",
    "- Help\n",
    "    - Python\n",
    "    - NumPy\n",
    "    - SciPy"
   ]
  },
  {
   "cell_type": "markdown",
   "metadata": {},
   "source": [
    "# 3 - Markdown"
   ]
  },
  {
   "cell_type": "markdown",
   "metadata": {},
   "source": [
    "## Notebook Basics\n",
    "More basic information available at:  [Basics](http://jupyter-notebook.readthedocs.io/en/latest/examples/Notebook/Notebook%20Basics.html)"
   ]
  },
  {
   "cell_type": "markdown",
   "metadata": {},
   "source": [
    "## Dashboard\n",
    "- \"Home Page\" for notebook\n",
    "    - listing of available notebook\n",
    "    - starting point to create new notebooks\n",
    "- Location for controlling notebooks\n",
    "    - check box selection\n",
    "        - stop running notebooks\n",
    "            - see \"Running\" tab\n",
    "        - delete notebooks\n",
    "- Refresh\n",
    "    - if notebooks are added \"externally\""
   ]
  },
  {
   "cell_type": "markdown",
   "metadata": {},
   "source": [
    "## Notebook User Interface\n",
    "- Menu Bar\n",
    "- Tool Bar\n",
    "- Notebook area that contains cells"
   ]
  },
  {
   "cell_type": "markdown",
   "metadata": {},
   "source": [
    "## Modal Editor\n",
    "- Command Mode\n",
    "    - Blue cell border\n",
    "    - Enter command mode via 'ESC' key\n",
    "- Edit Mode\n",
    "    - Green cell border\n",
    "    - cell acts like a text editor\n",
    "    - Enter edit mode via 'ENTER' key\n",
    "- Execute a cell\n",
    "    - 'SHIFT ENTER' key combination"
   ]
  },
  {
   "cell_type": "markdown",
   "metadata": {},
   "source": [
    "## Keyboard Navigation\n",
    "- command palette tool icon\n",
    "    - has search capability\n",
    "### Common Navigation \n",
    "- Save notebook: 'CTRL' + s\n",
    "- Create cell above current cell: 'ESC' + a\n",
    "- Create cell below current cell: 'ESC' + b\n",
    "- Delete current cell: 'ESC' + d + d\n",
    "- Cell editing\n",
    "    - copy: 'CTRL' + c\n",
    "    - cut: 'CTRL' + x\n",
    "    - paste: 'CTRL' + v\n",
    "    - undo: 'CTRL' + z"
   ]
  },
  {
   "cell_type": "markdown",
   "metadata": {},
   "source": [
    "## Menu Bar\n",
    "- File\n",
    "    - Rename\n",
    "    - Save and checkpoint; 'CTRL' + s\n",
    "    - Print Preview\n",
    "    - New Notebook\n",
    "- Cell\n",
    "    - Run All\n",
    "- Help\n",
    "    - Python\n",
    "    - NumPy\n",
    "    - SciPy\n",
    "    "
   ]
  },
  {
   "cell_type": "markdown",
   "metadata": {},
   "source": [
    "# 4 - Beautirful Mathematics Typesetting"
   ]
  },
  {
   "cell_type": "markdown",
   "metadata": {},
   "source": [
    "## Beautiful Mathematics Typesetting\n",
    "[Tex](https://en.wikipedia.org/wiki/TeX)\n",
    "\n",
    "[LaTex](https://www.latex-project.org/)\n",
    "\n",
    "[Motivating Examples](http://jupyter-notebook.readthedocs.io/en/latest/examples/Notebook/Typesetting%20Equations.html) - Beispiele mit LaTex-Syntax"
   ]
  },
  {
   "cell_type": "markdown",
   "metadata": {},
   "source": [
    "für Mathematische Ausdrücke wird LaTex-Syntac benutzt."
   ]
  },
  {
   "cell_type": "markdown",
   "metadata": {},
   "source": [
    "### The Lorenz Equations\n",
    "\n",
    "\\begin{align}\n",
    "\\dot{x} & = \\sigma(y-x) \\\\\n",
    "\\dot{y} & = \\rho x - y - xz \\\\\n",
    "\\dot{z} & = -\\beta z + xy\n",
    "\\end{align}"
   ]
  },
  {
   "cell_type": "markdown",
   "metadata": {},
   "source": [
    "### The Cauchy-Schwarz Inequality\n",
    "\n",
    "\\begin{equation*}\n",
    "\\left( \\sum_{k=1}^n a_k b_k \\right)^2 \\leq \\left( \\sum_{k=1}^n a_k^2 \\right) \\left( \\sum_{k=1}^n b_k^2 \\right)\n",
    "\\end{equation*}"
   ]
  },
  {
   "cell_type": "markdown",
   "metadata": {},
   "source": [
    "### Cross Product Formula\n",
    "\n",
    "\\begin{equation*}\n",
    "\\mathbf{V}_1 \\times \\mathbf{V}_2 =  \\begin{vmatrix}\n",
    "\\mathbf{i} & \\mathbf{j} & \\mathbf{k} \\\\\n",
    "\\frac{\\partial X}{\\partial u} &  \\frac{\\partial Y}{\\partial u} & 0 \\\\\n",
    "\\frac{\\partial X}{\\partial v} &  \\frac{\\partial Y}{\\partial v} & 0\n",
    "\\end{vmatrix}\n",
    "\\end{equation*}"
   ]
  },
  {
   "cell_type": "markdown",
   "metadata": {},
   "source": [
    "### Probability of getting (k) heads when flipping (n) coins\n",
    "\\begin{equation*}\n",
    "P(E)   = {n \\choose k} p^k (1-p)^{ n-k}\n",
    "\\end{equation*}"
   ]
  },
  {
   "cell_type": "markdown",
   "metadata": {},
   "source": [
    "### Identity of Ramanujan\n",
    "[Srinivasa Ramanujan](https://en.wikipedia.org/wiki/Srinivasa_Ramanujan)\n",
    "\n",
    "Self-taught, no formal training in mathematics, made contributions to:\n",
    "- mathematical analysis\n",
    "- number theory\n",
    "- infinite series\n",
    "- continued fractions\n",
    "\n",
    "\\begin{equation*}\n",
    "\\frac{1}{\\Bigl(\\sqrt{\\phi \\sqrt{5}}-\\phi\\Bigr) e^{\\frac25 \\pi}} =\n",
    "1+\\frac{e^{-2\\pi}} {1+\\frac{e^{-4\\pi}} {1+\\frac{e^{-6\\pi}}\n",
    "{1+\\frac{e^{-8\\pi}} {1+\\ldots} } } }\n",
    "\\end{equation*}"
   ]
  },
  {
   "cell_type": "markdown",
   "metadata": {},
   "source": [
    "### Maxwell’s Equations\n",
    "\n",
    "\\begin{align}\n",
    "\\nabla \\times \\vec{\\mathbf{B}} -\\, \\frac1c\\, \\frac{\\partial\\vec{\\mathbf{E}}}{\\partial t} & = \\frac{4\\pi}{c}\\vec{\\mathbf{j}} \\\\   \\nabla \\cdot \\vec{\\mathbf{E}} & = 4 \\pi \\rho \\\\\n",
    "\\nabla \\times \\vec{\\mathbf{E}}\\, +\\, \\frac1c\\, \\frac{\\partial\\vec{\\mathbf{B}}}{\\partial t} & = \\vec{\\mathbf{0}} \\\\\n",
    "\\nabla \\cdot \\vec{\\mathbf{B}} & = 0\n",
    "\\end{align}"
   ]
  }
 ],
 "metadata": {
  "anaconda-cloud": {},
  "kernelspec": {
   "display_name": "Python [Root]",
   "language": "python",
   "name": "Python [Root]"
  },
  "language_info": {
   "codemirror_mode": {
    "name": "ipython",
    "version": 3
   },
   "file_extension": ".py",
   "mimetype": "text/x-python",
   "name": "python",
   "nbconvert_exporter": "python",
   "pygments_lexer": "ipython3",
   "version": "3.5.2"
  }
 },
 "nbformat": 4,
 "nbformat_minor": 0
}