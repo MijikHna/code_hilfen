{
 "cells": [
  {
   "cell_type": "markdown",
   "metadata": {},
   "source": [
    "# 1 - Create Arrays from Python Structure"
   ]
  },
  {
   "cell_type": "markdown",
   "metadata": {},
   "source": [
    "<h2>Create NumPy arrays using Python's \"array like\" data types</h2>\n"
   ]
  },
  {
   "cell_type": "code",
   "execution_count": 1,
   "metadata": {
    "collapsed": true
   },
   "outputs": [],
   "source": [
    "import numpy as np # Alias np für Namespace numpy"
   ]
  },
  {
   "cell_type": "code",
   "execution_count": 2,
   "metadata": {
    "collapsed": false
   },
   "outputs": [
    {
     "output_type": "stream",
     "name": "stdout",
     "text": "1.18.4\n"
    }
   ],
   "source": [
    "print (np.__version__) # Version von Numpy anzeigen"
   ]
  },
  {
   "cell_type": "code",
   "execution_count": 3,
   "metadata": {
    "collapsed": false
   },
   "outputs": [
    {
     "output_type": "execute_result",
     "data": {
      "text/plain": "array([-17,   0,   4,   5,   9])"
     },
     "metadata": {},
     "execution_count": 3
    }
   ],
   "source": [
    "my_list = [-17, 0, 4, 5, 9] # Python Array anlegen\n",
    "my_array_from_list = np.array(my_list) # Python-Array zum NumPy-Array umwandeln\n",
    "my_array_from_list"
   ]
  },
  {
   "cell_type": "code",
   "execution_count": 4,
   "metadata": {
    "collapsed": false
   },
   "outputs": [
    {
     "output_type": "execute_result",
     "data": {
      "text/plain": "array([-170,    0,   40,   50,   90])"
     },
     "metadata": {},
     "execution_count": 4
    }
   ],
   "source": [
    "my_array_from_list * 10 # in NumPy kann man Operationen \"Element für Element\" ausführen"
   ]
  },
  {
   "cell_type": "code",
   "execution_count": 5,
   "metadata": {
    "collapsed": false
   },
   "outputs": [
    {
     "output_type": "execute_result",
     "data": {
      "text/plain": "array([14.  +0.j, -3.54+0.j,  5.  +7.j])"
     },
     "metadata": {},
     "execution_count": 5
    }
   ],
   "source": [
    "my_tuple = (14, -3.54, 5+7j) # Array aus Python-Tupel\n",
    "np.array(my_tuple) # es werden alle Elemente auf den größt möglichen Typ umgewandelt. Alle Elemente in NumPy-Array müssen gleichen Typen haben"
   ]
  },
  {
   "cell_type": "markdown",
   "metadata": {},
   "source": [
    "### Difference between python and numpy data structures"
   ]
  },
  {
   "cell_type": "code",
   "execution_count": 6,
   "metadata": {
    "collapsed": false
   },
   "outputs": [
    {
     "output_type": "execute_result",
     "data": {
      "text/plain": "(14,\n -3.54,\n (5+7j),\n 14,\n -3.54,\n (5+7j),\n 14,\n -3.54,\n (5+7j),\n 14,\n -3.54,\n (5+7j),\n 14,\n -3.54,\n (5+7j),\n 14,\n -3.54,\n (5+7j))"
     },
     "metadata": {},
     "execution_count": 6
    }
   ],
   "source": [
    "my_tuple * 6 # Python-Tupel => Array wird 6 Mal angelegt"
   ]
  },
  {
   "cell_type": "code",
   "execution_count": 7,
   "metadata": {
    "collapsed": false
   },
   "outputs": [
    {
     "output_type": "execute_result",
     "data": {
      "text/plain": "array([ 84.   +0.j, -21.24 +0.j,  30.  +42.j])"
     },
     "metadata": {},
     "execution_count": 7
    }
   ],
   "source": [
    "np.array(my_tuple) * 6 # NumPy-Array => Operation Element für Element"
   ]
  },
  {
   "cell_type": "markdown",
   "metadata": {},
   "source": [
    "# 2 - Intrinsic creation using NumPy methods"
   ]
  },
  {
   "cell_type": "markdown",
   "metadata": {},
   "source": [
    "<h2>Intrinsic NumPy array creation using NumPy's methods</h2>"
   ]
  },
  {
   "cell_type": "code",
   "execution_count": 8,
   "metadata": {},
   "outputs": [],
   "source": [
    "import numpy as np"
   ]
  },
  {
   "cell_type": "code",
   "execution_count": 9,
   "metadata": {},
   "outputs": [
    {
     "output_type": "error",
     "ename": "NameError",
     "evalue": "name 'arange' is not defined",
     "traceback": [
      "\u001b[0;31m---------------------------------------------------------------------------\u001b[0m",
      "\u001b[0;31mNameError\u001b[0m                                 Traceback (most recent call last)",
      "\u001b[0;32m<ipython-input-9-975db1ddf160>\u001b[0m in \u001b[0;36m<module>\u001b[0;34m\u001b[0m\n\u001b[0;32m----> 1\u001b[0;31m \u001b[0marange\u001b[0m\u001b[0;34m(\u001b[0m\u001b[0;36m7\u001b[0m\u001b[0;34m)\u001b[0m \u001b[0;31m# versucht Funtion aus Python Std-Bibliothek auszuführen bzw. versucht Funktion aus \"python\" Namespace auszuführen\u001b[0m\u001b[0;34m\u001b[0m\u001b[0;34m\u001b[0m\u001b[0m\n\u001b[0m",
      "\u001b[0;31mNameError\u001b[0m: name 'arange' is not defined"
     ]
    }
   ],
   "source": [
    "arange(7) # versucht Funtion aus Python Std-Bibliothek auszuführen bzw. versucht Funktion aus \"python\" Namespace auszuführen"
   ]
  },
  {
   "cell_type": "code",
   "execution_count": 10,
   "metadata": {},
   "outputs": [
    {
     "output_type": "execute_result",
     "data": {
      "text/plain": "array([0, 1, 2, 3, 4, 5, 6])"
     },
     "metadata": {},
     "execution_count": 10
    }
   ],
   "source": [
    "np.arange(7) # per Default start=0, step=1; stop=7"
   ]
  },
  {
   "cell_type": "code",
   "execution_count": 11,
   "metadata": {},
   "outputs": [
    {
     "output_type": "execute_result",
     "data": {
      "text/plain": "array([10, 11, 12, 13, 14, 15, 16, 17, 18, 19, 20, 21, 22])"
     },
     "metadata": {},
     "execution_count": 11
    }
   ],
   "source": [
    "np.arange(10, 23) # mit start=10, stop=23"
   ]
  },
  {
   "cell_type": "code",
   "execution_count": 12,
   "metadata": {},
   "outputs": [
    {
     "output_type": "execute_result",
     "data": {
      "text/plain": "array([ 0,  1,  2,  3,  4,  5,  6,  7,  8,  9, 10, 11, 12])"
     },
     "metadata": {},
     "execution_count": 12
    }
   ],
   "source": [
    "np.arange(10, 23) - 10 # 10 von jedem Element abziehen"
   ]
  },
  {
   "cell_type": "code",
   "execution_count": 13,
   "metadata": {},
   "outputs": [
    {
     "output_type": "execute_result",
     "data": {
      "text/plain": "array([ 1,  2,  3,  4,  5,  6,  7,  8,  9, 10, 11, 12, 13])"
     },
     "metadata": {},
     "execution_count": 13
    }
   ],
   "source": [
    "np.arange(10, 23) - 10 + 1"
   ]
  },
  {
   "cell_type": "code",
   "execution_count": 14,
   "metadata": {},
   "outputs": [
    {
     "output_type": "execute_result",
     "data": {
      "text/plain": "13"
     },
     "metadata": {},
     "execution_count": 14
    }
   ],
   "source": [
    "len (np.arange(10, 23)) # Länge bestimmen Version 1"
   ]
  },
  {
   "cell_type": "code",
   "execution_count": 15,
   "metadata": {},
   "outputs": [
    {
     "output_type": "execute_result",
     "data": {
      "text/plain": "13"
     },
     "metadata": {},
     "execution_count": 15
    }
   ],
   "source": [
    "my_range_array = np.arange(10, 23)\n",
    "my_range_array.size # Länge besitmmen Version 2"
   ]
  },
  {
   "cell_type": "code",
   "execution_count": 16,
   "metadata": {},
   "outputs": [
    {
     "output_type": "execute_result",
     "data": {
      "text/plain": "13"
     },
     "metadata": {},
     "execution_count": 16
    }
   ],
   "source": [
    "np.arange(10, 23).size # Länge bestimmen eigentlich auch Version 2"
   ]
  },
  {
   "cell_type": "code",
   "execution_count": 17,
   "metadata": {},
   "outputs": [
    {
     "output_type": "execute_result",
     "data": {
      "text/plain": "array([10, 15, 20])"
     },
     "metadata": {},
     "execution_count": 17
    }
   ],
   "source": [
    "np.arange(10, 23, 5) # mit start=10, stop=23, step=5 (start ist inklusive, stop is exklusive)"
   ]
  },
  {
   "cell_type": "code",
   "execution_count": 18,
   "metadata": {},
   "outputs": [
    {
     "output_type": "execute_result",
     "data": {
      "text/plain": "array([10, 15, 20])"
     },
     "metadata": {},
     "execution_count": 18
    }
   ],
   "source": [
    "np.arange(10, 25, 5) #start ist inklusive, stop is exklusive"
   ]
  },
  {
   "cell_type": "code",
   "execution_count": 19,
   "metadata": {},
   "outputs": [
    {
     "output_type": "execute_result",
     "data": {
      "text/plain": "array([10, 15, 20, 25])"
     },
     "metadata": {},
     "execution_count": 19
    }
   ],
   "source": [
    "np.arange(10, 26, 5) #start ist inklusive, stop is exklusive"
   ]
  },
  {
   "cell_type": "code",
   "execution_count": 20,
   "metadata": {},
   "outputs": [
    {
     "output_type": "execute_result",
     "data": {
      "text/plain": "array([ 0,  5, 10, 15, 20, 25])"
     },
     "metadata": {},
     "execution_count": 20
    }
   ],
   "source": [
    "np.arange(26, step=5) # mit start=0 (default), stop=23, step=5\n",
    "\n",
    "# hier muss man step=5 mitangeben, sonst wird start, stop angnommen"
   ]
  },
  {
   "cell_type": "code",
   "execution_count": 21,
   "metadata": {},
   "outputs": [
    {
     "output_type": "execute_result",
     "data": {
      "text/plain": "array([ 0,  5, 10, 15, 20, 25])"
     },
     "metadata": {},
     "execution_count": 21
    }
   ],
   "source": [
    "np.arange(0, 26, step=5)"
   ]
  },
  {
   "cell_type": "code",
   "execution_count": 22,
   "metadata": {},
   "outputs": [
    {
     "output_type": "execute_result",
     "data": {
      "text/plain": "array([ 0,  5, 10, 15, 20, 25])"
     },
     "metadata": {},
     "execution_count": 22
    }
   ],
   "source": [
    "np.arange(0, 26, 5)"
   ]
  },
  {
   "cell_type": "markdown",
   "metadata": {},
   "source": [
    "# 2 - linspace zeros ones data types"
   ]
  },
  {
   "cell_type": "code",
   "execution_count": 23,
   "metadata": {},
   "outputs": [],
   "source": [
    "import numpy as np"
   ]
  },
  {
   "cell_type": "markdown",
   "metadata": {},
   "source": [
    "* `linsapce()` - Integer-Array, die gleichen Abstand haben\n",
    "* `zeros()` - Integer-Array mit Nullen\n",
    "* `ones()` - Integer-Array mit Einsen"
   ]
  },
  {
   "cell_type": "code",
   "execution_count": 24,
   "metadata": {},
   "outputs": [
    {
     "output_type": "execute_result",
     "data": {
      "text/plain": "array([ 5.  ,  6.25,  7.5 ,  8.75, 10.  , 11.25, 12.5 , 13.75, 15.  ])"
     },
     "metadata": {},
     "execution_count": 24
    }
   ],
   "source": [
    "np.linspace(5, 15, 9) # (start, stop, ...) - sind verpflichtend, (start, stop, num(anazahl)); start und stop sind inklusive"
   ]
  },
  {
   "cell_type": "code",
   "execution_count": 25,
   "metadata": {},
   "outputs": [],
   "source": [
    "my_linspace = np.linspace(5, 15, 9, retstep=True) # mit restStep=True wird auch StepSize in NumPy-Array abgelegt dabe sieht das Array dan so aus my_linspace[[5, ... 15][stepSize]]"
   ]
  },
  {
   "cell_type": "code",
   "execution_count": 26,
   "metadata": {},
   "outputs": [
    {
     "output_type": "execute_result",
     "data": {
      "text/plain": "array([ 5.  ,  6.25,  7.5 ,  8.75, 10.  , 11.25, 12.5 , 13.75, 15.  ])"
     },
     "metadata": {},
     "execution_count": 26
    }
   ],
   "source": [
    "my_linspace[0]"
   ]
  },
  {
   "cell_type": "code",
   "execution_count": 27,
   "metadata": {},
   "outputs": [
    {
     "output_type": "execute_result",
     "data": {
      "text/plain": "1.25"
     },
     "metadata": {},
     "execution_count": 27
    }
   ],
   "source": [
    "my_linspace[1]"
   ]
  },
  {
   "cell_type": "code",
   "execution_count": 28,
   "metadata": {},
   "outputs": [
    {
     "output_type": "execute_result",
     "data": {
      "text/plain": "1.25"
     },
     "metadata": {},
     "execution_count": 28
    }
   ],
   "source": [
    "np.linspace(5, 15, 9, retstep=True)[1]"
   ]
  },
  {
   "cell_type": "markdown",
   "metadata": {},
   "source": [
    "<h2>zeros()</h2>"
   ]
  },
  {
   "cell_type": "code",
   "execution_count": 29,
   "metadata": {},
   "outputs": [
    {
     "output_type": "execute_result",
     "data": {
      "text/plain": "array([0., 0., 0., 0., 0.])"
     },
     "metadata": {},
     "execution_count": 29
    }
   ],
   "source": [
    "np.zeros(5) # wird mit Floats gefüllt"
   ]
  },
  {
   "cell_type": "markdown",
   "metadata": {},
   "source": [
    "<h2>ones()</h2>"
   ]
  },
  {
   "cell_type": "code",
   "execution_count": 30,
   "metadata": {},
   "outputs": [
    {
     "output_type": "execute_result",
     "data": {
      "text/plain": "array([1., 1., 1., 1., 1., 1., 1.])"
     },
     "metadata": {},
     "execution_count": 30
    }
   ],
   "source": [
    "np.ones(7)"
   ]
  },
  {
   "cell_type": "code",
   "execution_count": 31,
   "metadata": {},
   "outputs": [
    {
     "output_type": "execute_result",
     "data": {
      "text/plain": "array([[[0., 0., 0.],\n        [0., 0., 0.],\n        [0., 0., 0.],\n        [0., 0., 0.]],\n\n       [[0., 0., 0.],\n        [0., 0., 0.],\n        [0., 0., 0.],\n        [0., 0., 0.]],\n\n       [[0., 0., 0.],\n        [0., 0., 0.],\n        [0., 0., 0.],\n        [0., 0., 0.]],\n\n       [[0., 0., 0.],\n        [0., 0., 0.],\n        [0., 0., 0.],\n        [0., 0., 0.]],\n\n       [[0., 0., 0.],\n        [0., 0., 0.],\n        [0., 0., 0.],\n        [0., 0., 0.]]])"
     },
     "metadata": {},
     "execution_count": 31
    }
   ],
   "source": [
    "np.zeros((5,4,3)) # 3dim-Array mit Matrizen 4-Rows x 3-Columns"
   ]
  },
  {
   "cell_type": "markdown",
   "metadata": {},
   "source": [
    "<h2>NumPy data types()</h2>"
   ]
  },
  {
   "cell_type": "code",
   "execution_count": 32,
   "metadata": {},
   "outputs": [
    {
     "output_type": "execute_result",
     "data": {
      "text/plain": "array([0, 0, 0, 0, 0, 0, 0, 0, 0, 0, 0])"
     },
     "metadata": {},
     "execution_count": 32
    }
   ],
   "source": [
    "np.zeros(11, dtype='int64') # man kann mit dem Param dtype Typ zum Anlegen bestimmten (default ist Float)"
   ]
  },
  {
   "cell_type": "code",
   "execution_count": 33,
   "metadata": {},
   "outputs": [
    {
     "output_type": "execute_result",
     "data": {
      "text/plain": "array([0., 0., 0., 0., 0., 0., 0., 0., 0., 0., 0.])"
     },
     "metadata": {},
     "execution_count": 33
    }
   ],
   "source": [
    "np.zeros(11)"
   ]
  },
  {
   "cell_type": "code",
   "execution_count": 34,
   "metadata": {},
   "outputs": [],
   "source": [
    "class Test:\n",
    "    stat_test1: int = 10\n",
    "    \n",
    "    def __init__(self, num: int = 0):\n",
    "        self.stat_test1 = self.stat_test1 + 1\n",
    "        \n",
    "        if num == 0:\n",
    "            self.__test1__ = self.stat_test1\n",
    "        else:\n",
    "            self.__test1__ = num "
   ]
  },
  {
   "cell_type": "code",
   "execution_count": 35,
   "metadata": {},
   "outputs": [
    {
     "output_type": "stream",
     "name": "stdout",
     "text": "11\n"
    }
   ],
   "source": [
    "np.zeros(5, dtype=int)\n",
    "test1 = Test()\n",
    "test2 = Test()\n",
    "print(test2.stat_test1)"
   ]
  }
 ],
 "metadata": {
  "kernelspec": {
   "display_name": "Python 3",
   "language": "python",
   "name": "python3"
  },
  "language_info": {
   "codemirror_mode": {
    "name": "ipython",
    "version": 3
   },
   "file_extension": ".py",
   "mimetype": "text/x-python",
   "name": "python",
   "nbconvert_exporter": "python",
   "pygments_lexer": "ipython3",
   "version": "3.7.3-final"
  }
 },
 "nbformat": 4,
 "nbformat_minor": 0
}