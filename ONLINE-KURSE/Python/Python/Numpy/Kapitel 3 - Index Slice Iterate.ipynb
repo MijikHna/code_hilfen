{
 "cells": [
  {
   "cell_type": "markdown",
   "metadata": {},
   "source": [
    "<h1> 1 - Slicing Arrays</h1>"
   ]
  },
  {
   "cell_type": "code",
   "execution_count": 88,
   "metadata": {
    "collapsed": true
   },
   "outputs": [],
   "source": [
    "import numpy as np"
   ]
  },
  {
   "cell_type": "code",
   "execution_count": 89,
   "metadata": {
    "collapsed": true
   },
   "outputs": [],
   "source": [
    "my_vector = np.array ([-17, -4, 0, 2, 21, 37, 105])"
   ]
  },
  {
   "cell_type": "code",
   "execution_count": 90,
   "metadata": {
    "collapsed": false
   },
   "outputs": [
    {
     "output_type": "execute_result",
     "data": {
      "text/plain": "array([-17,  -4,   0,   2,  21,  37, 105])"
     },
     "metadata": {},
     "execution_count": 90
    }
   ],
   "source": [
    "my_vector"
   ]
  },
  {
   "cell_type": "code",
   "execution_count": 91,
   "metadata": {
    "collapsed": false
   },
   "outputs": [
    {
     "output_type": "execute_result",
     "data": {
      "text/plain": "-17"
     },
     "metadata": {},
     "execution_count": 91
    }
   ],
   "source": [
    "my_vector[0] "
   ]
  },
  {
   "cell_type": "code",
   "execution_count": 92,
   "metadata": {
    "collapsed": true
   },
   "outputs": [],
   "source": [
    "my_vector[0] = -102"
   ]
  },
  {
   "cell_type": "code",
   "execution_count": 93,
   "metadata": {
    "collapsed": false
   },
   "outputs": [
    {
     "output_type": "execute_result",
     "data": {
      "text/plain": "array([-102,   -4,    0,    2,   21,   37,  105])"
     },
     "metadata": {},
     "execution_count": 93
    }
   ],
   "source": [
    "my_vector"
   ]
  },
  {
   "cell_type": "code",
   "execution_count": 94,
   "metadata": {
    "collapsed": false
   },
   "outputs": [
    {
     "output_type": "execute_result",
     "data": {
      "text/plain": "21"
     },
     "metadata": {},
     "execution_count": 94
    }
   ],
   "source": [
    "my_vector[-3] # drittes Element von Hinten\n"
   ]
  },
  {
   "cell_type": "code",
   "execution_count": 95,
   "metadata": {
    "collapsed": false
   },
   "outputs": [
    {
     "output_type": "error",
     "ename": "IndexError",
     "evalue": "index 305 is out of bounds for axis 0 with size 7",
     "traceback": [
      "\u001b[0;31m---------------------------------------------------------------------------\u001b[0m",
      "\u001b[0;31mIndexError\u001b[0m                                Traceback (most recent call last)",
      "\u001b[0;32m<ipython-input-95-70044fe8d763>\u001b[0m in \u001b[0;36m<module>\u001b[0;34m\u001b[0m\n\u001b[0;32m----> 1\u001b[0;31m \u001b[0mmy_vector\u001b[0m\u001b[0;34m[\u001b[0m\u001b[0;36m305\u001b[0m\u001b[0;34m]\u001b[0m \u001b[0;31m# Out of Bound - Error\u001b[0m\u001b[0;34m\u001b[0m\u001b[0;34m\u001b[0m\u001b[0m\n\u001b[0m",
      "\u001b[0;31mIndexError\u001b[0m: index 305 is out of bounds for axis 0 with size 7"
     ]
    }
   ],
   "source": [
    "my_vector[305] # Out of Bound - Error"
   ]
  },
  {
   "cell_type": "markdown",
   "metadata": {},
   "source": [
    "Hier kann man sehen:\n",
    "* `axis` bedeutet bei mehr-dim Array die Dimension"
   ]
  },
  {
   "cell_type": "code",
   "execution_count": 96,
   "metadata": {
    "collapsed": false
   },
   "outputs": [
    {
     "output_type": "execute_result",
     "data": {
      "text/plain": "4"
     },
     "metadata": {},
     "execution_count": 96
    }
   ],
   "source": [
    "305 % 7 # hier einfach 3 modulo Größe des Vektors"
   ]
  },
  {
   "cell_type": "code",
   "execution_count": 97,
   "metadata": {
    "collapsed": false
   },
   "outputs": [
    {
     "output_type": "execute_result",
     "data": {
      "text/plain": "21"
     },
     "metadata": {},
     "execution_count": 97
    }
   ],
   "source": [
    "my_vector[305 % 7]"
   ]
  },
  {
   "cell_type": "code",
   "execution_count": 98,
   "metadata": {
    "collapsed": false
   },
   "outputs": [
    {
     "output_type": "execute_result",
     "data": {
      "text/plain": "7"
     },
     "metadata": {},
     "execution_count": 98
    }
   ],
   "source": [
    "my_vector.size"
   ]
  },
  {
   "cell_type": "code",
   "execution_count": 99,
   "metadata": {
    "collapsed": false
   },
   "outputs": [
    {
     "output_type": "execute_result",
     "data": {
      "text/plain": "21"
     },
     "metadata": {},
     "execution_count": 99
    }
   ],
   "source": [
    "my_vector[305 % my_vector.size]"
   ]
  },
  {
   "cell_type": "markdown",
   "metadata": {},
   "source": [
    "### Two Dimensional Arrays"
   ]
  },
  {
   "cell_type": "code",
   "execution_count": 100,
   "metadata": {
    "collapsed": false
   },
   "outputs": [
    {
     "output_type": "execute_result",
     "data": {
      "text/plain": "array([[ 0,  1,  2,  3,  4],\n       [ 5,  6,  7,  8,  9],\n       [10, 11, 12, 13, 14],\n       [15, 16, 17, 18, 19],\n       [20, 21, 22, 23, 24],\n       [25, 26, 27, 28, 29],\n       [30, 31, 32, 33, 34]])"
     },
     "metadata": {},
     "execution_count": 100
    }
   ],
   "source": [
    "my_array= np.arange(35)\n",
    "my_array.shape = (7,5) # den Array Reshapen zu 7x7 Matrix\n",
    "my_array"
   ]
  },
  {
   "cell_type": "code",
   "execution_count": 101,
   "metadata": {
    "collapsed": false
   },
   "outputs": [
    {
     "output_type": "execute_result",
     "data": {
      "text/plain": "array([10, 11, 12, 13, 14])"
     },
     "metadata": {},
     "execution_count": 101
    }
   ],
   "source": [
    "my_array[2]"
   ]
  },
  {
   "cell_type": "code",
   "execution_count": 102,
   "metadata": {},
   "outputs": [
    {
     "output_type": "error",
     "ename": "IndexError",
     "evalue": "index 10 is out of bounds for axis 0 with size 7",
     "traceback": [
      "\u001b[0;31m---------------------------------------------------------------------------\u001b[0m",
      "\u001b[0;31mIndexError\u001b[0m                                Traceback (most recent call last)",
      "\u001b[0;32m<ipython-input-102-813ffe72d58f>\u001b[0m in \u001b[0;36m<module>\u001b[0;34m\u001b[0m\n\u001b[0;32m----> 1\u001b[0;31m \u001b[0mmy_array\u001b[0m\u001b[0;34m[\u001b[0m\u001b[0;36m10\u001b[0m\u001b[0;34m]\u001b[0m\u001b[0;34m\u001b[0m\u001b[0;34m\u001b[0m\u001b[0m\n\u001b[0m",
      "\u001b[0;31mIndexError\u001b[0m: index 10 is out of bounds for axis 0 with size 7"
     ]
    }
   ],
   "source": [
    "my_array[10]"
   ]
  },
  {
   "cell_type": "code",
   "execution_count": 103,
   "metadata": {},
   "outputs": [
    {
     "output_type": "error",
     "ename": "IndexError",
     "evalue": "index 20 is out of bounds for axis 1 with size 5",
     "traceback": [
      "\u001b[0;31m---------------------------------------------------------------------------\u001b[0m",
      "\u001b[0;31mIndexError\u001b[0m                                Traceback (most recent call last)",
      "\u001b[0;32m<ipython-input-103-fe4b6104b893>\u001b[0m in \u001b[0;36m<module>\u001b[0;34m\u001b[0m\n\u001b[0;32m----> 1\u001b[0;31m \u001b[0mmy_array\u001b[0m\u001b[0;34m[\u001b[0m\u001b[0;36m4\u001b[0m\u001b[0;34m,\u001b[0m \u001b[0;36m20\u001b[0m\u001b[0;34m]\u001b[0m\u001b[0;34m\u001b[0m\u001b[0;34m\u001b[0m\u001b[0m\n\u001b[0m",
      "\u001b[0;31mIndexError\u001b[0m: index 20 is out of bounds for axis 1 with size 5"
     ]
    }
   ],
   "source": [
    "my_array[4, 20]"
   ]
  },
  {
   "cell_type": "code",
   "execution_count": 104,
   "metadata": {
    "collapsed": false
   },
   "outputs": [
    {
     "output_type": "execute_result",
     "data": {
      "text/plain": "array([25, 26, 27, 28, 29])"
     },
     "metadata": {},
     "execution_count": 104
    }
   ],
   "source": [
    "my_array[-2]"
   ]
  },
  {
   "cell_type": "code",
   "execution_count": 105,
   "metadata": {
    "collapsed": false
   },
   "outputs": [
    {
     "output_type": "execute_result",
     "data": {
      "text/plain": "27"
     },
     "metadata": {},
     "execution_count": 105
    }
   ],
   "source": [
    "my_array[5,2] # in normalen Sprachen eigenlich [5][2] in Python funktioniert beides (siehe unten)"
   ]
  },
  {
   "cell_type": "code",
   "execution_count": 106,
   "metadata": {
    "collapsed": false
   },
   "outputs": [
    {
     "output_type": "execute_result",
     "data": {
      "text/plain": "27"
     },
     "metadata": {},
     "execution_count": 106
    }
   ],
   "source": [
    "row = 5\n",
    "column = 2\n",
    "my_array[row, column]"
   ]
  },
  {
   "cell_type": "code",
   "execution_count": 107,
   "metadata": {
    "collapsed": false
   },
   "outputs": [
    {
     "output_type": "execute_result",
     "data": {
      "text/plain": "27"
     },
     "metadata": {},
     "execution_count": 107
    }
   ],
   "source": [
    "my_array[5][2]"
   ]
  },
  {
   "cell_type": "markdown",
   "metadata": {},
   "source": [
    "### Three Dimensional Arrays"
   ]
  },
  {
   "cell_type": "code",
   "execution_count": 108,
   "metadata": {
    "collapsed": false
   },
   "outputs": [
    {
     "output_type": "execute_result",
     "data": {
      "text/plain": "array([[[ 0,  1,  2,  3,  4],\n        [ 5,  6,  7,  8,  9],\n        [10, 11, 12, 13, 14],\n        [15, 16, 17, 18, 19],\n        [20, 21, 22, 23, 24],\n        [25, 26, 27, 28, 29],\n        [30, 31, 32, 33, 34]],\n\n       [[35, 36, 37, 38, 39],\n        [40, 41, 42, 43, 44],\n        [45, 46, 47, 48, 49],\n        [50, 51, 52, 53, 54],\n        [55, 56, 57, 58, 59],\n        [60, 61, 62, 63, 64],\n        [65, 66, 67, 68, 69]]])"
     },
     "metadata": {},
     "execution_count": 108
    }
   ],
   "source": [
    "my_3D_array = np.arange(70)\n",
    "my_3D_array.shape = (2, 7, 5)\n",
    "my_3D_array"
   ]
  },
  {
   "cell_type": "code",
   "execution_count": 109,
   "metadata": {
    "collapsed": false
   },
   "outputs": [
    {
     "output_type": "execute_result",
     "data": {
      "text/plain": "array([[35, 36, 37, 38, 39],\n       [40, 41, 42, 43, 44],\n       [45, 46, 47, 48, 49],\n       [50, 51, 52, 53, 54],\n       [55, 56, 57, 58, 59],\n       [60, 61, 62, 63, 64],\n       [65, 66, 67, 68, 69]])"
     },
     "metadata": {},
     "execution_count": 109
    }
   ],
   "source": [
    "my_3D_array[1]"
   ]
  },
  {
   "cell_type": "code",
   "execution_count": 110,
   "metadata": {
    "collapsed": false
   },
   "outputs": [
    {
     "output_type": "execute_result",
     "data": {
      "text/plain": "array([50, 51, 52, 53, 54])"
     },
     "metadata": {},
     "execution_count": 110
    }
   ],
   "source": [
    "my_3D_array[1,3]"
   ]
  },
  {
   "cell_type": "code",
   "execution_count": 111,
   "metadata": {
    "collapsed": false
   },
   "outputs": [],
   "source": [
    "my_3D_array[1,3,2] =1111"
   ]
  },
  {
   "cell_type": "code",
   "execution_count": 112,
   "metadata": {
    "collapsed": false
   },
   "outputs": [
    {
     "output_type": "execute_result",
     "data": {
      "text/plain": "array([[[   0,    1,    2,    3,    4],\n        [   5,    6,    7,    8,    9],\n        [  10,   11,   12,   13,   14],\n        [  15,   16,   17,   18,   19],\n        [  20,   21,   22,   23,   24],\n        [  25,   26,   27,   28,   29],\n        [  30,   31,   32,   33,   34]],\n\n       [[  35,   36,   37,   38,   39],\n        [  40,   41,   42,   43,   44],\n        [  45,   46,   47,   48,   49],\n        [  50,   51, 1111,   53,   54],\n        [  55,   56,   57,   58,   59],\n        [  60,   61,   62,   63,   64],\n        [  65,   66,   67,   68,   69]]])"
     },
     "metadata": {},
     "execution_count": 112
    }
   ],
   "source": [
    "my_3D_array"
   ]
  },
  {
   "cell_type": "markdown",
   "metadata": {
    "collapsed": true
   },
   "source": [
    "<h1> 2 - Boolean Mask Arrays</h1>"
   ]
  },
  {
   "cell_type": "code",
   "execution_count": 113,
   "metadata": {},
   "outputs": [],
   "source": [
    "import numpy as np"
   ]
  },
  {
   "cell_type": "code",
   "execution_count": 114,
   "metadata": {},
   "outputs": [
    {
     "output_type": "execute_result",
     "data": {
      "text/plain": "array([-17,  -4,   0,   2,  21,  37, 105])"
     },
     "metadata": {},
     "execution_count": 114
    }
   ],
   "source": [
    "my_vector = np.array([-17, -4, 0, 2, 21, 37, 105])\n",
    "my_vector"
   ]
  },
  {
   "cell_type": "code",
   "execution_count": 115,
   "metadata": {},
   "outputs": [
    {
     "output_type": "execute_result",
     "data": {
      "text/plain": "array([False, False,  True, False,  True, False,  True])"
     },
     "metadata": {},
     "execution_count": 115
    }
   ],
   "source": [
    "zero_mod_7_mask = 0 == (my_vector % 7) # also wird True/False eingetragen wenn Modulo 0 liefert\n",
    "zero_mod_7_mask"
   ]
  },
  {
   "cell_type": "code",
   "execution_count": 116,
   "metadata": {},
   "outputs": [
    {
     "output_type": "execute_result",
     "data": {
      "text/plain": "array([  0,  21, 105])"
     },
     "metadata": {},
     "execution_count": 116
    }
   ],
   "source": [
    "sub_array = my_vector[zero_mod_7_mask] # liefert nur Elemente die True hatten\n",
    "sub_array"
   ]
  },
  {
   "cell_type": "code",
   "execution_count": 117,
   "metadata": {},
   "outputs": [
    {
     "output_type": "execute_result",
     "data": {
      "text/plain": "array([[-17,  -4,   0,   2,  21,  37, 105]])"
     },
     "metadata": {},
     "execution_count": 117
    }
   ],
   "source": [
    "my_vector[True]"
   ]
  },
  {
   "cell_type": "code",
   "execution_count": 118,
   "metadata": {},
   "outputs": [
    {
     "output_type": "execute_result",
     "data": {
      "text/plain": "array([], shape=(0, 7), dtype=int64)"
     },
     "metadata": {},
     "execution_count": 118
    }
   ],
   "source": [
    "my_vector[False]"
   ]
  },
  {
   "cell_type": "code",
   "execution_count": 119,
   "metadata": {},
   "outputs": [
    {
     "output_type": "execute_result",
     "data": {
      "text/plain": "array([-17,   0,  21])"
     },
     "metadata": {},
     "execution_count": 119
    }
   ],
   "source": [
    "my_vector[[True, False, True, False, True, False, False]] # hier werden Elemente der Arrays vergliechen und nur die True liefert werden ausgegeben (einbisschen wie && und || in JS)"
   ]
  },
  {
   "cell_type": "code",
   "execution_count": 120,
   "metadata": {},
   "outputs": [
    {
     "output_type": "execute_result",
     "data": {
      "text/plain": "array([ 21, 105])"
     },
     "metadata": {},
     "execution_count": 120
    }
   ],
   "source": [
    "sub_array[sub_array>0] # hier wird 0 rausgenommen"
   ]
  },
  {
   "cell_type": "code",
   "execution_count": 121,
   "metadata": {},
   "outputs": [
    {
     "output_type": "execute_result",
     "data": {
      "text/plain": "array([False, False,  True, False,  True, False,  True])"
     },
     "metadata": {},
     "execution_count": 121
    }
   ],
   "source": [
    "mod_test = 0 == (my_vector % 7)\n",
    "mod_test"
   ]
  },
  {
   "cell_type": "code",
   "execution_count": 122,
   "metadata": {},
   "outputs": [
    {
     "output_type": "execute_result",
     "data": {
      "text/plain": "array([False, False, False,  True,  True,  True,  True])"
     },
     "metadata": {},
     "execution_count": 122
    }
   ],
   "source": [
    "positive_test = my_vector > 0 # jedes Element wird auf > 0 verglichen, wenn True wird ausgegeben\n",
    "positive_test"
   ]
  },
  {
   "cell_type": "code",
   "execution_count": 123,
   "metadata": {},
   "outputs": [
    {
     "output_type": "execute_result",
     "data": {
      "text/plain": "array([False, False, False, False,  True, False,  True])"
     },
     "metadata": {},
     "execution_count": 123
    }
   ],
   "source": [
    "combined_mask = np.logical_and(mod_test, positive_test) # logisches und für Elementen mit True für mod_test und positive_test\n",
    "combined_mask"
   ]
  },
  {
   "cell_type": "code",
   "execution_count": 124,
   "metadata": {},
   "outputs": [
    {
     "output_type": "execute_result",
     "data": {
      "text/plain": "array([ 21, 105])"
     },
     "metadata": {},
     "execution_count": 124
    }
   ],
   "source": [
    "my_vector[combined_mask]"
   ]
  },
  {
   "cell_type": "code",
   "execution_count": 125,
   "metadata": {},
   "outputs": [
    {
     "output_type": "error",
     "ename": "SyntaxError",
     "evalue": "invalid syntax (<ipython-input-125-c2309856d499>, line 1)",
     "traceback": [
      "\u001b[0;36m  File \u001b[0;32m\"<ipython-input-125-c2309856d499>\"\u001b[0;36m, line \u001b[0;32m1\u001b[0m\n\u001b[0;31m    Also:\u001b[0m\n\u001b[0m           ^\u001b[0m\n\u001b[0;31mSyntaxError\u001b[0m\u001b[0;31m:\u001b[0m invalid syntax\n"
     ]
    }
   ],
   "source": [
    "Also:  \n",
    "man kann die Indexes oder die logischen Methoden von NumPy verweden. logischen Methoden sind besser, wenn die Arrays zu groß sind"
   ]
  },
  {
   "cell_type": "markdown",
   "metadata": {},
   "source": [
    "<h1>3 - Broadcasting</h1>"
   ]
  },
  {
   "cell_type": "markdown",
   "metadata": {},
   "source": [
    "Broadcasting = beschreibt wie NumPy Operationen ausführen, wenn Array nicht gleiche Größe haben"
   ]
  },
  {
   "cell_type": "code",
   "execution_count": 126,
   "metadata": {},
   "outputs": [],
   "source": [
    "import numpy as np"
   ]
  },
  {
   "cell_type": "markdown",
   "metadata": {},
   "source": [
    "* Broadcast beschreibt wie NumPy Operationen an Array mit verschiedenen Dimensionen ausführt.\n",
    "    * Arrays müssen kompatibel sein:\n",
    "        1. die Größen (`size`-Attribute von NumPy-Array) sind gleich\n",
    "        2. mindestens eine Größe ist 0\n",
    "* kleinere Array werden an größere Array angepasst"
   ]
  },
  {
   "cell_type": "code",
   "execution_count": 127,
   "metadata": {},
   "outputs": [
    {
     "output_type": "execute_result",
     "data": {
      "text/plain": "array([[[ 0,  1,  2,  3,  4],\n        [ 5,  6,  7,  8,  9],\n        [10, 11, 12, 13, 14],\n        [15, 16, 17, 18, 19],\n        [20, 21, 22, 23, 24],\n        [25, 26, 27, 28, 29],\n        [30, 31, 32, 33, 34]],\n\n       [[35, 36, 37, 38, 39],\n        [40, 41, 42, 43, 44],\n        [45, 46, 47, 48, 49],\n        [50, 51, 52, 53, 54],\n        [55, 56, 57, 58, 59],\n        [60, 61, 62, 63, 64],\n        [65, 66, 67, 68, 69]]])"
     },
     "metadata": {},
     "execution_count": 127
    }
   ],
   "source": [
    "my_3D_array = np.arange(70)\n",
    "my_3D_array.shape = (2,7,5)\n",
    "my_3D_array"
   ]
  },
  {
   "cell_type": "code",
   "execution_count": 128,
   "metadata": {},
   "outputs": [
    {
     "output_type": "execute_result",
     "data": {
      "text/plain": "(2, 7, 5)"
     },
     "metadata": {},
     "execution_count": 128
    }
   ],
   "source": [
    "# shape\n",
    "my_3D_array.shape # .shape - Attribute anzeigen"
   ]
  },
  {
   "cell_type": "code",
   "execution_count": 129,
   "metadata": {},
   "outputs": [
    {
     "output_type": "execute_result",
     "data": {
      "text/plain": "3"
     },
     "metadata": {},
     "execution_count": 129
    }
   ],
   "source": [
    "# number of dimensions\n",
    "my_3D_array.ndim # .dim - Dimension anzeigen"
   ]
  },
  {
   "cell_type": "code",
   "execution_count": 130,
   "metadata": {},
   "outputs": [
    {
     "output_type": "execute_result",
     "data": {
      "text/plain": "70"
     },
     "metadata": {},
     "execution_count": 130
    }
   ],
   "source": [
    "# size; number of elements\n",
    "my_3D_array.size # .size - Anzahl der Elemente in Array insgesamt"
   ]
  },
  {
   "cell_type": "code",
   "execution_count": 131,
   "metadata": {},
   "outputs": [
    {
     "output_type": "execute_result",
     "data": {
      "text/plain": "35"
     },
     "metadata": {},
     "execution_count": 131
    }
   ],
   "source": [
    "my_3D_array[0].size"
   ]
  },
  {
   "cell_type": "code",
   "execution_count": 132,
   "metadata": {},
   "outputs": [
    {
     "output_type": "execute_result",
     "data": {
      "text/plain": "dtype('int64')"
     },
     "metadata": {},
     "execution_count": 132
    }
   ],
   "source": [
    "# data type for each element\n",
    "my_3D_array.dtype # .dtype = Typ der Array bzw. der Elemente anzeigen"
   ]
  },
  {
   "cell_type": "code",
   "execution_count": 133,
   "metadata": {},
   "outputs": [
    {
     "output_type": "execute_result",
     "data": {
      "text/plain": "array([[[ -2,   3,   8,  13,  18],\n        [ 23,  28,  33,  38,  43],\n        [ 48,  53,  58,  63,  68],\n        [ 73,  78,  83,  88,  93],\n        [ 98, 103, 108, 113, 118],\n        [123, 128, 133, 138, 143],\n        [148, 153, 158, 163, 168]],\n\n       [[173, 178, 183, 188, 193],\n        [198, 203, 208, 213, 218],\n        [223, 228, 233, 238, 243],\n        [248, 253, 258, 263, 268],\n        [273, 278, 283, 288, 293],\n        [298, 303, 308, 313, 318],\n        [323, 328, 333, 338, 343]]])"
     },
     "metadata": {},
     "execution_count": 133
    }
   ],
   "source": [
    "5 * my_3D_array - 2 # jedes Element * 5 dann - 2 <- hier greift NumPy-Broadcasting-Regel ein => Broadcasting-Rules behandeln Skalare als Array aus einem Element (wird an größten Array angepasst)"
   ]
  },
  {
   "cell_type": "code",
   "execution_count": 134,
   "metadata": {},
   "outputs": [],
   "source": [
    "left_mat = np.arange(6).reshape((2,3)) \n",
    "right_mat = np.arange(15).reshape((3,5))"
   ]
  },
  {
   "cell_type": "code",
   "execution_count": 135,
   "metadata": {},
   "outputs": [
    {
     "output_type": "execute_result",
     "data": {
      "text/plain": "array([[0, 1, 2],\n       [3, 4, 5]])"
     },
     "metadata": {},
     "execution_count": 135
    }
   ],
   "source": [
    "left_mat"
   ]
  },
  {
   "cell_type": "code",
   "execution_count": 136,
   "metadata": {},
   "outputs": [
    {
     "output_type": "execute_result",
     "data": {
      "text/plain": "array([[ 0,  1,  2,  3,  4],\n       [ 5,  6,  7,  8,  9],\n       [10, 11, 12, 13, 14]])"
     },
     "metadata": {},
     "execution_count": 136
    }
   ],
   "source": [
    "right_mat"
   ]
  },
  {
   "cell_type": "code",
   "execution_count": 137,
   "metadata": {},
   "outputs": [
    {
     "output_type": "error",
     "ename": "ValueError",
     "evalue": "shapes (2,3) and (5,3) not aligned: 3 (dim 1) != 5 (dim 0)",
     "traceback": [
      "\u001b[0;31m---------------------------------------------------------------------------\u001b[0m",
      "\u001b[0;31mValueError\u001b[0m                                Traceback (most recent call last)",
      "\u001b[0;32m<ipython-input-137-0f7f787f732a>\u001b[0m in \u001b[0;36m<module>\u001b[0;34m\u001b[0m\n\u001b[0;32m----> 1\u001b[0;31m \u001b[0mnp\u001b[0m\u001b[0;34m.\u001b[0m\u001b[0minner\u001b[0m\u001b[0;34m(\u001b[0m\u001b[0mleft_mat\u001b[0m\u001b[0;34m,\u001b[0m \u001b[0mright_mat\u001b[0m\u001b[0;34m)\u001b[0m \u001b[0;31m# da die Matrizen unpassend für Kreuz-Produkt sind\u001b[0m\u001b[0;34m\u001b[0m\u001b[0;34m\u001b[0m\u001b[0m\n\u001b[0m",
      "\u001b[0;32m<__array_function__ internals>\u001b[0m in \u001b[0;36minner\u001b[0;34m(*args, **kwargs)\u001b[0m\n",
      "\u001b[0;31mValueError\u001b[0m: shapes (2,3) and (5,3) not aligned: 3 (dim 1) != 5 (dim 0)"
     ]
    }
   ],
   "source": [
    "np.inner(left_mat, right_mat) # da die Matrizen unpassend für Kreuz-Produkt sind"
   ]
  },
  {
   "cell_type": "code",
   "execution_count": 138,
   "metadata": {},
   "outputs": [
    {
     "output_type": "execute_result",
     "data": {
      "text/plain": "array([[ 25,  28,  31,  34,  37],\n       [ 70,  82,  94, 106, 118]])"
     },
     "metadata": {},
     "execution_count": 138
    }
   ],
   "source": [
    "np.dot(left_mat, right_mat) # hier ist Ok da Matrizen passend für Punkt-Produkt sind"
   ]
  },
  {
   "cell_type": "markdown",
   "metadata": {},
   "source": [
    "### Operations along axes"
   ]
  },
  {
   "cell_type": "code",
   "execution_count": 139,
   "metadata": {},
   "outputs": [
    {
     "output_type": "execute_result",
     "data": {
      "text/plain": "array([[[ 0,  1,  2,  3,  4],\n        [ 5,  6,  7,  8,  9],\n        [10, 11, 12, 13, 14],\n        [15, 16, 17, 18, 19],\n        [20, 21, 22, 23, 24],\n        [25, 26, 27, 28, 29],\n        [30, 31, 32, 33, 34]],\n\n       [[35, 36, 37, 38, 39],\n        [40, 41, 42, 43, 44],\n        [45, 46, 47, 48, 49],\n        [50, 51, 52, 53, 54],\n        [55, 56, 57, 58, 59],\n        [60, 61, 62, 63, 64],\n        [65, 66, 67, 68, 69]]])"
     },
     "metadata": {},
     "execution_count": 139
    }
   ],
   "source": [
    "my_3D_array"
   ]
  },
  {
   "cell_type": "code",
   "execution_count": 140,
   "metadata": {},
   "outputs": [
    {
     "output_type": "execute_result",
     "data": {
      "text/plain": "(2, 7, 5)"
     },
     "metadata": {},
     "execution_count": 140
    }
   ],
   "source": [
    "# shape\n",
    "my_3D_array.shape"
   ]
  },
  {
   "cell_type": "code",
   "execution_count": 141,
   "metadata": {},
   "outputs": [
    {
     "output_type": "execute_result",
     "data": {
      "text/plain": "2415"
     },
     "metadata": {},
     "execution_count": 141
    }
   ],
   "source": [
    "my_3D_array.sum()"
   ]
  },
  {
   "cell_type": "code",
   "execution_count": 142,
   "metadata": {},
   "outputs": [
    {
     "output_type": "execute_result",
     "data": {
      "text/plain": "2415.0"
     },
     "metadata": {},
     "execution_count": 142
    }
   ],
   "source": [
    "(69 * 70)/2 # ist die Gauß-Formel um das gleiche zu erhalten"
   ]
  },
  {
   "cell_type": "code",
   "execution_count": 143,
   "metadata": {},
   "outputs": [
    {
     "output_type": "execute_result",
     "data": {
      "text/plain": "array([[ 35,  37,  39,  41,  43],\n       [ 45,  47,  49,  51,  53],\n       [ 55,  57,  59,  61,  63],\n       [ 65,  67,  69,  71,  73],\n       [ 75,  77,  79,  81,  83],\n       [ 85,  87,  89,  91,  93],\n       [ 95,  97,  99, 101, 103]])"
     },
     "metadata": {},
     "execution_count": 143
    }
   ],
   "source": [
    "my_3D_array.sum(axis=0) # also my_3D_array[0][0][0] + my_3D_array[1][0][0] + ;  my_3D_array[0][1][0] + my_3D_array[1][1][0]; usw. Also gie gleichen Element aus Matrix 0 und 1"
   ]
  },
  {
   "cell_type": "code",
   "execution_count": 144,
   "metadata": {},
   "outputs": [
    {
     "output_type": "execute_result",
     "data": {
      "text/plain": "array([[105, 112, 119, 126, 133],\n       [350, 357, 364, 371, 378]])"
     },
     "metadata": {},
     "execution_count": 144
    }
   ],
   "source": [
    "my_3D_array.sum(axis=1) # also my_3D_array[0][1][0] + my_3D_array[0][1][0] + ... my_3D_array[1][0][0] + my_3D_array[0][1][1] + ...; "
   ]
  },
  {
   "cell_type": "code",
   "execution_count": 145,
   "metadata": {},
   "outputs": [
    {
     "output_type": "execute_result",
     "data": {
      "text/plain": "array([[ 10,  35,  60,  85, 110, 135, 160],\n       [185, 210, 235, 260, 285, 310, 335]])"
     },
     "metadata": {},
     "execution_count": 145
    }
   ],
   "source": [
    "my_3D_array.sum(axis=2) # also my_3D_array[0][0][1] + my_3D_array[0][0][2] + ...; my_3D_array[0][1][0] + my_3D_array[0][1][1] + ...; usw"
   ]
  },
  {
   "cell_type": "markdown",
   "metadata": {},
   "source": [
    "<h2>Broadcasting Rules</h2>"
   ]
  },
  {
   "cell_type": "code",
   "execution_count": 146,
   "metadata": {},
   "outputs": [
    {
     "output_type": "execute_result",
     "data": {
      "text/plain": "array([[3, 3, 3, 3, 3],\n       [3, 3, 3, 3, 3],\n       [3, 3, 3, 3, 3],\n       [3, 3, 3, 3, 3],\n       [3, 3, 3, 3, 3],\n       [3, 3, 3, 3, 3],\n       [3, 3, 3, 3, 3]])"
     },
     "metadata": {},
     "execution_count": 146
    }
   ],
   "source": [
    "my_2D_array = np.ones(35, dtype='int_').reshape((7,5)) * 3\n",
    "my_2D_array"
   ]
  },
  {
   "cell_type": "code",
   "execution_count": 147,
   "metadata": {},
   "outputs": [
    {
     "output_type": "execute_result",
     "data": {
      "text/plain": "array([[0.4212, 0.4761, 0.5519, 0.4175, 0.1035],\n       [0.7987, 0.3284, 0.1509, 0.3218, 0.546 ],\n       [0.3235, 0.6645, 0.7597, 0.6512, 0.7072],\n       [0.6978, 0.3834, 0.2228, 0.2394, 0.7743],\n       [0.7252, 0.7977, 0.6373, 0.8474, 0.1633],\n       [0.7574, 0.7876, 0.847 , 0.3888, 0.568 ],\n       [0.6644, 0.2616, 0.0358, 0.779 , 0.7136]])"
     },
     "metadata": {},
     "execution_count": 147
    }
   ],
   "source": [
    "my_random_2D_array = np.random.random((7,5))\n",
    "my_random_2D_array"
   ]
  },
  {
   "cell_type": "code",
   "execution_count": 148,
   "metadata": {},
   "outputs": [
    {
     "output_type": "execute_result",
     "data": {
      "text/plain": "array([[[ 0.    ,  0.4761,  1.1037,  1.2525,  0.4141],\n        [ 3.9933,  1.9702,  1.056 ,  2.5743,  4.9138],\n        [ 3.2347,  7.3096,  9.1162,  8.4657,  9.9013],\n        [10.4671,  6.1344,  3.787 ,  4.3088, 14.7113],\n        [14.5043, 16.7512, 14.0217, 19.4906,  3.9181],\n        [18.9361, 20.4764, 22.8692, 10.8873, 16.4732],\n        [19.9319,  8.1103,  1.1442, 25.7084, 24.264 ]],\n\n       [[14.7432, 17.1392, 20.4194, 15.8644,  4.0372],\n        [31.9467, 13.4632,  6.336 , 13.8367, 24.0229],\n        [14.5561, 30.5672, 35.7052, 31.2581, 34.6547],\n        [34.8902, 19.5535, 11.5838, 12.687 , 41.8112],\n        [39.8868, 44.6699, 36.3289, 49.1502,  9.6321],\n        [45.4466, 48.0408, 52.5144, 24.4964, 36.3547],\n        [43.1857, 17.2671,  2.3957, 52.9748, 49.2417]]])"
     },
     "metadata": {},
     "execution_count": 148
    }
   ],
   "source": [
    "np.set_printoptions(precision=4) # Ausgabe für Elemente auf 4 Nachkommastellen einstellen\n",
    "my_3D_array * my_random_2D_array # alles OK => intern werden Broadcasting Regeln gecheckt, da kein Error => beide Arrays sind Kompatibel zu einander für Multiplikaitoin via Broadcasting"
   ]
  },
  {
   "cell_type": "code",
   "execution_count": 149,
   "metadata": {},
   "outputs": [
    {
     "output_type": "execute_result",
     "data": {
      "text/plain": "array([-1,  7, 14, 21, 28])"
     },
     "metadata": {},
     "execution_count": 149
    }
   ],
   "source": [
    "my_vector = np.arange(5) * 7 # 1-Dim Array \n",
    "my_vector[0] = -1\n",
    "my_vector"
   ]
  },
  {
   "cell_type": "code",
   "execution_count": 150,
   "metadata": {},
   "outputs": [
    {
     "output_type": "execute_result",
     "data": {
      "text/plain": "array([[[ -0.    ,   0.1429,   0.1429,   0.1429,   0.1429],\n        [ -5.    ,   0.8571,   0.5   ,   0.381 ,   0.3214],\n        [-10.    ,   1.5714,   0.8571,   0.619 ,   0.5   ],\n        [-15.    ,   2.2857,   1.2143,   0.8571,   0.6786],\n        [-20.    ,   3.    ,   1.5714,   1.0952,   0.8571],\n        [-25.    ,   3.7143,   1.9286,   1.3333,   1.0357],\n        [-30.    ,   4.4286,   2.2857,   1.5714,   1.2143]],\n\n       [[-35.    ,   5.1429,   2.6429,   1.8095,   1.3929],\n        [-40.    ,   5.8571,   3.    ,   2.0476,   1.5714],\n        [-45.    ,   6.5714,   3.3571,   2.2857,   1.75  ],\n        [-50.    ,   7.2857,   3.7143,   2.5238,   1.9286],\n        [-55.    ,   8.    ,   4.0714,   2.7619,   2.1071],\n        [-60.    ,   8.7143,   4.4286,   3.    ,   2.2857],\n        [-65.    ,   9.4286,   4.7857,   3.2381,   2.4643]]])"
     },
     "metadata": {},
     "execution_count": 150
    }
   ],
   "source": [
    "my_3D_array / my_vector"
   ]
  },
  {
   "cell_type": "code",
   "execution_count": 151,
   "metadata": {},
   "outputs": [
    {
     "output_type": "execute_result",
     "data": {
      "text/plain": "array([[[ 0,  1,  2,  3,  4],\n        [ 0,  6,  7,  8,  9],\n        [ 0,  4, 12, 13, 14],\n        [ 0,  2,  3, 18, 19],\n        [ 0,  0,  8,  2, 24],\n        [ 0,  5, 13,  7,  1],\n        [ 0,  3,  4, 12,  6]],\n\n       [[ 0,  1,  9, 17, 11],\n        [ 0,  6,  0,  1, 16],\n        [ 0,  4,  5,  6, 21],\n        [ 0,  2, 10, 11, 26],\n        [ 0,  0,  1, 16,  3],\n        [ 0,  5,  6,  0,  8],\n        [ 0,  3, 11,  5, 13]]])"
     },
     "metadata": {},
     "execution_count": 151
    }
   ],
   "source": [
    "my_3D_array % my_vector"
   ]
  },
  {
   "cell_type": "markdown",
   "metadata": {},
   "source": [
    "# 4 - Structured and record arrays"
   ]
  },
  {
   "cell_type": "markdown",
   "metadata": {},
   "source": [
    "### Creating Structured Arrays"
   ]
  },
  {
   "cell_type": "code",
   "execution_count": 152,
   "metadata": {},
   "outputs": [],
   "source": [
    "import numpy as np"
   ]
  },
  {
   "cell_type": "code",
   "execution_count": 153,
   "metadata": {},
   "outputs": [
    {
     "output_type": "execute_result",
     "data": {
      "text/plain": "[('name', 'S6'), ('height', 'f8'), ('weight', 'f8'), ('age', 'i8')]"
     },
     "metadata": {},
     "execution_count": 153
    }
   ],
   "source": [
    "person_data_def = [('name','S6'),('height','f8'),('weight','f8'), ('age', 'i8')] # hier wird eigentlich Typ definiert (man muss in Doku schauen, was S6, f8, i8 bedeuten (wahrscheinlich Datentypen)) ! wahrscheinlich wie man eigene Typen für NumPy-Arrays definiert\n",
    "person_data_def"
   ]
  },
  {
   "cell_type": "code",
   "execution_count": 154,
   "metadata": {},
   "outputs": [
    {
     "output_type": "execute_result",
     "data": {
      "text/plain": "array([(b'', 0., 0., 0), (b'', 0., 0., 0), (b'', 0., 0., 0),\n       (b'', 0., 0., 0)],\n      dtype=[('name', 'S6'), ('height', '<f8'), ('weight', '<f8'), ('age', '<i8')])"
     },
     "metadata": {},
     "execution_count": 154
    }
   ],
   "source": [
    "people_array = np.zeros((4,), dtype=person_data_def) # array aus 4 Elementen, jedes Element ist vom Typ person_data_def \n",
    "people_array # der Inhalte der Elemente wird auf NULL gesetzt"
   ]
  },
  {
   "cell_type": "code",
   "execution_count": 155,
   "metadata": {},
   "outputs": [
    {
     "output_type": "execute_result",
     "data": {
      "text/plain": "array([(b'', 0., 0., 0), (b'', 0., 0., 0)],\n      dtype=[('name', 'S6'), ('height', '<f8'), ('weight', '<f8'), ('age', '<i8')])"
     },
     "metadata": {},
     "execution_count": 155
    }
   ],
   "source": [
    "people_array2 = np.zeros((2,), dtype=person_data_def)\n",
    "people_array2"
   ]
  },
  {
   "cell_type": "code",
   "execution_count": 156,
   "metadata": {},
   "outputs": [
    {
     "output_type": "execute_result",
     "data": {
      "text/plain": "array([(b'Alpha', 65., 112., 23), (b'',  0.,   0.,  0),\n       (b'',  0.,   0.,  0), (b'Delta', 73., 205., 34)],\n      dtype=[('name', 'S6'), ('height', '<f8'), ('weight', '<f8'), ('age', '<i8')])"
     },
     "metadata": {},
     "execution_count": 156
    }
   ],
   "source": [
    "people_array[3] = ('Delta', 73, 205, 34) # (name=Delta, height=73, weight=205, age=34)\n",
    "people_array[0] = ('Alpha', 65, 112, 23)\n",
    "people_array"
   ]
  },
  {
   "cell_type": "code",
   "execution_count": 157,
   "metadata": {},
   "outputs": [
    {
     "output_type": "execute_result",
     "data": {
      "text/plain": "array([(b'Alpha', 65., 112., 23), (b'',  0.,   0.,  0),\n       (b'',  0.,   0.,  0), (b'Delta', 73., 205., 34)],\n      dtype=[('name', 'S6'), ('height', '<f8'), ('weight', '<f8'), ('age', '<i8')])"
     },
     "metadata": {},
     "execution_count": 157
    }
   ],
   "source": [
    "people_array[0:]"
   ]
  },
  {
   "cell_type": "code",
   "execution_count": 158,
   "metadata": {},
   "outputs": [
    {
     "output_type": "execute_result",
     "data": {
      "text/plain": "array([23,  0,  0, 34])"
     },
     "metadata": {},
     "execution_count": 158
    }
   ],
   "source": [
    "ages = people_array['age'] # nur `age` aus den einzelnen Elementen holen\n",
    "ages"
   ]
  },
  {
   "cell_type": "code",
   "execution_count": 159,
   "metadata": {},
   "outputs": [
    {
     "output_type": "execute_result",
     "data": {
      "text/plain": "numpy.ndarray"
     },
     "metadata": {},
     "execution_count": 159
    }
   ],
   "source": [
    "type(ages)"
   ]
  },
  {
   "cell_type": "code",
   "execution_count": 160,
   "metadata": {},
   "outputs": [
    {
     "output_type": "execute_result",
     "data": {
      "text/plain": "array([11.5,  0. ,  0. , 17. ])"
     },
     "metadata": {},
     "execution_count": 160
    }
   ],
   "source": [
    "make_youthful = ages / 2 # Broadcastin-Regeln werden angewednet da (siehe oben ist NumPy-Array)\n",
    "make_youthful"
   ]
  },
  {
   "cell_type": "code",
   "execution_count": 161,
   "metadata": {},
   "outputs": [
    {
     "output_type": "execute_result",
     "data": {
      "text/plain": "array([(b'Alpha', 65., 112., 23), (b'',  0.,   0.,  0),\n       (b'',  0.,   0.,  0), (b'Delta', 73., 205., 34)],\n      dtype=[('name', 'S6'), ('height', '<f8'), ('weight', '<f8'), ('age', '<i8')])"
     },
     "metadata": {},
     "execution_count": 161
    }
   ],
   "source": [
    "people_array"
   ]
  },
  {
   "cell_type": "code",
   "execution_count": 162,
   "metadata": {},
   "outputs": [
    {
     "output_type": "execute_result",
     "data": {
      "text/plain": "array([23,  0,  0, 34])"
     },
     "metadata": {},
     "execution_count": 162
    }
   ],
   "source": [
    "ages"
   ]
  },
  {
   "cell_type": "markdown",
   "metadata": {},
   "source": [
    "### Multi-dimensional Structured Arrays"
   ]
  },
  {
   "cell_type": "code",
   "execution_count": 163,
   "metadata": {},
   "outputs": [
    {
     "output_type": "execute_result",
     "data": {
      "text/plain": "array([[[(b'', 0., 0., 0), (b'', 0., 0., 0)],\n        [(b'', 0., 0., 0), (b'', 0., 0., 0)],\n        [(b'', 0., 0., 0), (b'', 0., 0., 0)]],\n\n       [[(b'', 0., 0., 0), (b'', 0., 0., 0)],\n        [(b'', 0., 0., 0), (b'', 0., 0., 0)],\n        [(b'', 0., 0., 0), (b'', 0., 0., 0)]],\n\n       [[(b'', 0., 0., 0), (b'', 0., 0., 0)],\n        [(b'', 0., 0., 0), (b'', 0., 0., 0)],\n        [(b'', 0., 0., 0), (b'', 0., 0., 0)]],\n\n       [[(b'', 0., 0., 0), (b'', 0., 0., 0)],\n        [(b'', 0., 0., 0), (b'', 0., 0., 0)],\n        [(b'', 0., 0., 0), (b'', 0., 0., 0)]]],\n      dtype=[('name', 'S6'), ('height', '<f8'), ('weight', '<f8'), ('age', '<i8')])"
     },
     "metadata": {},
     "execution_count": 163
    }
   ],
   "source": [
    "people_big_array = np.zeros((4,3,2), dtype=person_data_def)\n",
    "people_big_array"
   ]
  },
  {
   "cell_type": "code",
   "execution_count": 164,
   "metadata": {},
   "outputs": [
    {
     "output_type": "execute_result",
     "data": {
      "text/plain": "numpy.ndarray"
     },
     "metadata": {},
     "execution_count": 164
    }
   ],
   "source": [
    "type(people_big_array)"
   ]
  },
  {
   "cell_type": "code",
   "execution_count": 165,
   "metadata": {},
   "outputs": [
    {
     "output_type": "execute_result",
     "data": {
      "text/plain": "array([[[(b'',  0.,   0.,  0), (b'',  0.,   0.,  0)],\n        [(b'',  0.,   0.,  0), (b'',  0.,   0.,  0)],\n        [(b'',  0.,   0.,  0), (b'',  0.,   0.,  0)]],\n\n       [[(b'',  0.,   0.,  0), (b'',  0.,   0.,  0)],\n        [(b'',  0.,   0.,  0), (b'',  0.,   0.,  0)],\n        [(b'',  0.,   0.,  0), (b'',  0.,   0.,  0)]],\n\n       [[(b'',  0.,   0.,  0), (b'',  0.,   0.,  0)],\n        [(b'',  0.,   0.,  0), (b'',  0.,   0.,  0)],\n        [(b'',  0.,   0.,  0), (b'',  0.,   0.,  0)]],\n\n       [[(b'',  0.,   0.,  0), (b'',  0.,   0.,  0)],\n        [(b'',  0.,   0.,  0), (b'',  0.,   0.,  0)],\n        [(b'',  0.,   0.,  0), (b'Echo', 68., 155., 46)]]],\n      dtype=[('name', 'S6'), ('height', '<f8'), ('weight', '<f8'), ('age', '<i8')])"
     },
     "metadata": {},
     "execution_count": 165
    }
   ],
   "source": [
    "people_big_array[3,2,1] = ('Echo', 68, 155, 46)\n",
    "people_big_array"
   ]
  },
  {
   "cell_type": "code",
   "execution_count": 166,
   "metadata": {},
   "outputs": [
    {
     "output_type": "execute_result",
     "data": {
      "text/plain": "array([[[ 0.,  0.],\n        [ 0.,  0.],\n        [ 0.,  0.]],\n\n       [[ 0.,  0.],\n        [ 0.,  0.],\n        [ 0.,  0.]],\n\n       [[ 0.,  0.],\n        [ 0.,  0.],\n        [ 0.,  0.]],\n\n       [[ 0.,  0.],\n        [ 0.,  0.],\n        [ 0., 68.]]])"
     },
     "metadata": {},
     "execution_count": 166
    }
   ],
   "source": [
    "people_big_array['height']"
   ]
  },
  {
   "cell_type": "code",
   "execution_count": 167,
   "metadata": {},
   "outputs": [
    {
     "output_type": "execute_result",
     "data": {
      "text/plain": "array([[[( 0.,   0.), ( 0.,   0.)],\n        [( 0.,   0.), ( 0.,   0.)],\n        [( 0.,   0.), ( 0.,   0.)]],\n\n       [[( 0.,   0.), ( 0.,   0.)],\n        [( 0.,   0.), ( 0.,   0.)],\n        [( 0.,   0.), ( 0.,   0.)]],\n\n       [[( 0.,   0.), ( 0.,   0.)],\n        [( 0.,   0.), ( 0.,   0.)],\n        [( 0.,   0.), ( 0.,   0.)]],\n\n       [[( 0.,   0.), ( 0.,   0.)],\n        [( 0.,   0.), ( 0.,   0.)],\n        [( 0.,   0.), (68., 155.)]]],\n      dtype={'names':['height','weight'], 'formats':['<f8','<f8'], 'offsets':[6,14], 'itemsize':30})"
     },
     "metadata": {},
     "execution_count": 167
    }
   ],
   "source": [
    "people_big_array[['height', 'weight']]  # nur height and weight rausholen"
   ]
  },
  {
   "cell_type": "markdown",
   "metadata": {},
   "source": [
    "<h2>Creating Record Arrays</h2>\n",
    "* ähnlich wie Structured Array + Wrapped mittels Subklass \"NumPy.record\"\n",
    "* man kann dann über Attribute-Namen auf den Array zugreifen\n",
    "* eigenlich record erweiterd structured"
   ]
  },
  {
   "cell_type": "code",
   "execution_count": 168,
   "metadata": {},
   "outputs": [],
   "source": [
    "test_record: np.recarray\n",
    "test_structed: np.ndarray"
   ]
  },
  {
   "cell_type": "code",
   "execution_count": 169,
   "metadata": {},
   "outputs": [
    {
     "output_type": "execute_result",
     "data": {
      "text/plain": "rec.array([(b'Delta', 73., 205., 34), (b'Alpha', 65., 112., 23)],\n          dtype=[('name', 'S6'), ('height', '<f8'), ('weight', '<f8'), ('age', '<i8')])"
     },
     "metadata": {},
     "execution_count": 169
    }
   ],
   "source": [
    "person_record_array = np.rec.array([('Delta', 73, 205, 34),('Alpha', 65, 112, 23)],dtype=person_data_def)\n",
    "person_record_array"
   ]
  },
  {
   "cell_type": "code",
   "execution_count": 170,
   "metadata": {},
   "outputs": [
    {
     "output_type": "execute_result",
     "data": {
      "text/plain": "34"
     },
     "metadata": {},
     "execution_count": 170
    }
   ],
   "source": [
    "person_record_array[0].age # man kann dan auf "
   ]
  },
  {
   "cell_type": "code",
   "execution_count": 171,
   "metadata": {},
   "outputs": [
    {
     "output_type": "execute_result",
     "data": {
      "text/plain": "numpy.recarray"
     },
     "metadata": {},
     "execution_count": 171
    }
   ],
   "source": [
    "type(person_record_array)"
   ]
  }
 ],
 "metadata": {
  "kernelspec": {
   "display_name": "Python 3.7.3 64-bit",
   "language": "python",
   "name": "python37364bitd40ffe3c4fa549c8a6e666b1b34165fc"
  },
  "language_info": {
   "codemirror_mode": {
    "name": "ipython",
    "version": 2
   },
   "file_extension": ".py",
   "mimetype": "text/x-python",
   "name": "python",
   "nbconvert_exporter": "python",
   "pygments_lexer": "ipython2",
   "version": "3.7.3-final"
  }
 },
 "nbformat": 4,
 "nbformat_minor": 0
}