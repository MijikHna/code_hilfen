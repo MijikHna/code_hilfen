{
 "nbformat": 4,
 "nbformat_minor": 2,
 "metadata": {
  "language_info": {
   "name": "python",
   "codemirror_mode": {
    "name": "ipython",
    "version": 3
   }
  },
  "orig_nbformat": 2,
  "file_extension": ".py",
  "mimetype": "text/x-python",
  "name": "python",
  "npconvert_exporter": "python",
  "pygments_lexer": "ipython3",
  "version": 3
 },
 "cells": [
  {
   "cell_type": "markdown",
   "metadata": {},
   "source": [
    "### 8 - Reshaping\n",
    "#### 1 - Reshaping\n",
    "#### 2 - Using stack()\n",
    "#### 3 - Using unstack()\n",
    "#### 4 - Challenge/Solution"
   ]
  }
 ]
}