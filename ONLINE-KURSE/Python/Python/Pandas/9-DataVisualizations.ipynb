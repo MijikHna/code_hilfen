{
 "nbformat": 4,
 "nbformat_minor": 2,
 "metadata": {
  "language_info": {
   "name": "python",
   "codemirror_mode": {
    "name": "ipython",
    "version": 3
   }
  },
  "orig_nbformat": 2,
  "file_extension": ".py",
  "mimetype": "text/x-python",
  "name": "python",
  "npconvert_exporter": "python",
  "pygments_lexer": "ipython3",
  "version": 3
 },
 "cells": [
  {
   "cell_type": "code",
   "execution_count": null,
   "metadata": {},
   "outputs": [],
   "source": [
    "### 9 - Data Visualiation\n",
    "#### 1 - Learning hearmaps\n",
    "#### 2 - Creating your own colormaps\n",
    "\n",
    "\n",
    "### 10 - Final Challenge\n",
    "#### 1 - Challenge/Solution"
   ]
  }
 ]
}