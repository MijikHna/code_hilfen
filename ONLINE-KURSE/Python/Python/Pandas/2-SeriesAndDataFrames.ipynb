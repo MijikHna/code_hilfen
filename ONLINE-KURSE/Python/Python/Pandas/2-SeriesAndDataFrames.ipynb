{
 "cells": [
  {
   "cell_type": "markdown",
   "metadata": {},
   "source": [
    "# 2 - Series and DataFrames"
   ]
  },
  {
   "cell_type": "markdown",
   "metadata": {},
   "source": [
    "## 1 - DataFrames\n",
    "* DataFrame = zwei Dim Array"
   ]
  },
  {
   "cell_type": "code",
   "execution_count": 20,
   "metadata": {},
   "outputs": [
    {
     "output_type": "execute_result",
     "data": {
      "text/plain": "          City  Edition  ... Event_gender   Medal\n0       Athens     1896  ...            M    Gold\n1       Athens     1896  ...            M  Silver\n2       Athens     1896  ...            M  Bronze\n3       Athens     1896  ...            M    Gold\n4       Athens     1896  ...            M  Silver\n...        ...      ...  ...          ...     ...\n29211  Beijing     2008  ...            M  Silver\n29212  Beijing     2008  ...            M  Bronze\n29213  Beijing     2008  ...            M  Bronze\n29214  Beijing     2008  ...            M    Gold\n29215  Beijing     2008  ...            M  Silver\n\n[29216 rows x 10 columns]",
      "text/html": "<div>\n<style scoped>\n    .dataframe tbody tr th:only-of-type {\n        vertical-align: middle;\n    }\n\n    .dataframe tbody tr th {\n        vertical-align: top;\n    }\n\n    .dataframe thead th {\n        text-align: right;\n    }\n</style>\n<table border=\"1\" class=\"dataframe\">\n  <thead>\n    <tr style=\"text-align: right;\">\n      <th></th>\n      <th>City</th>\n      <th>Edition</th>\n      <th>Sport</th>\n      <th>Discipline</th>\n      <th>Athlete</th>\n      <th>NOC</th>\n      <th>Gender</th>\n      <th>Event</th>\n      <th>Event_gender</th>\n      <th>Medal</th>\n    </tr>\n  </thead>\n  <tbody>\n    <tr>\n      <th>0</th>\n      <td>Athens</td>\n      <td>1896</td>\n      <td>Aquatics</td>\n      <td>Swimming</td>\n      <td>HAJOS, Alfred</td>\n      <td>HUN</td>\n      <td>Men</td>\n      <td>100m freestyle</td>\n      <td>M</td>\n      <td>Gold</td>\n    </tr>\n    <tr>\n      <th>1</th>\n      <td>Athens</td>\n      <td>1896</td>\n      <td>Aquatics</td>\n      <td>Swimming</td>\n      <td>HERSCHMANN, Otto</td>\n      <td>AUT</td>\n      <td>Men</td>\n      <td>100m freestyle</td>\n      <td>M</td>\n      <td>Silver</td>\n    </tr>\n    <tr>\n      <th>2</th>\n      <td>Athens</td>\n      <td>1896</td>\n      <td>Aquatics</td>\n      <td>Swimming</td>\n      <td>DRIVAS, Dimitrios</td>\n      <td>GRE</td>\n      <td>Men</td>\n      <td>100m freestyle for sailors</td>\n      <td>M</td>\n      <td>Bronze</td>\n    </tr>\n    <tr>\n      <th>3</th>\n      <td>Athens</td>\n      <td>1896</td>\n      <td>Aquatics</td>\n      <td>Swimming</td>\n      <td>MALOKINIS, Ioannis</td>\n      <td>GRE</td>\n      <td>Men</td>\n      <td>100m freestyle for sailors</td>\n      <td>M</td>\n      <td>Gold</td>\n    </tr>\n    <tr>\n      <th>4</th>\n      <td>Athens</td>\n      <td>1896</td>\n      <td>Aquatics</td>\n      <td>Swimming</td>\n      <td>CHASAPIS, Spiridon</td>\n      <td>GRE</td>\n      <td>Men</td>\n      <td>100m freestyle for sailors</td>\n      <td>M</td>\n      <td>Silver</td>\n    </tr>\n    <tr>\n      <th>...</th>\n      <td>...</td>\n      <td>...</td>\n      <td>...</td>\n      <td>...</td>\n      <td>...</td>\n      <td>...</td>\n      <td>...</td>\n      <td>...</td>\n      <td>...</td>\n      <td>...</td>\n    </tr>\n    <tr>\n      <th>29211</th>\n      <td>Beijing</td>\n      <td>2008</td>\n      <td>Wrestling</td>\n      <td>Wrestling Gre-R</td>\n      <td>ENGLICH, Mirko</td>\n      <td>GER</td>\n      <td>Men</td>\n      <td>84 - 96kg</td>\n      <td>M</td>\n      <td>Silver</td>\n    </tr>\n    <tr>\n      <th>29212</th>\n      <td>Beijing</td>\n      <td>2008</td>\n      <td>Wrestling</td>\n      <td>Wrestling Gre-R</td>\n      <td>MIZGAITIS, Mindaugas</td>\n      <td>LTU</td>\n      <td>Men</td>\n      <td>96 - 120kg</td>\n      <td>M</td>\n      <td>Bronze</td>\n    </tr>\n    <tr>\n      <th>29213</th>\n      <td>Beijing</td>\n      <td>2008</td>\n      <td>Wrestling</td>\n      <td>Wrestling Gre-R</td>\n      <td>PATRIKEEV, Yuri</td>\n      <td>ARM</td>\n      <td>Men</td>\n      <td>96 - 120kg</td>\n      <td>M</td>\n      <td>Bronze</td>\n    </tr>\n    <tr>\n      <th>29214</th>\n      <td>Beijing</td>\n      <td>2008</td>\n      <td>Wrestling</td>\n      <td>Wrestling Gre-R</td>\n      <td>LOPEZ, Mijain</td>\n      <td>CUB</td>\n      <td>Men</td>\n      <td>96 - 120kg</td>\n      <td>M</td>\n      <td>Gold</td>\n    </tr>\n    <tr>\n      <th>29215</th>\n      <td>Beijing</td>\n      <td>2008</td>\n      <td>Wrestling</td>\n      <td>Wrestling Gre-R</td>\n      <td>BAROEV, Khasan</td>\n      <td>RUS</td>\n      <td>Men</td>\n      <td>96 - 120kg</td>\n      <td>M</td>\n      <td>Silver</td>\n    </tr>\n  </tbody>\n</table>\n<p>29216 rows × 10 columns</p>\n</div>"
     },
     "metadata": {},
     "execution_count": 20
    }
   ],
   "source": [
    "import pandas as pd;\n",
    "\n",
    "oo = pd.read_csv('./ALL MEDALISTS.csv', skiprows=4)\n",
    "oo.head()\n",
    "\n",
    "oo # ersten 30 Rows und letzte 20 rows anzeigen"
   ]
  },
  {
   "cell_type": "markdown",
   "metadata": {},
   "source": [
    "## 2 - Serie\n",
    "* Series = one-Di Array von indexierten Daten = eigentlich Spalten oder Zeilen\n",
    "* Acces:\n",
    "    1. `DataFrame['SeriesName']` - wird immer Funktionieren\n",
    "    2. `DataFrame.SeriesName` - funktioniert nicht wenn SpaltenName Leerzeichen hat.\n",
    "    3. `DataFrame[['SeriesName1', 'SeriesName2']] - mehrere Spalten ansprechen \n",
    "* `type(DataFrame)` - gibt Typ des Objects an = z.B Ob Series oder DataFrame"
   ]
  },
  {
   "cell_type": "code",
   "execution_count": 27,
   "metadata": {},
   "outputs": [
    {
     "output_type": "stream",
     "name": "stdout",
     "text": "0         Athens\n1         Athens\n2         Athens\n3         Athens\n4         Athens\n          ...   \n29211    Beijing\n29212    Beijing\n29213    Beijing\n29214    Beijing\n29215    Beijing\nName: City, Length: 29216, dtype: object\n0               HAJOS, Alfred\n1            HERSCHMANN, Otto\n2           DRIVAS, Dimitrios\n3          MALOKINIS, Ioannis\n4          CHASAPIS, Spiridon\n                 ...         \n29211          ENGLICH, Mirko\n29212    MIZGAITIS, Mindaugas\n29213         PATRIKEEV, Yuri\n29214           LOPEZ, Mijain\n29215          BAROEV, Khasan\nName: Athlete, Length: 29216, dtype: object\n0               HAJOS, Alfred\n1            HERSCHMANN, Otto\n2           DRIVAS, Dimitrios\n3          MALOKINIS, Ioannis\n4          CHASAPIS, Spiridon\n                 ...         \n29211          ENGLICH, Mirko\n29212    MIZGAITIS, Mindaugas\n29213         PATRIKEEV, Yuri\n29214           LOPEZ, Mijain\n29215          BAROEV, Khasan\nName: Athlete, Length: 29216, dtype: object\n"
    },
    {
     "output_type": "execute_result",
     "data": {
      "text/plain": "          City  Edition               Athlete\n0       Athens     1896         HAJOS, Alfred\n1       Athens     1896      HERSCHMANN, Otto\n2       Athens     1896     DRIVAS, Dimitrios\n3       Athens     1896    MALOKINIS, Ioannis\n4       Athens     1896    CHASAPIS, Spiridon\n...        ...      ...                   ...\n29211  Beijing     2008        ENGLICH, Mirko\n29212  Beijing     2008  MIZGAITIS, Mindaugas\n29213  Beijing     2008       PATRIKEEV, Yuri\n29214  Beijing     2008         LOPEZ, Mijain\n29215  Beijing     2008        BAROEV, Khasan\n\n[29216 rows x 3 columns]",
      "text/html": "<div>\n<style scoped>\n    .dataframe tbody tr th:only-of-type {\n        vertical-align: middle;\n    }\n\n    .dataframe tbody tr th {\n        vertical-align: top;\n    }\n\n    .dataframe thead th {\n        text-align: right;\n    }\n</style>\n<table border=\"1\" class=\"dataframe\">\n  <thead>\n    <tr style=\"text-align: right;\">\n      <th></th>\n      <th>City</th>\n      <th>Edition</th>\n      <th>Athlete</th>\n    </tr>\n  </thead>\n  <tbody>\n    <tr>\n      <th>0</th>\n      <td>Athens</td>\n      <td>1896</td>\n      <td>HAJOS, Alfred</td>\n    </tr>\n    <tr>\n      <th>1</th>\n      <td>Athens</td>\n      <td>1896</td>\n      <td>HERSCHMANN, Otto</td>\n    </tr>\n    <tr>\n      <th>2</th>\n      <td>Athens</td>\n      <td>1896</td>\n      <td>DRIVAS, Dimitrios</td>\n    </tr>\n    <tr>\n      <th>3</th>\n      <td>Athens</td>\n      <td>1896</td>\n      <td>MALOKINIS, Ioannis</td>\n    </tr>\n    <tr>\n      <th>4</th>\n      <td>Athens</td>\n      <td>1896</td>\n      <td>CHASAPIS, Spiridon</td>\n    </tr>\n    <tr>\n      <th>...</th>\n      <td>...</td>\n      <td>...</td>\n      <td>...</td>\n    </tr>\n    <tr>\n      <th>29211</th>\n      <td>Beijing</td>\n      <td>2008</td>\n      <td>ENGLICH, Mirko</td>\n    </tr>\n    <tr>\n      <th>29212</th>\n      <td>Beijing</td>\n      <td>2008</td>\n      <td>MIZGAITIS, Mindaugas</td>\n    </tr>\n    <tr>\n      <th>29213</th>\n      <td>Beijing</td>\n      <td>2008</td>\n      <td>PATRIKEEV, Yuri</td>\n    </tr>\n    <tr>\n      <th>29214</th>\n      <td>Beijing</td>\n      <td>2008</td>\n      <td>LOPEZ, Mijain</td>\n    </tr>\n    <tr>\n      <th>29215</th>\n      <td>Beijing</td>\n      <td>2008</td>\n      <td>BAROEV, Khasan</td>\n    </tr>\n  </tbody>\n</table>\n<p>29216 rows × 3 columns</p>\n</div>"
     },
     "metadata": {},
     "execution_count": 27
    }
   ],
   "source": [
    "print(oo['City'])\n",
    "print(oo['Athlete'])\n",
    "print(oo.Athlete)\n",
    "oo[['City', 'Edition', 'Athlete']]"
   ]
  },
  {
   "cell_type": "code",
   "execution_count": 22,
   "metadata": {},
   "outputs": [
    {
     "output_type": "execute_result",
     "data": {
      "text/plain": "pandas.core.frame.DataFrame"
     },
     "metadata": {},
     "execution_count": 22
    }
   ],
   "source": [
    "type(oo)"
   ]
  },
  {
   "cell_type": "code",
   "execution_count": 23,
   "metadata": {},
   "outputs": [
    {
     "output_type": "execute_result",
     "data": {
      "text/plain": "pandas.core.series.Series"
     },
     "metadata": {},
     "execution_count": 23
    }
   ],
   "source": [
    "type(oo['City'])"
   ]
  },
  {
   "cell_type": "markdown",
   "metadata": {},
   "source": [
    "## 3 - Challenge/Solution\n",
    "1. Olympics DataFrame auflisten\n",
    "2. List nur `NOC`-Column + welcher Typ\n",
    "3. List `Edition`, `City`, `Athlete`, `Medal` + welcher Typ "
   ]
  },
  {
   "cell_type": "code",
   "execution_count": 31,
   "metadata": {},
   "outputs": [
    {
     "output_type": "stream",
     "name": "stdout",
     "text": "City  Edition  ... Event_gender   Medal\n0       Athens     1896  ...            M    Gold\n1       Athens     1896  ...            M  Silver\n2       Athens     1896  ...            M  Bronze\n3       Athens     1896  ...            M    Gold\n4       Athens     1896  ...            M  Silver\n...        ...      ...  ...          ...     ...\n29211  Beijing     2008  ...            M  Silver\n29212  Beijing     2008  ...            M  Bronze\n29213  Beijing     2008  ...            M  Bronze\n29214  Beijing     2008  ...            M    Gold\n29215  Beijing     2008  ...            M  Silver\n\n[29216 rows x 10 columns]\n0        HUN\n1        AUT\n2        GRE\n3        GRE\n4        GRE\n        ... \n29211    GER\n29212    LTU\n29213    ARM\n29214    CUB\n29215    RUS\nName: NOC, Length: 29216, dtype: object\n<class 'pandas.core.series.Series'>\n<class 'pandas.core.frame.DataFrame'>\n"
    }
   ],
   "source": [
    "oo.head()\n",
    "print(oo)\n",
    "print(oo['NOC'])\n",
    "print(type(oo['NOC']))\n",
    "\n",
    "oo[['Edition', 'City', 'Athlete', 'Medal']] # innere [] = Python List\n",
    "print(type(oo[['Edition', 'City', 'Athlete', 'Medal']]))"
   ]
  }
 ],
 "metadata": {
  "language_info": {
   "name": "python",
   "codemirror_mode": {
    "name": "ipython",
    "version": 3
   },
   "version": "3.7.3-final"
  },
  "orig_nbformat": 2,
  "file_extension": ".py",
  "mimetype": "text/x-python",
  "name": "python",
  "npconvert_exporter": "python",
  "pygments_lexer": "ipython3",
  "version": 3,
  "kernelspec": {
   "name": "python37364bitd40ffe3c4fa549c8a6e666b1b34165fc",
   "display_name": "Python 3.7.3 64-bit"
  }
 },
 "nbformat": 4,
 "nbformat_minor": 2
}