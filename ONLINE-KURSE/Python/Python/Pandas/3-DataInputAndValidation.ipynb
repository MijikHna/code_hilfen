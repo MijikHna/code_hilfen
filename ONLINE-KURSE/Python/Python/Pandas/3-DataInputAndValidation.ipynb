{
 "cells": [
  {
   "cell_type": "markdown",
   "metadata": {},
   "source": [
    "# 3 - Data Input and Validation"
   ]
  },
  {
   "cell_type": "markdown",
   "metadata": {},
   "source": [
    "## 1 - Insing read_csv()\n",
    "* = Data einlesen und validieren:\n",
    "    1. `read_excel(...)`\n",
    "    2. `read_json(...)`\n",
    "    3. `read_sql_table(...)`\n",
    "    4. `read_csv(...)` - hat viele Parameter\n",
    "        1. `pathToFile`\n",
    "        2. `skiprows=None` - Spalten skipen\n",
    "        "
   ]
  },
  {
   "cell_type": "code",
   "execution_count": 4,
   "metadata": {},
   "outputs": [
    {
     "output_type": "stream",
     "name": "stdout",
     "text": "List of medallists at the Games of the Olympiad per edition, sport, discipline, gender and event  \\\n0                                                    NaN                                                 \n1      DISCLAIMER: The IOC Research and Reference Ser...                                                 \n2                                                    NaN                                                 \n3                                                   City                                                 \n4                                                 Athens                                                 \n...                                                  ...                                                 \n29215                                            Beijing                                                 \n29216                                            Beijing                                                 \n29217                                            Beijing                                                 \n29218                                            Beijing                                                 \n29219                                            Beijing                                                 \n\n      Unnamed: 1 Unnamed: 2       Unnamed: 3            Unnamed: 4 Unnamed: 5  \\\n0            NaN        NaN              NaN                   NaN        NaN   \n1            NaN        NaN              NaN                   NaN        NaN   \n2            NaN        NaN              NaN                   NaN        NaN   \n3        Edition      Sport       Discipline               Athlete        NOC   \n4           1896   Aquatics         Swimming         HAJOS, Alfred        HUN   \n...          ...        ...              ...                   ...        ...   \n29215       2008  Wrestling  Wrestling Gre-R        ENGLICH, Mirko        GER   \n29216       2008  Wrestling  Wrestling Gre-R  MIZGAITIS, Mindaugas        LTU   \n29217       2008  Wrestling  Wrestling Gre-R       PATRIKEEV, Yuri        ARM   \n29218       2008  Wrestling  Wrestling Gre-R         LOPEZ, Mijain        CUB   \n29219       2008  Wrestling  Wrestling Gre-R        BAROEV, Khasan        RUS   \n\n      Unnamed: 6      Unnamed: 7    Unnamed: 8 Unnamed: 9  \n0            NaN             NaN           NaN        NaN  \n1            NaN             NaN           NaN        NaN  \n2            NaN             NaN           NaN        NaN  \n3         Gender           Event  Event_gender      Medal  \n4            Men  100m freestyle             M       Gold  \n...          ...             ...           ...        ...  \n29215        Men       84 - 96kg             M     Silver  \n29216        Men      96 - 120kg             M     Bronze  \n29217        Men      96 - 120kg             M     Bronze  \n29218        Men      96 - 120kg             M       Gold  \n29219        Men      96 - 120kg             M     Silver  \n\n[29220 rows x 10 columns]\n          City  Edition      Sport       Discipline               Athlete  \\\n0       Athens     1896   Aquatics         Swimming         HAJOS, Alfred   \n1       Athens     1896   Aquatics         Swimming      HERSCHMANN, Otto   \n2       Athens     1896   Aquatics         Swimming     DRIVAS, Dimitrios   \n3       Athens     1896   Aquatics         Swimming    MALOKINIS, Ioannis   \n4       Athens     1896   Aquatics         Swimming    CHASAPIS, Spiridon   \n...        ...      ...        ...              ...                   ...   \n29211  Beijing     2008  Wrestling  Wrestling Gre-R        ENGLICH, Mirko   \n29212  Beijing     2008  Wrestling  Wrestling Gre-R  MIZGAITIS, Mindaugas   \n29213  Beijing     2008  Wrestling  Wrestling Gre-R       PATRIKEEV, Yuri   \n29214  Beijing     2008  Wrestling  Wrestling Gre-R         LOPEZ, Mijain   \n29215  Beijing     2008  Wrestling  Wrestling Gre-R        BAROEV, Khasan   \n\n       NOC Gender                       Event Event_gender   Medal  \n0      HUN    Men              100m freestyle            M    Gold  \n1      AUT    Men              100m freestyle            M  Silver  \n2      GRE    Men  100m freestyle for sailors            M  Bronze  \n3      GRE    Men  100m freestyle for sailors            M    Gold  \n4      GRE    Men  100m freestyle for sailors            M  Silver  \n...    ...    ...                         ...          ...     ...  \n29211  GER    Men                   84 - 96kg            M  Silver  \n29212  LTU    Men                  96 - 120kg            M  Bronze  \n29213  ARM    Men                  96 - 120kg            M  Bronze  \n29214  CUB    Men                  96 - 120kg            M    Gold  \n29215  RUS    Men                  96 - 120kg            M  Silver  \n\n[29216 rows x 10 columns]\n"
    }
   ],
   "source": [
    "import pandas as pd\n",
    "\n",
    "oo = pd.read_csv('./ALL MEDALISTS.csv') # in Jupyter SHIFT+TAB = Doku anzeigen + nochmal klicken, um \n",
    "print(oo)\n",
    "\n",
    "oo = pd.read_csv('./ALL MEDALISTS.csv', skiprows=4) # vier ersten Zeilen skippen\n",
    "print(oo)"
   ]
  },
  {
   "cell_type": "markdown",
   "metadata": {},
   "source": [
    "## 2 - Using shape\n",
    "* return Tupel der die Dimension return => DataSet checken"
   ]
  },
  {
   "cell_type": "code",
   "execution_count": 6,
   "metadata": {},
   "outputs": [
    {
     "output_type": "stream",
     "name": "stdout",
     "text": "(29216, 10)\n29216\n10\n"
    }
   ],
   "source": [
    "print(oo.shape) # Ausgabe: (Zielen, Spalten)\n",
    "\n",
    "print(oo.shape[0]) # nur Zeilen\n",
    "print(oo.shape[1]) # nur Spalten"
   ]
  },
  {
   "cell_type": "markdown",
   "metadata": {},
   "source": [
    "## 3 - Using head() and tail()\n",
    "* ersten und letzten Zeilen anzeigen (default ersten/letzten 5)\n",
    "* Head ist hilfreich, um zu checken, ob Daten die sind, die man möchte"
   ]
  },
  {
   "cell_type": "code",
   "execution_count": 8,
   "metadata": {},
   "outputs": [
    {
     "output_type": "stream",
     "name": "stdout",
     "text": "City  Edition     Sport Discipline             Athlete  NOC Gender  \\\n0  Athens     1896  Aquatics   Swimming       HAJOS, Alfred  HUN    Men   \n1  Athens     1896  Aquatics   Swimming    HERSCHMANN, Otto  AUT    Men   \n2  Athens     1896  Aquatics   Swimming   DRIVAS, Dimitrios  GRE    Men   \n3  Athens     1896  Aquatics   Swimming  MALOKINIS, Ioannis  GRE    Men   \n4  Athens     1896  Aquatics   Swimming  CHASAPIS, Spiridon  GRE    Men   \n\n                        Event Event_gender   Medal  \n0              100m freestyle            M    Gold  \n1              100m freestyle            M  Silver  \n2  100m freestyle for sailors            M  Bronze  \n3  100m freestyle for sailors            M    Gold  \n4  100m freestyle for sailors            M  Silver  \n          City  Edition      Sport       Discipline               Athlete  \\\n29211  Beijing     2008  Wrestling  Wrestling Gre-R        ENGLICH, Mirko   \n29212  Beijing     2008  Wrestling  Wrestling Gre-R  MIZGAITIS, Mindaugas   \n29213  Beijing     2008  Wrestling  Wrestling Gre-R       PATRIKEEV, Yuri   \n29214  Beijing     2008  Wrestling  Wrestling Gre-R         LOPEZ, Mijain   \n29215  Beijing     2008  Wrestling  Wrestling Gre-R        BAROEV, Khasan   \n\n       NOC Gender       Event Event_gender   Medal  \n29211  GER    Men   84 - 96kg            M  Silver  \n29212  LTU    Men  96 - 120kg            M  Bronze  \n29213  ARM    Men  96 - 120kg            M  Bronze  \n29214  CUB    Men  96 - 120kg            M    Gold  \n29215  RUS    Men  96 - 120kg            M  Silver  \n     City  Edition     Sport Discipline            Athlete  NOC Gender  \\\n0  Athens     1896  Aquatics   Swimming      HAJOS, Alfred  HUN    Men   \n1  Athens     1896  Aquatics   Swimming   HERSCHMANN, Otto  AUT    Men   \n2  Athens     1896  Aquatics   Swimming  DRIVAS, Dimitrios  GRE    Men   \n\n                        Event Event_gender   Medal  \n0              100m freestyle            M    Gold  \n1              100m freestyle            M  Silver  \n2  100m freestyle for sailors            M  Bronze  \n"
    }
   ],
   "source": [
    "print(oo.head())\n",
    "print(oo.tail())\n",
    "\n",
    "print(oo.head(3)) # statt 5 nur 3 Zeilen ausgeben"
   ]
  },
  {
   "cell_type": "markdown",
   "metadata": {},
   "source": [
    "## 4 - Using info()\n",
    "* gibt Summery des DataFrames aus:\n",
    "    1. Number of Entries\n",
    "    2. DataTypes\n",
    "    3. NotNull-Einträge\n",
    "* also sowas wie Info/Eigensschafen der TabellenSpalten-Namen von DB"
   ]
  },
  {
   "cell_type": "code",
   "execution_count": 9,
   "metadata": {},
   "outputs": [
    {
     "output_type": "stream",
     "name": "stdout",
     "text": "<class 'pandas.core.frame.DataFrame'>\nRangeIndex: 29216 entries, 0 to 29215\nData columns (total 10 columns):\n #   Column        Non-Null Count  Dtype \n---  ------        --------------  ----- \n 0   City          29216 non-null  object\n 1   Edition       29216 non-null  int64 \n 2   Sport         29216 non-null  object\n 3   Discipline    29216 non-null  object\n 4   Athlete       29216 non-null  object\n 5   NOC           29216 non-null  object\n 6   Gender        29216 non-null  object\n 7   Event         29216 non-null  object\n 8   Event_gender  29216 non-null  object\n 9   Medal         29216 non-null  object\ndtypes: int64(1), object(9)\nmemory usage: 2.2+ MB\n"
    }
   ],
   "source": [
    "oo.info()"
   ]
  }
 ],
 "metadata": {
  "language_info": {
   "name": "python",
   "codemirror_mode": {
    "name": "ipython",
    "version": 3
   },
   "version": "3.7.3-final"
  },
  "orig_nbformat": 2,
  "file_extension": ".py",
  "mimetype": "text/x-python",
  "name": "python",
  "npconvert_exporter": "python",
  "pygments_lexer": "ipython3",
  "version": 3,
  "kernelspec": {
   "name": "python37364bitd40ffe3c4fa549c8a6e666b1b34165fc",
   "display_name": "Python 3.7.3 64-bit"
  }
 },
 "nbformat": 4,
 "nbformat_minor": 2
}