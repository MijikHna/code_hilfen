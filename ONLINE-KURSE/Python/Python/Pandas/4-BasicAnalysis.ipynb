{
 "cells": [
  {
   "cell_type": "markdown",
   "metadata": {},
   "source": [
    "# 4 - Basic Analysis"
   ]
  },
  {
   "cell_type": "markdown",
   "metadata": {},
   "source": [
    "## 1 - Using value_counts()\n",
    "* `Series.value_counts(normalize=False, sort=True, ascending=False, bins=none, dropna=True)` = returnt Series Objekt mit Unique-Werten\n",
    "    * erste = was am meistens vorkommpt\n",
    "    + dropna - ????"
   ]
  },
  {
   "cell_type": "code",
   "execution_count": 13,
   "metadata": {},
   "outputs": [
    {
     "output_type": "stream",
     "name": "stdout",
     "text": "<class 'pandas.core.frame.DataFrame'>\n     City  Edition     Sport Discipline             Athlete  NOC Gender  \\\n0  Athens     1896  Aquatics   Swimming       HAJOS, Alfred  HUN    Men   \n1  Athens     1896  Aquatics   Swimming    HERSCHMANN, Otto  AUT    Men   \n2  Athens     1896  Aquatics   Swimming   DRIVAS, Dimitrios  GRE    Men   \n3  Athens     1896  Aquatics   Swimming  MALOKINIS, Ioannis  GRE    Men   \n4  Athens     1896  Aquatics   Swimming  CHASAPIS, Spiridon  GRE    Men   \n\n                        Event Event_gender   Medal  \n0              100m freestyle            M    Gold  \n1              100m freestyle            M  Silver  \n2  100m freestyle for sailors            M  Bronze  \n3  100m freestyle for sailors            M    Gold  \n4  100m freestyle for sailors            M  Silver  \n"
    },
    {
     "output_type": "execute_result",
     "data": {
      "text/plain": "Women     7495\nMen      21721\nName: Gender, dtype: int64"
     },
     "metadata": {},
     "execution_count": 13
    }
   ],
   "source": [
    "import pandas as pd\n",
    "\n",
    "oo = pd.read_csv('./ALL MEDALISTS.csv', skiprows=4)\n",
    "print(type(oo))\n",
    "print(oo.head())\n",
    "\n",
    "oo.Edition.value_counts() #wie viele Medale bei Olympia\n",
    "\n",
    "oo.Gender.value_counts() #wie viele Medale zu Frauen und Männder\n",
    "oo.Gender.value_counts(ascending=True)\n",
    "\n",
    "oo.Gender.value_counts(ascending=True, dropna=False)"
   ]
  },
  {
   "cell_type": "markdown",
   "metadata": {},
   "source": [
    "## 2 - Using sort_values()\n",
    "* sortiert nach Werten\n",
    "* `Series.sort_values(axis=0, ascending=True, inplace=False, kind='quicksort', na_postion='last')`\n",
    "    * asix = nach Welcher Achse sortieren = nach Spalte oder Zeile\n",
    "* `DataFrame.sort_values(by, axis=0, ascending=True, inplase=False, kind='quicksort', na_postion='last)` = z.B mehrere Series sortieren"
   ]
  },
  {
   "cell_type": "code",
   "execution_count": 8,
   "metadata": {},
   "outputs": [
    {
     "output_type": "stream",
     "name": "stdout",
     "text": "651                 AABYE, Edgar\n2849       AALTONEN, Arvo Ossian\n2852       AALTONEN, Arvo Ossian\n7716    AALTONEN, Paavo Johannes\n7730    AALTONEN, Paavo Johannes\n                  ...           \n603                   ÖSTMO, Ole\n608                   ÖSTMO, Ole\n621                   ÖSTMO, Ole\n596                   ÖSTMO, Ole\n8051           ÖSTRAND, Per-Olof\nName: Athlete, Length: 29216, dtype: object\n"
    },
    {
     "output_type": "execute_result",
     "data": {
      "text/plain": "          City  Edition       Sport  ...                 Event Event_gender   Medal\n7       Athens     1896    Aquatics  ...       1200m freestyle            M  Silver\n82      Athens     1896  Gymnastics  ...         rope climbing            M    Gold\n110     Athens     1896  Gymnastics  ...   team, parallel bars            M  Silver\n111     Athens     1896  Gymnastics  ...   team, parallel bars            M  Silver\n48      Athens     1896     Cycling  ...  individual road race            M  Bronze\n...        ...      ...         ...  ...                   ...          ...     ...\n28095  Beijing     2008  Equestrian  ...                  team            X  Bronze\n28819  Beijing     2008     Sailing  ...     RS:X - Windsurfer            M  Bronze\n28977  Beijing     2008   Taekwondo  ...            49 - 57 kg            W  Bronze\n28387  Beijing     2008  Gymnastics  ...     group competition            W    Gold\n29007  Beijing     2008      Tennis  ...               singles            W  Bronze\n\n[29216 rows x 10 columns]",
      "text/html": "<div>\n<style scoped>\n    .dataframe tbody tr th:only-of-type {\n        vertical-align: middle;\n    }\n\n    .dataframe tbody tr th {\n        vertical-align: top;\n    }\n\n    .dataframe thead th {\n        text-align: right;\n    }\n</style>\n<table border=\"1\" class=\"dataframe\">\n  <thead>\n    <tr style=\"text-align: right;\">\n      <th></th>\n      <th>City</th>\n      <th>Edition</th>\n      <th>Sport</th>\n      <th>Discipline</th>\n      <th>Athlete</th>\n      <th>NOC</th>\n      <th>Gender</th>\n      <th>Event</th>\n      <th>Event_gender</th>\n      <th>Medal</th>\n    </tr>\n  </thead>\n  <tbody>\n    <tr>\n      <th>7</th>\n      <td>Athens</td>\n      <td>1896</td>\n      <td>Aquatics</td>\n      <td>Swimming</td>\n      <td>ANDREOU, Joannis</td>\n      <td>GRE</td>\n      <td>Men</td>\n      <td>1200m freestyle</td>\n      <td>M</td>\n      <td>Silver</td>\n    </tr>\n    <tr>\n      <th>82</th>\n      <td>Athens</td>\n      <td>1896</td>\n      <td>Gymnastics</td>\n      <td>Artistic G.</td>\n      <td>ANDRIAKOPOULOS, Nicolaos</td>\n      <td>GRE</td>\n      <td>Men</td>\n      <td>rope climbing</td>\n      <td>M</td>\n      <td>Gold</td>\n    </tr>\n    <tr>\n      <th>110</th>\n      <td>Athens</td>\n      <td>1896</td>\n      <td>Gymnastics</td>\n      <td>Artistic G.</td>\n      <td>ANDRIAKOPOULOS, Nicolaos</td>\n      <td>GRE</td>\n      <td>Men</td>\n      <td>team, parallel bars</td>\n      <td>M</td>\n      <td>Silver</td>\n    </tr>\n    <tr>\n      <th>111</th>\n      <td>Athens</td>\n      <td>1896</td>\n      <td>Gymnastics</td>\n      <td>Artistic G.</td>\n      <td>ATHANASOPOULOS, Spyros</td>\n      <td>GRE</td>\n      <td>Men</td>\n      <td>team, parallel bars</td>\n      <td>M</td>\n      <td>Silver</td>\n    </tr>\n    <tr>\n      <th>48</th>\n      <td>Athens</td>\n      <td>1896</td>\n      <td>Cycling</td>\n      <td>Cycling Road</td>\n      <td>BATTEL, Edward</td>\n      <td>GBR</td>\n      <td>Men</td>\n      <td>individual road race</td>\n      <td>M</td>\n      <td>Bronze</td>\n    </tr>\n    <tr>\n      <th>...</th>\n      <td>...</td>\n      <td>...</td>\n      <td>...</td>\n      <td>...</td>\n      <td>...</td>\n      <td>...</td>\n      <td>...</td>\n      <td>...</td>\n      <td>...</td>\n      <td>...</td>\n    </tr>\n    <tr>\n      <th>28095</th>\n      <td>Beijing</td>\n      <td>2008</td>\n      <td>Equestrian</td>\n      <td>Dressage</td>\n      <td>ZU-SAYN WITTGENSTEIN, Nathalie</td>\n      <td>DEN</td>\n      <td>Women</td>\n      <td>team</td>\n      <td>X</td>\n      <td>Bronze</td>\n    </tr>\n    <tr>\n      <th>28819</th>\n      <td>Beijing</td>\n      <td>2008</td>\n      <td>Sailing</td>\n      <td>Sailing</td>\n      <td>ZUBARI, Shahar</td>\n      <td>ISR</td>\n      <td>Men</td>\n      <td>RS:X - Windsurfer</td>\n      <td>M</td>\n      <td>Bronze</td>\n    </tr>\n    <tr>\n      <th>28977</th>\n      <td>Beijing</td>\n      <td>2008</td>\n      <td>Taekwondo</td>\n      <td>Taekwondo</td>\n      <td>ZUBCIC, Martina</td>\n      <td>CRO</td>\n      <td>Women</td>\n      <td>49 - 57 kg</td>\n      <td>W</td>\n      <td>Bronze</td>\n    </tr>\n    <tr>\n      <th>28387</th>\n      <td>Beijing</td>\n      <td>2008</td>\n      <td>Gymnastics</td>\n      <td>Rhythmic G.</td>\n      <td>ZUEVA, Natalia</td>\n      <td>RUS</td>\n      <td>Women</td>\n      <td>group competition</td>\n      <td>W</td>\n      <td>Gold</td>\n    </tr>\n    <tr>\n      <th>29007</th>\n      <td>Beijing</td>\n      <td>2008</td>\n      <td>Tennis</td>\n      <td>Tennis</td>\n      <td>ZVONAREVA, Vera</td>\n      <td>RUS</td>\n      <td>Women</td>\n      <td>singles</td>\n      <td>W</td>\n      <td>Bronze</td>\n    </tr>\n  </tbody>\n</table>\n<p>29216 rows × 10 columns</p>\n</div>"
     },
     "metadata": {},
     "execution_count": 8
    }
   ],
   "source": [
    "auth = oo.Athlete.sort_values()\n",
    "print(auth)\n",
    "\n",
    "oo.sort_values(by=['Edition', 'Athlete']) # wird nach Edition dann in Edition nach Athelete-Name sortiert\n",
    "\n",
    "    # inplace - ???"
   ]
  },
  {
   "cell_type": "markdown",
   "metadata": {},
   "source": [
    "## 3 - Boolean indexing\n",
    "* Boolean Vectors um Daten zu Filtern = es wird anhand von Conditions Boolean Vector für Zeilen erstelle, die dann angezeigt werden = Filterung \n",
    "    * statt and/or/not &/|/~ benutzen\n"
   ]
  },
  {
   "cell_type": "code",
   "execution_count": 3,
   "metadata": {},
   "outputs": [
    {
     "output_type": "execute_result",
     "data": {
      "text/plain": "     City  Edition     Sport Discipline             Athlete  NOC Gender  \\\n0  Athens     1896  Aquatics   Swimming       HAJOS, Alfred  HUN    Men   \n1  Athens     1896  Aquatics   Swimming    HERSCHMANN, Otto  AUT    Men   \n2  Athens     1896  Aquatics   Swimming   DRIVAS, Dimitrios  GRE    Men   \n3  Athens     1896  Aquatics   Swimming  MALOKINIS, Ioannis  GRE    Men   \n4  Athens     1896  Aquatics   Swimming  CHASAPIS, Spiridon  GRE    Men   \n\n                        Event Event_gender   Medal  \n0              100m freestyle            M    Gold  \n1              100m freestyle            M  Silver  \n2  100m freestyle for sailors            M  Bronze  \n3  100m freestyle for sailors            M    Gold  \n4  100m freestyle for sailors            M  Silver  ",
      "text/html": "<div>\n<style scoped>\n    .dataframe tbody tr th:only-of-type {\n        vertical-align: middle;\n    }\n\n    .dataframe tbody tr th {\n        vertical-align: top;\n    }\n\n    .dataframe thead th {\n        text-align: right;\n    }\n</style>\n<table border=\"1\" class=\"dataframe\">\n  <thead>\n    <tr style=\"text-align: right;\">\n      <th></th>\n      <th>City</th>\n      <th>Edition</th>\n      <th>Sport</th>\n      <th>Discipline</th>\n      <th>Athlete</th>\n      <th>NOC</th>\n      <th>Gender</th>\n      <th>Event</th>\n      <th>Event_gender</th>\n      <th>Medal</th>\n    </tr>\n  </thead>\n  <tbody>\n    <tr>\n      <th>0</th>\n      <td>Athens</td>\n      <td>1896</td>\n      <td>Aquatics</td>\n      <td>Swimming</td>\n      <td>HAJOS, Alfred</td>\n      <td>HUN</td>\n      <td>Men</td>\n      <td>100m freestyle</td>\n      <td>M</td>\n      <td>Gold</td>\n    </tr>\n    <tr>\n      <th>1</th>\n      <td>Athens</td>\n      <td>1896</td>\n      <td>Aquatics</td>\n      <td>Swimming</td>\n      <td>HERSCHMANN, Otto</td>\n      <td>AUT</td>\n      <td>Men</td>\n      <td>100m freestyle</td>\n      <td>M</td>\n      <td>Silver</td>\n    </tr>\n    <tr>\n      <th>2</th>\n      <td>Athens</td>\n      <td>1896</td>\n      <td>Aquatics</td>\n      <td>Swimming</td>\n      <td>DRIVAS, Dimitrios</td>\n      <td>GRE</td>\n      <td>Men</td>\n      <td>100m freestyle for sailors</td>\n      <td>M</td>\n      <td>Bronze</td>\n    </tr>\n    <tr>\n      <th>3</th>\n      <td>Athens</td>\n      <td>1896</td>\n      <td>Aquatics</td>\n      <td>Swimming</td>\n      <td>MALOKINIS, Ioannis</td>\n      <td>GRE</td>\n      <td>Men</td>\n      <td>100m freestyle for sailors</td>\n      <td>M</td>\n      <td>Gold</td>\n    </tr>\n    <tr>\n      <th>4</th>\n      <td>Athens</td>\n      <td>1896</td>\n      <td>Aquatics</td>\n      <td>Swimming</td>\n      <td>CHASAPIS, Spiridon</td>\n      <td>GRE</td>\n      <td>Men</td>\n      <td>100m freestyle for sailors</td>\n      <td>M</td>\n      <td>Silver</td>\n    </tr>\n  </tbody>\n</table>\n</div>"
     },
     "metadata": {},
     "execution_count": 3
    }
   ],
   "source": [
    "oo.head()"
   ]
  },
  {
   "cell_type": "code",
   "execution_count": 9,
   "metadata": {},
   "outputs": [
    {
     "output_type": "execute_result",
     "data": {
      "text/plain": "0         True\n1        False\n2        False\n3         True\n4        False\n         ...  \n29211    False\n29212    False\n29213    False\n29214     True\n29215    False\nName: Medal, Length: 29216, dtype: bool"
     },
     "metadata": {},
     "execution_count": 9
    }
   ],
   "source": [
    "oo.Medal == 'Gold' #wenn Medal == Gold => wird Tabelle mit True/False erstellt"
   ]
  },
  {
   "cell_type": "code",
   "execution_count": 10,
   "metadata": {},
   "outputs": [
    {
     "output_type": "execute_result",
     "data": {
      "text/plain": "          City  Edition  ... Event_gender Medal\n0       Athens     1896  ...            M  Gold\n3       Athens     1896  ...            M  Gold\n6       Athens     1896  ...            M  Gold\n9       Athens     1896  ...            M  Gold\n13      Athens     1896  ...            M  Gold\n...        ...      ...  ...          ...   ...\n29199  Beijing     2008  ...            M  Gold\n29203  Beijing     2008  ...            M  Gold\n29206  Beijing     2008  ...            M  Gold\n29210  Beijing     2008  ...            M  Gold\n29214  Beijing     2008  ...            M  Gold\n\n[9850 rows x 10 columns]",
      "text/html": "<div>\n<style scoped>\n    .dataframe tbody tr th:only-of-type {\n        vertical-align: middle;\n    }\n\n    .dataframe tbody tr th {\n        vertical-align: top;\n    }\n\n    .dataframe thead th {\n        text-align: right;\n    }\n</style>\n<table border=\"1\" class=\"dataframe\">\n  <thead>\n    <tr style=\"text-align: right;\">\n      <th></th>\n      <th>City</th>\n      <th>Edition</th>\n      <th>Sport</th>\n      <th>Discipline</th>\n      <th>Athlete</th>\n      <th>NOC</th>\n      <th>Gender</th>\n      <th>Event</th>\n      <th>Event_gender</th>\n      <th>Medal</th>\n    </tr>\n  </thead>\n  <tbody>\n    <tr>\n      <th>0</th>\n      <td>Athens</td>\n      <td>1896</td>\n      <td>Aquatics</td>\n      <td>Swimming</td>\n      <td>HAJOS, Alfred</td>\n      <td>HUN</td>\n      <td>Men</td>\n      <td>100m freestyle</td>\n      <td>M</td>\n      <td>Gold</td>\n    </tr>\n    <tr>\n      <th>3</th>\n      <td>Athens</td>\n      <td>1896</td>\n      <td>Aquatics</td>\n      <td>Swimming</td>\n      <td>MALOKINIS, Ioannis</td>\n      <td>GRE</td>\n      <td>Men</td>\n      <td>100m freestyle for sailors</td>\n      <td>M</td>\n      <td>Gold</td>\n    </tr>\n    <tr>\n      <th>6</th>\n      <td>Athens</td>\n      <td>1896</td>\n      <td>Aquatics</td>\n      <td>Swimming</td>\n      <td>HAJOS, Alfred</td>\n      <td>HUN</td>\n      <td>Men</td>\n      <td>1200m freestyle</td>\n      <td>M</td>\n      <td>Gold</td>\n    </tr>\n    <tr>\n      <th>9</th>\n      <td>Athens</td>\n      <td>1896</td>\n      <td>Aquatics</td>\n      <td>Swimming</td>\n      <td>NEUMANN, Paul</td>\n      <td>AUT</td>\n      <td>Men</td>\n      <td>400m freestyle</td>\n      <td>M</td>\n      <td>Gold</td>\n    </tr>\n    <tr>\n      <th>13</th>\n      <td>Athens</td>\n      <td>1896</td>\n      <td>Athletics</td>\n      <td>Athletics</td>\n      <td>BURKE, Thomas</td>\n      <td>USA</td>\n      <td>Men</td>\n      <td>100m</td>\n      <td>M</td>\n      <td>Gold</td>\n    </tr>\n    <tr>\n      <th>...</th>\n      <td>...</td>\n      <td>...</td>\n      <td>...</td>\n      <td>...</td>\n      <td>...</td>\n      <td>...</td>\n      <td>...</td>\n      <td>...</td>\n      <td>...</td>\n      <td>...</td>\n    </tr>\n    <tr>\n      <th>29199</th>\n      <td>Beijing</td>\n      <td>2008</td>\n      <td>Wrestling</td>\n      <td>Wrestling Gre-R</td>\n      <td>GUENOT, Steeve</td>\n      <td>FRA</td>\n      <td>Men</td>\n      <td>60 - 66kg</td>\n      <td>M</td>\n      <td>Gold</td>\n    </tr>\n    <tr>\n      <th>29203</th>\n      <td>Beijing</td>\n      <td>2008</td>\n      <td>Wrestling</td>\n      <td>Wrestling Gre-R</td>\n      <td>KVIRKELIA, Manuchar</td>\n      <td>GEO</td>\n      <td>Men</td>\n      <td>66 - 74kg</td>\n      <td>M</td>\n      <td>Gold</td>\n    </tr>\n    <tr>\n      <th>29206</th>\n      <td>Beijing</td>\n      <td>2008</td>\n      <td>Wrestling</td>\n      <td>Wrestling Gre-R</td>\n      <td>MINGUZZI, Andrea</td>\n      <td>ITA</td>\n      <td>Men</td>\n      <td>74 - 84kg</td>\n      <td>M</td>\n      <td>Gold</td>\n    </tr>\n    <tr>\n      <th>29210</th>\n      <td>Beijing</td>\n      <td>2008</td>\n      <td>Wrestling</td>\n      <td>Wrestling Gre-R</td>\n      <td>KHUSHTOV, Aslanbek</td>\n      <td>RUS</td>\n      <td>Men</td>\n      <td>84 - 96kg</td>\n      <td>M</td>\n      <td>Gold</td>\n    </tr>\n    <tr>\n      <th>29214</th>\n      <td>Beijing</td>\n      <td>2008</td>\n      <td>Wrestling</td>\n      <td>Wrestling Gre-R</td>\n      <td>LOPEZ, Mijain</td>\n      <td>CUB</td>\n      <td>Men</td>\n      <td>96 - 120kg</td>\n      <td>M</td>\n      <td>Gold</td>\n    </tr>\n  </tbody>\n</table>\n<p>9850 rows × 10 columns</p>\n</div>"
     },
     "metadata": {},
     "execution_count": 10
    }
   ],
   "source": [
    "oo[oo.Medal == 'Gold'] # hier wird gefilter nur True-Zeilen werden ausgegeben "
   ]
  },
  {
   "cell_type": "code",
   "execution_count": 12,
   "metadata": {},
   "outputs": [
    {
     "output_type": "execute_result",
     "data": {
      "text/plain": "           City  Edition  ... Event_gender Medal\n417       Paris     1900  ...            W  Gold\n641       Paris     1900  ...            X  Gold\n649       Paris     1900  ...            W  Gold\n710    St Louis     1904  ...            W  Gold\n713    St Louis     1904  ...            W  Gold\n...         ...      ...  ...          ...   ...\n29134   Beijing     2008  ...            W  Gold\n29147   Beijing     2008  ...            W  Gold\n29155   Beijing     2008  ...            W  Gold\n29163   Beijing     2008  ...            W  Gold\n29171   Beijing     2008  ...            W  Gold\n\n[2485 rows x 10 columns]",
      "text/html": "<div>\n<style scoped>\n    .dataframe tbody tr th:only-of-type {\n        vertical-align: middle;\n    }\n\n    .dataframe tbody tr th {\n        vertical-align: top;\n    }\n\n    .dataframe thead th {\n        text-align: right;\n    }\n</style>\n<table border=\"1\" class=\"dataframe\">\n  <thead>\n    <tr style=\"text-align: right;\">\n      <th></th>\n      <th>City</th>\n      <th>Edition</th>\n      <th>Sport</th>\n      <th>Discipline</th>\n      <th>Athlete</th>\n      <th>NOC</th>\n      <th>Gender</th>\n      <th>Event</th>\n      <th>Event_gender</th>\n      <th>Medal</th>\n    </tr>\n  </thead>\n  <tbody>\n    <tr>\n      <th>417</th>\n      <td>Paris</td>\n      <td>1900</td>\n      <td>Golf</td>\n      <td>Golf</td>\n      <td>ABBOTT, Margaret Ives</td>\n      <td>USA</td>\n      <td>Women</td>\n      <td>individual</td>\n      <td>W</td>\n      <td>Gold</td>\n    </tr>\n    <tr>\n      <th>641</th>\n      <td>Paris</td>\n      <td>1900</td>\n      <td>Tennis</td>\n      <td>Tennis</td>\n      <td>COOPER, Charlotte</td>\n      <td>GBR</td>\n      <td>Women</td>\n      <td>mixed doubles</td>\n      <td>X</td>\n      <td>Gold</td>\n    </tr>\n    <tr>\n      <th>649</th>\n      <td>Paris</td>\n      <td>1900</td>\n      <td>Tennis</td>\n      <td>Tennis</td>\n      <td>COOPER, Charlotte</td>\n      <td>GBR</td>\n      <td>Women</td>\n      <td>singles</td>\n      <td>W</td>\n      <td>Gold</td>\n    </tr>\n    <tr>\n      <th>710</th>\n      <td>St Louis</td>\n      <td>1904</td>\n      <td>Archery</td>\n      <td>Archery</td>\n      <td>HOWELL, Matilda Scott</td>\n      <td>USA</td>\n      <td>Women</td>\n      <td>double columbia round (50y - 40y - 30y)</td>\n      <td>W</td>\n      <td>Gold</td>\n    </tr>\n    <tr>\n      <th>713</th>\n      <td>St Louis</td>\n      <td>1904</td>\n      <td>Archery</td>\n      <td>Archery</td>\n      <td>HOWELL, Matilda Scott</td>\n      <td>USA</td>\n      <td>Women</td>\n      <td>double national round (60y - 50y)</td>\n      <td>W</td>\n      <td>Gold</td>\n    </tr>\n    <tr>\n      <th>...</th>\n      <td>...</td>\n      <td>...</td>\n      <td>...</td>\n      <td>...</td>\n      <td>...</td>\n      <td>...</td>\n      <td>...</td>\n      <td>...</td>\n      <td>...</td>\n      <td>...</td>\n    </tr>\n    <tr>\n      <th>29134</th>\n      <td>Beijing</td>\n      <td>2008</td>\n      <td>Weightlifting</td>\n      <td>Weightlifting</td>\n      <td>CAO, Lei</td>\n      <td>CHN</td>\n      <td>Women</td>\n      <td>75kg</td>\n      <td>W</td>\n      <td>Gold</td>\n    </tr>\n    <tr>\n      <th>29147</th>\n      <td>Beijing</td>\n      <td>2008</td>\n      <td>Wrestling</td>\n      <td>Wrestling Free.</td>\n      <td>HUYNH, Carol</td>\n      <td>CAN</td>\n      <td>Women</td>\n      <td>- 48kg</td>\n      <td>W</td>\n      <td>Gold</td>\n    </tr>\n    <tr>\n      <th>29155</th>\n      <td>Beijing</td>\n      <td>2008</td>\n      <td>Wrestling</td>\n      <td>Wrestling Free.</td>\n      <td>YOSHIDA, Saori</td>\n      <td>JPN</td>\n      <td>Women</td>\n      <td>48 - 55kg</td>\n      <td>W</td>\n      <td>Gold</td>\n    </tr>\n    <tr>\n      <th>29163</th>\n      <td>Beijing</td>\n      <td>2008</td>\n      <td>Wrestling</td>\n      <td>Wrestling Free.</td>\n      <td>ICHO, Kaori</td>\n      <td>JPN</td>\n      <td>Women</td>\n      <td>55 - 63kg</td>\n      <td>W</td>\n      <td>Gold</td>\n    </tr>\n    <tr>\n      <th>29171</th>\n      <td>Beijing</td>\n      <td>2008</td>\n      <td>Wrestling</td>\n      <td>Wrestling Free.</td>\n      <td>WANG, Jiao</td>\n      <td>CHN</td>\n      <td>Women</td>\n      <td>63 - 72kg</td>\n      <td>W</td>\n      <td>Gold</td>\n    </tr>\n  </tbody>\n</table>\n<p>2485 rows × 10 columns</p>\n</div>"
     },
     "metadata": {},
     "execution_count": 12
    }
   ],
   "source": [
    "oo[(oo.Medal == 'Gold') & (oo.Gender == 'Women')]\n"
   ]
  },
  {
   "cell_type": "markdown",
   "metadata": {},
   "source": [
    "## 4 - String handling\n",
    "* über `Series.str` kann man auf StringKlasse-Methoden zugreifen: \n",
    "    1. `Series.str.constrain()`\n",
    "    2. `Series.str.startswith()`\n",
    "    3. `Series.str.isnumeric()`\n"
   ]
  },
  {
   "cell_type": "code",
   "execution_count": 16,
   "metadata": {},
   "outputs": [
    {
     "output_type": "execute_result",
     "data": {
      "text/plain": "0        False\n1        False\n2        False\n3        False\n4        False\n         ...  \n29211    False\n29212    False\n29213    False\n29214    False\n29215    False\nName: Athlete, Length: 29216, dtype: bool"
     },
     "metadata": {},
     "execution_count": 16
    }
   ],
   "source": [
    "oo.Athlete.str.contains('Florence') # da contains() True/False zurückliefert => wird dieses auch angezeigt =>"
   ]
  },
  {
   "cell_type": "code",
   "execution_count": 15,
   "metadata": {},
   "outputs": [
    {
     "output_type": "execute_result",
     "data": {
      "text/plain": "                        City  Edition  ... Event_gender   Medal\n1843                  London     1908  ...            W    Gold\n1848                  London     1908  ...            X  Bronze\n4173                   Paris     1924  ...            W  Silver\n8162                Helsinki     1952  ...            W  Bronze\n9060   Melbourne / Stockholm     1956  ...            W  Silver\n10849                  Tokyo     1964  ...            W  Bronze\n16817            Los Angeles     1984  ...            W  Silver\n18287                  Seoul     1988  ...            W    Gold\n18305                  Seoul     1988  ...            W    Gold\n18347                  Seoul     1988  ...            W    Gold\n18374                  Seoul     1988  ...            W  Silver\n\n[11 rows x 10 columns]",
      "text/html": "<div>\n<style scoped>\n    .dataframe tbody tr th:only-of-type {\n        vertical-align: middle;\n    }\n\n    .dataframe tbody tr th {\n        vertical-align: top;\n    }\n\n    .dataframe thead th {\n        text-align: right;\n    }\n</style>\n<table border=\"1\" class=\"dataframe\">\n  <thead>\n    <tr style=\"text-align: right;\">\n      <th></th>\n      <th>City</th>\n      <th>Edition</th>\n      <th>Sport</th>\n      <th>Discipline</th>\n      <th>Athlete</th>\n      <th>NOC</th>\n      <th>Gender</th>\n      <th>Event</th>\n      <th>Event_gender</th>\n      <th>Medal</th>\n    </tr>\n  </thead>\n  <tbody>\n    <tr>\n      <th>1843</th>\n      <td>London</td>\n      <td>1908</td>\n      <td>Skating</td>\n      <td>Figure skating</td>\n      <td>SYERS, Florence</td>\n      <td>GBR</td>\n      <td>Women</td>\n      <td>individual</td>\n      <td>W</td>\n      <td>Gold</td>\n    </tr>\n    <tr>\n      <th>1848</th>\n      <td>London</td>\n      <td>1908</td>\n      <td>Skating</td>\n      <td>Figure skating</td>\n      <td>SYERS, Florence</td>\n      <td>GBR</td>\n      <td>Women</td>\n      <td>pairs</td>\n      <td>X</td>\n      <td>Bronze</td>\n    </tr>\n    <tr>\n      <th>4173</th>\n      <td>Paris</td>\n      <td>1924</td>\n      <td>Aquatics</td>\n      <td>Swimming</td>\n      <td>BARKER, Florence</td>\n      <td>GBR</td>\n      <td>Women</td>\n      <td>4x100m freestyle relay</td>\n      <td>W</td>\n      <td>Silver</td>\n    </tr>\n    <tr>\n      <th>8162</th>\n      <td>Helsinki</td>\n      <td>1952</td>\n      <td>Athletics</td>\n      <td>Athletics</td>\n      <td>FOULDS-PAUL, June Florence</td>\n      <td>GBR</td>\n      <td>Women</td>\n      <td>4x100m relay</td>\n      <td>W</td>\n      <td>Bronze</td>\n    </tr>\n    <tr>\n      <th>9060</th>\n      <td>Melbourne / Stockholm</td>\n      <td>1956</td>\n      <td>Athletics</td>\n      <td>Athletics</td>\n      <td>FOULDS-PAUL, June Florence</td>\n      <td>GBR</td>\n      <td>Women</td>\n      <td>4x100m relay</td>\n      <td>W</td>\n      <td>Silver</td>\n    </tr>\n    <tr>\n      <th>10849</th>\n      <td>Tokyo</td>\n      <td>1964</td>\n      <td>Athletics</td>\n      <td>Athletics</td>\n      <td>AMOORE-POLLOCK, Judith Florence</td>\n      <td>AUS</td>\n      <td>Women</td>\n      <td>400m</td>\n      <td>W</td>\n      <td>Bronze</td>\n    </tr>\n    <tr>\n      <th>16817</th>\n      <td>Los Angeles</td>\n      <td>1984</td>\n      <td>Athletics</td>\n      <td>Athletics</td>\n      <td>GRIFFITH-JOYNER, Florence</td>\n      <td>USA</td>\n      <td>Women</td>\n      <td>200m</td>\n      <td>W</td>\n      <td>Silver</td>\n    </tr>\n    <tr>\n      <th>18287</th>\n      <td>Seoul</td>\n      <td>1988</td>\n      <td>Athletics</td>\n      <td>Athletics</td>\n      <td>GRIFFITH-JOYNER, Florence</td>\n      <td>USA</td>\n      <td>Women</td>\n      <td>100m</td>\n      <td>W</td>\n      <td>Gold</td>\n    </tr>\n    <tr>\n      <th>18305</th>\n      <td>Seoul</td>\n      <td>1988</td>\n      <td>Athletics</td>\n      <td>Athletics</td>\n      <td>GRIFFITH-JOYNER, Florence</td>\n      <td>USA</td>\n      <td>Women</td>\n      <td>200m</td>\n      <td>W</td>\n      <td>Gold</td>\n    </tr>\n    <tr>\n      <th>18347</th>\n      <td>Seoul</td>\n      <td>1988</td>\n      <td>Athletics</td>\n      <td>Athletics</td>\n      <td>GRIFFITH-JOYNER, Florence</td>\n      <td>USA</td>\n      <td>Women</td>\n      <td>4x100m relay</td>\n      <td>W</td>\n      <td>Gold</td>\n    </tr>\n    <tr>\n      <th>18374</th>\n      <td>Seoul</td>\n      <td>1988</td>\n      <td>Athletics</td>\n      <td>Athletics</td>\n      <td>GRIFFITH-JOYNER, Florence</td>\n      <td>USA</td>\n      <td>Women</td>\n      <td>4x400m relay</td>\n      <td>W</td>\n      <td>Silver</td>\n    </tr>\n  </tbody>\n</table>\n</div>"
     },
     "metadata": {},
     "execution_count": 15
    }
   ],
   "source": [
    "oo[oo.Athlete.str.contains('Florence')]"
   ]
  },
  {
   "cell_type": "markdown",
   "metadata": {},
   "source": [
    "## 5 - Challenge/Solution\n",
    "1. In which events did Jesse Owens win a Medal\n",
    "2. Which country has won the most men's gold Medals in Singles badminto over the years\n",
    "    1. sort alphabetically by player's name\n",
    "3. Which three countries have won the most medals in resent years (from 1984 to 2008)\n",
    "4. Display the male gold medal winners for the 100m track and field sprint event over the years\n",
    "    1. list result with most recent\n",
    "    2. show Olympic city edition, athlete, country they present"
   ]
  },
  {
   "cell_type": "code",
   "execution_count": 18,
   "metadata": {},
   "outputs": [
    {
     "output_type": "execute_result",
     "data": {
      "text/plain": "6427            100m\n6439            200m\n6456    4x100m relay\n6523       long jump\nName: Event, dtype: object"
     },
     "metadata": {},
     "execution_count": 18
    }
   ],
   "source": [
    "jessi_owens: pd.core.frame.DataFrame = oo[oo['Athlete'] == 'OWENS, Jesse']\n",
    "#type(jessi_owens)\n",
    "jessi_owens['Event']"
   ]
  },
  {
   "cell_type": "code",
   "execution_count": 26,
   "metadata": {},
   "outputs": [
    {
     "output_type": "execute_result",
     "data": {
      "text/plain": "            City  Edition      Sport Discipline                  Athlete  NOC  \\\n20045  Barcelona     1992  Badminton  Badminton        BUDI KUSUMA, Alan  INA   \n23701     Sydney     2000  Badminton  Badminton            GUNAWAN, Tony  INA   \n25718     Athens     2004  Badminton  Badminton             HA, Tae-Kwon  KOR   \n25734     Athens     2004  Badminton  Badminton          HIDAYAT, Taufik  INA   \n21787    Atlanta     1996  Badminton  Badminton  HOYER-LARSEN, Poul Erik  DEN   \n23717     Sydney     2000  Badminton  Badminton              JI, Xinpeng  CHN   \n27725    Beijing     2008  Badminton  Badminton             KIDO, Markis  INA   \n25719     Athens     2004  Badminton  Badminton           KIM, Dong Moon  KOR   \n21773    Atlanta     1996  Badminton  Badminton           KIM, Dong Moon  KOR   \n20031  Barcelona     1992  Badminton  Badminton            KIM, Moon-Soo  KOR   \n27727    Beijing     2008  Badminton  Badminton             LEE, Yongdae  KOR   \n27741    Beijing     2008  Badminton  Badminton                 LIN, Dan  CHN   \n21771    Atlanta     1996  Badminton  Badminton     MAINAKY, Rexy Ronald  INA   \n20032  Barcelona     1992  Badminton  Badminton           PARK, Joo-Bong  KOR   \n27726    Beijing     2008  Badminton  Badminton         SETIAWAN, Hendra  INA   \n21772    Atlanta     1996  Badminton  Badminton    SUBAGJA, Ricky Achmad  INA   \n23702     Sydney     2000  Badminton  Badminton           WIJAYA, Candra  INA   \n25720     Athens     2004  Badminton  Badminton               ZHANG, Jun  CHN   \n23703     Sydney     2000  Badminton  Badminton               ZHANG, Jun  CHN   \n\n      Gender    Event Event_gender Medal  \n20045    Men  singles            M  Gold  \n23701    Men  doubles            M  Gold  \n25718    Men  doubles            M  Gold  \n25734    Men  singles            M  Gold  \n21787    Men  singles            M  Gold  \n23717    Men  singles            M  Gold  \n27725    Men  doubles            M  Gold  \n25719    Men  doubles            M  Gold  \n21773    Men  doubles            X  Gold  \n20031    Men  doubles            M  Gold  \n27727    Men  doubles            X  Gold  \n27741    Men  singles            M  Gold  \n21771    Men  doubles            M  Gold  \n20032    Men  doubles            M  Gold  \n27726    Men  doubles            M  Gold  \n21772    Men  doubles            M  Gold  \n23702    Men  doubles            M  Gold  \n25720    Men  doubles            X  Gold  \n23703    Men  doubles            X  Gold  ",
      "text/html": "<div>\n<style scoped>\n    .dataframe tbody tr th:only-of-type {\n        vertical-align: middle;\n    }\n\n    .dataframe tbody tr th {\n        vertical-align: top;\n    }\n\n    .dataframe thead th {\n        text-align: right;\n    }\n</style>\n<table border=\"1\" class=\"dataframe\">\n  <thead>\n    <tr style=\"text-align: right;\">\n      <th></th>\n      <th>City</th>\n      <th>Edition</th>\n      <th>Sport</th>\n      <th>Discipline</th>\n      <th>Athlete</th>\n      <th>NOC</th>\n      <th>Gender</th>\n      <th>Event</th>\n      <th>Event_gender</th>\n      <th>Medal</th>\n    </tr>\n  </thead>\n  <tbody>\n    <tr>\n      <th>20045</th>\n      <td>Barcelona</td>\n      <td>1992</td>\n      <td>Badminton</td>\n      <td>Badminton</td>\n      <td>BUDI KUSUMA, Alan</td>\n      <td>INA</td>\n      <td>Men</td>\n      <td>singles</td>\n      <td>M</td>\n      <td>Gold</td>\n    </tr>\n    <tr>\n      <th>23701</th>\n      <td>Sydney</td>\n      <td>2000</td>\n      <td>Badminton</td>\n      <td>Badminton</td>\n      <td>GUNAWAN, Tony</td>\n      <td>INA</td>\n      <td>Men</td>\n      <td>doubles</td>\n      <td>M</td>\n      <td>Gold</td>\n    </tr>\n    <tr>\n      <th>25718</th>\n      <td>Athens</td>\n      <td>2004</td>\n      <td>Badminton</td>\n      <td>Badminton</td>\n      <td>HA, Tae-Kwon</td>\n      <td>KOR</td>\n      <td>Men</td>\n      <td>doubles</td>\n      <td>M</td>\n      <td>Gold</td>\n    </tr>\n    <tr>\n      <th>25734</th>\n      <td>Athens</td>\n      <td>2004</td>\n      <td>Badminton</td>\n      <td>Badminton</td>\n      <td>HIDAYAT, Taufik</td>\n      <td>INA</td>\n      <td>Men</td>\n      <td>singles</td>\n      <td>M</td>\n      <td>Gold</td>\n    </tr>\n    <tr>\n      <th>21787</th>\n      <td>Atlanta</td>\n      <td>1996</td>\n      <td>Badminton</td>\n      <td>Badminton</td>\n      <td>HOYER-LARSEN, Poul Erik</td>\n      <td>DEN</td>\n      <td>Men</td>\n      <td>singles</td>\n      <td>M</td>\n      <td>Gold</td>\n    </tr>\n    <tr>\n      <th>23717</th>\n      <td>Sydney</td>\n      <td>2000</td>\n      <td>Badminton</td>\n      <td>Badminton</td>\n      <td>JI, Xinpeng</td>\n      <td>CHN</td>\n      <td>Men</td>\n      <td>singles</td>\n      <td>M</td>\n      <td>Gold</td>\n    </tr>\n    <tr>\n      <th>27725</th>\n      <td>Beijing</td>\n      <td>2008</td>\n      <td>Badminton</td>\n      <td>Badminton</td>\n      <td>KIDO, Markis</td>\n      <td>INA</td>\n      <td>Men</td>\n      <td>doubles</td>\n      <td>M</td>\n      <td>Gold</td>\n    </tr>\n    <tr>\n      <th>25719</th>\n      <td>Athens</td>\n      <td>2004</td>\n      <td>Badminton</td>\n      <td>Badminton</td>\n      <td>KIM, Dong Moon</td>\n      <td>KOR</td>\n      <td>Men</td>\n      <td>doubles</td>\n      <td>M</td>\n      <td>Gold</td>\n    </tr>\n    <tr>\n      <th>21773</th>\n      <td>Atlanta</td>\n      <td>1996</td>\n      <td>Badminton</td>\n      <td>Badminton</td>\n      <td>KIM, Dong Moon</td>\n      <td>KOR</td>\n      <td>Men</td>\n      <td>doubles</td>\n      <td>X</td>\n      <td>Gold</td>\n    </tr>\n    <tr>\n      <th>20031</th>\n      <td>Barcelona</td>\n      <td>1992</td>\n      <td>Badminton</td>\n      <td>Badminton</td>\n      <td>KIM, Moon-Soo</td>\n      <td>KOR</td>\n      <td>Men</td>\n      <td>doubles</td>\n      <td>M</td>\n      <td>Gold</td>\n    </tr>\n    <tr>\n      <th>27727</th>\n      <td>Beijing</td>\n      <td>2008</td>\n      <td>Badminton</td>\n      <td>Badminton</td>\n      <td>LEE, Yongdae</td>\n      <td>KOR</td>\n      <td>Men</td>\n      <td>doubles</td>\n      <td>X</td>\n      <td>Gold</td>\n    </tr>\n    <tr>\n      <th>27741</th>\n      <td>Beijing</td>\n      <td>2008</td>\n      <td>Badminton</td>\n      <td>Badminton</td>\n      <td>LIN, Dan</td>\n      <td>CHN</td>\n      <td>Men</td>\n      <td>singles</td>\n      <td>M</td>\n      <td>Gold</td>\n    </tr>\n    <tr>\n      <th>21771</th>\n      <td>Atlanta</td>\n      <td>1996</td>\n      <td>Badminton</td>\n      <td>Badminton</td>\n      <td>MAINAKY, Rexy Ronald</td>\n      <td>INA</td>\n      <td>Men</td>\n      <td>doubles</td>\n      <td>M</td>\n      <td>Gold</td>\n    </tr>\n    <tr>\n      <th>20032</th>\n      <td>Barcelona</td>\n      <td>1992</td>\n      <td>Badminton</td>\n      <td>Badminton</td>\n      <td>PARK, Joo-Bong</td>\n      <td>KOR</td>\n      <td>Men</td>\n      <td>doubles</td>\n      <td>M</td>\n      <td>Gold</td>\n    </tr>\n    <tr>\n      <th>27726</th>\n      <td>Beijing</td>\n      <td>2008</td>\n      <td>Badminton</td>\n      <td>Badminton</td>\n      <td>SETIAWAN, Hendra</td>\n      <td>INA</td>\n      <td>Men</td>\n      <td>doubles</td>\n      <td>M</td>\n      <td>Gold</td>\n    </tr>\n    <tr>\n      <th>21772</th>\n      <td>Atlanta</td>\n      <td>1996</td>\n      <td>Badminton</td>\n      <td>Badminton</td>\n      <td>SUBAGJA, Ricky Achmad</td>\n      <td>INA</td>\n      <td>Men</td>\n      <td>doubles</td>\n      <td>M</td>\n      <td>Gold</td>\n    </tr>\n    <tr>\n      <th>23702</th>\n      <td>Sydney</td>\n      <td>2000</td>\n      <td>Badminton</td>\n      <td>Badminton</td>\n      <td>WIJAYA, Candra</td>\n      <td>INA</td>\n      <td>Men</td>\n      <td>doubles</td>\n      <td>M</td>\n      <td>Gold</td>\n    </tr>\n    <tr>\n      <th>25720</th>\n      <td>Athens</td>\n      <td>2004</td>\n      <td>Badminton</td>\n      <td>Badminton</td>\n      <td>ZHANG, Jun</td>\n      <td>CHN</td>\n      <td>Men</td>\n      <td>doubles</td>\n      <td>X</td>\n      <td>Gold</td>\n    </tr>\n    <tr>\n      <th>23703</th>\n      <td>Sydney</td>\n      <td>2000</td>\n      <td>Badminton</td>\n      <td>Badminton</td>\n      <td>ZHANG, Jun</td>\n      <td>CHN</td>\n      <td>Men</td>\n      <td>doubles</td>\n      <td>X</td>\n      <td>Gold</td>\n    </tr>\n  </tbody>\n</table>\n</div>"
     },
     "metadata": {},
     "execution_count": 26
    }
   ],
   "source": [
    "gold_medals_badminton: pd.core.frame.DataFrame = oo[(oo.Medal=='Gold') & (oo.Gender == 'Men') & (oo.Sport == 'Badminton')]\n",
    "gold_medals_badminton\n",
    "\n",
    "gold_medals_badminton.sort_values(by='Athlete')"
   ]
  },
  {
   "cell_type": "code",
   "execution_count": 27,
   "metadata": {},
   "outputs": [
    {
     "output_type": "execute_result",
     "data": {
      "text/plain": "USA    1837\nAUS     762\nGER     691\nName: NOC, dtype: int64"
     },
     "metadata": {},
     "execution_count": 27
    }
   ],
   "source": [
    "recent: pd.core.frame.DataFrame = oo[oo['Edition'] >= 1984]\n",
    "recent.NOC.value_counts().head(3)"
   ]
  },
  {
   "cell_type": "code",
   "execution_count": 35,
   "metadata": {},
   "outputs": [
    {
     "output_type": "execute_result",
     "data": {
      "text/plain": "                        City  Edition                Athlete  NOC\n27552                Beijing     2008            BOLT, Usain  JAM\n25539                 Athens     2004         GATLIN, Justin  USA\n23521                 Sydney     2000        GREENE, Maurice  USA\n21598                Atlanta     1996        BAILEY, Donovan  CAN\n19859              Barcelona     1992      CHRISTIE, Linford  GBR\n18284                  Seoul     1988            LEWIS, Carl  USA\n16794            Los Angeles     1984            LEWIS, Carl  USA\n15374                 Moscow     1980           WELLS, Allan  GBR\n14069               Montreal     1976       CRAWFORD, Hasely  TRI\n12902                 Munich     1972         BORZOV, Valery  URS\n11865                 Mexico     1968       HINES, James Ray  USA\n10823                  Tokyo     1964          HAYES, Robert  USA\n9924                    Rome     1960            HARY, Armin  EUA\n9009   Melbourne / Stockholm     1956  MORROW, Robert Joseph  USA\n8121                Helsinki     1952        REMIGINO, Lindy  USA\n7302                  London     1948      DILLARD, Harrison  USA\n6427                  Berlin     1936           OWENS, Jesse  USA\n5806             Los Angeles     1932           TOLAN, Eddie  USA\n5095               Amsterdam     1928        WILLIAMS, Percy  CAN\n4236                   Paris     1924       ABRAHAMS, Harold  GBR\n2996                 Antwerp     1920       PADDOCK, Charles  USA\n2022               Stockholm     1912           CRAIG, Ralph  USA\n1191                  London     1908       WALKER, Reginald  RSA\n737                 St Louis     1904           HAHN, Archie  USA\n231                    Paris     1900        JARVIS, Francis  USA\n13                    Athens     1896          BURKE, Thomas  USA",
      "text/html": "<div>\n<style scoped>\n    .dataframe tbody tr th:only-of-type {\n        vertical-align: middle;\n    }\n\n    .dataframe tbody tr th {\n        vertical-align: top;\n    }\n\n    .dataframe thead th {\n        text-align: right;\n    }\n</style>\n<table border=\"1\" class=\"dataframe\">\n  <thead>\n    <tr style=\"text-align: right;\">\n      <th></th>\n      <th>City</th>\n      <th>Edition</th>\n      <th>Athlete</th>\n      <th>NOC</th>\n    </tr>\n  </thead>\n  <tbody>\n    <tr>\n      <th>27552</th>\n      <td>Beijing</td>\n      <td>2008</td>\n      <td>BOLT, Usain</td>\n      <td>JAM</td>\n    </tr>\n    <tr>\n      <th>25539</th>\n      <td>Athens</td>\n      <td>2004</td>\n      <td>GATLIN, Justin</td>\n      <td>USA</td>\n    </tr>\n    <tr>\n      <th>23521</th>\n      <td>Sydney</td>\n      <td>2000</td>\n      <td>GREENE, Maurice</td>\n      <td>USA</td>\n    </tr>\n    <tr>\n      <th>21598</th>\n      <td>Atlanta</td>\n      <td>1996</td>\n      <td>BAILEY, Donovan</td>\n      <td>CAN</td>\n    </tr>\n    <tr>\n      <th>19859</th>\n      <td>Barcelona</td>\n      <td>1992</td>\n      <td>CHRISTIE, Linford</td>\n      <td>GBR</td>\n    </tr>\n    <tr>\n      <th>18284</th>\n      <td>Seoul</td>\n      <td>1988</td>\n      <td>LEWIS, Carl</td>\n      <td>USA</td>\n    </tr>\n    <tr>\n      <th>16794</th>\n      <td>Los Angeles</td>\n      <td>1984</td>\n      <td>LEWIS, Carl</td>\n      <td>USA</td>\n    </tr>\n    <tr>\n      <th>15374</th>\n      <td>Moscow</td>\n      <td>1980</td>\n      <td>WELLS, Allan</td>\n      <td>GBR</td>\n    </tr>\n    <tr>\n      <th>14069</th>\n      <td>Montreal</td>\n      <td>1976</td>\n      <td>CRAWFORD, Hasely</td>\n      <td>TRI</td>\n    </tr>\n    <tr>\n      <th>12902</th>\n      <td>Munich</td>\n      <td>1972</td>\n      <td>BORZOV, Valery</td>\n      <td>URS</td>\n    </tr>\n    <tr>\n      <th>11865</th>\n      <td>Mexico</td>\n      <td>1968</td>\n      <td>HINES, James Ray</td>\n      <td>USA</td>\n    </tr>\n    <tr>\n      <th>10823</th>\n      <td>Tokyo</td>\n      <td>1964</td>\n      <td>HAYES, Robert</td>\n      <td>USA</td>\n    </tr>\n    <tr>\n      <th>9924</th>\n      <td>Rome</td>\n      <td>1960</td>\n      <td>HARY, Armin</td>\n      <td>EUA</td>\n    </tr>\n    <tr>\n      <th>9009</th>\n      <td>Melbourne / Stockholm</td>\n      <td>1956</td>\n      <td>MORROW, Robert Joseph</td>\n      <td>USA</td>\n    </tr>\n    <tr>\n      <th>8121</th>\n      <td>Helsinki</td>\n      <td>1952</td>\n      <td>REMIGINO, Lindy</td>\n      <td>USA</td>\n    </tr>\n    <tr>\n      <th>7302</th>\n      <td>London</td>\n      <td>1948</td>\n      <td>DILLARD, Harrison</td>\n      <td>USA</td>\n    </tr>\n    <tr>\n      <th>6427</th>\n      <td>Berlin</td>\n      <td>1936</td>\n      <td>OWENS, Jesse</td>\n      <td>USA</td>\n    </tr>\n    <tr>\n      <th>5806</th>\n      <td>Los Angeles</td>\n      <td>1932</td>\n      <td>TOLAN, Eddie</td>\n      <td>USA</td>\n    </tr>\n    <tr>\n      <th>5095</th>\n      <td>Amsterdam</td>\n      <td>1928</td>\n      <td>WILLIAMS, Percy</td>\n      <td>CAN</td>\n    </tr>\n    <tr>\n      <th>4236</th>\n      <td>Paris</td>\n      <td>1924</td>\n      <td>ABRAHAMS, Harold</td>\n      <td>GBR</td>\n    </tr>\n    <tr>\n      <th>2996</th>\n      <td>Antwerp</td>\n      <td>1920</td>\n      <td>PADDOCK, Charles</td>\n      <td>USA</td>\n    </tr>\n    <tr>\n      <th>2022</th>\n      <td>Stockholm</td>\n      <td>1912</td>\n      <td>CRAIG, Ralph</td>\n      <td>USA</td>\n    </tr>\n    <tr>\n      <th>1191</th>\n      <td>London</td>\n      <td>1908</td>\n      <td>WALKER, Reginald</td>\n      <td>RSA</td>\n    </tr>\n    <tr>\n      <th>737</th>\n      <td>St Louis</td>\n      <td>1904</td>\n      <td>HAHN, Archie</td>\n      <td>USA</td>\n    </tr>\n    <tr>\n      <th>231</th>\n      <td>Paris</td>\n      <td>1900</td>\n      <td>JARVIS, Francis</td>\n      <td>USA</td>\n    </tr>\n    <tr>\n      <th>13</th>\n      <td>Athens</td>\n      <td>1896</td>\n      <td>BURKE, Thomas</td>\n      <td>USA</td>\n    </tr>\n  </tbody>\n</table>\n</div>"
     },
     "metadata": {},
     "execution_count": 35
    }
   ],
   "source": [
    "gold_medal_winners = oo[(oo.Gender == 'Men') & (oo.Medal == 'Gold') & (oo.Event == '100m')]\n",
    "gold_medal_winners.sort_values(by='Edition', ascending=False)\n",
    "gold_medal_winners.sort_values(by='Edition', ascending=False)[['City', 'Edition', 'Athlete', 'NOC']]"
   ]
  }
 ],
 "metadata": {
  "language_info": {
   "name": "python",
   "codemirror_mode": {
    "name": "ipython",
    "version": 3
   },
   "version": "3.7.7-final"
  },
  "orig_nbformat": 2,
  "file_extension": ".py",
  "mimetype": "text/x-python",
  "name": "python",
  "npconvert_exporter": "python",
  "pygments_lexer": "ipython3",
  "version": 3,
  "kernelspec": {
   "name": "python37764bit4e807fddc8e943d58cd1b797b94c1b63",
   "display_name": "Python 3.7.7 64-bit"
  }
 },
 "nbformat": 4,
 "nbformat_minor": 2
}