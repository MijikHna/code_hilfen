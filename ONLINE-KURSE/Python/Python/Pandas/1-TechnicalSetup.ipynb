{
 "cells": [
  {
   "cell_type": "markdown",
   "metadata": {},
   "source": [
    "# 1 - Technical Setup"
   ]
  },
  {
   "cell_type": "markdown",
   "metadata": {},
   "source": [
    "## 1 - Installing Anaconda\n",
    "* Anaconda = Tool für Data Science\n",
    "* Conda = Package-Manager (von Anaconda)\n",
    "    * z.B `conda install PIP-Package`"
   ]
  },
  {
   "cell_type": "markdown",
   "metadata": {},
   "source": [
    "## 2 - Downloading the data set\n",
    "1. in google eingebe: \"summer olympic media data\"\n",
    "2. den Link von **theguardian** anklicken\n",
    "3. Get the Data anklicken\n",
    "4. download full Spreadchead\n",
    "    1. dritten Tab (ALL MEDALIST) download ans CSV"
   ]
  },
  {
   "cell_type": "markdown",
   "metadata": {},
   "source": [
    "## 3 - Using the Jupyter Notebook\n",
    "\n"
   ]
  },
  {
   "cell_type": "markdown",
   "metadata": {},
   "source": [
    "## 4 - Using Pandas\n",
    "1. Pandas importieren\n",
    "2. `pd.` + TAB = Vorschläge anzeigen\n",
    "3. `pd?` - Docstring anzeigen"
   ]
  },
  {
   "cell_type": "code",
   "execution_count": 5,
   "metadata": {},
   "outputs": [
    {
     "output_type": "stream",
     "name": "stdout",
     "text": "\nINSTALLED VERSIONS\n------------------\ncommit           : None\npython           : 3.7.3.final.0\npython-bits      : 64\nOS               : Linux\nOS-release       : 4.19.0-8-amd64\nmachine          : x86_64\nprocessor        : \nbyteorder        : little\nLC_ALL           : None\nLANG             : de_DE.UTF-8\nLOCALE           : de_DE.UTF-8\n\npandas           : 1.0.3\nnumpy            : 1.18.2\npytz             : 2019.3\ndateutil         : 2.8.1\npip              : 20.0.2\nsetuptools       : 46.1.3\nCython           : None\npytest           : None\nhypothesis       : None\nsphinx           : None\nblosc            : None\nfeather          : None\nxlsxwriter       : None\nlxml.etree       : 4.5.0\nhtml5lib         : None\npymysql          : None\npsycopg2         : None\njinja2           : 2.11.2\nIPython          : 7.13.0\npandas_datareader: None\nbs4              : None\nbottleneck       : None\nfastparquet      : None\ngcsfs            : None\nlxml.etree       : 4.5.0\nmatplotlib       : 3.2.1\nnumexpr          : None\nodfpy            : None\nopenpyxl         : None\npandas_gbq       : None\npyarrow          : None\npytables         : None\npytest           : None\npyxlsb           : None\ns3fs             : None\nscipy            : None\nsqlalchemy       : None\ntables           : None\ntabulate         : None\nxarray           : None\nxlrd             : None\nxlwt             : None\nxlsxwriter       : None\nnumba            : None\n"
    },
    {
     "output_type": "execute_result",
     "data": {
      "text/plain": "'1.0.3'"
     },
     "metadata": {},
     "execution_count": 5
    }
   ],
   "source": [
    "# Import Methode 1\n",
    "import pandas\n",
    "\n",
    "pandas.show_versions()\n",
    "\n",
    "# Import Methode 2 = Alias Methode\n",
    "import pandas as pd\n",
    "\n",
    "pd.__version__"
   ]
  }
 ],
 "metadata": {
  "language_info": {
   "name": "python",
   "codemirror_mode": {
    "name": "ipython",
    "version": 3
   },
   "version": "3.7.3-final"
  },
  "orig_nbformat": 2,
  "file_extension": ".py",
  "mimetype": "text/x-python",
  "name": "python",
  "npconvert_exporter": "python",
  "pygments_lexer": "ipython3",
  "version": 3,
  "kernelspec": {
   "name": "python37364bitd40ffe3c4fa549c8a6e666b1b34165fc",
   "display_name": "Python 3.7.3 64-bit"
  }
 },
 "nbformat": 4,
 "nbformat_minor": 2
}