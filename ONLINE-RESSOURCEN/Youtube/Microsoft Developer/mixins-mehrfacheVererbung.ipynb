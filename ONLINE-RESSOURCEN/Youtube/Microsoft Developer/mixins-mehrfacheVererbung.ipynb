{
 "cells": [
  {
   "cell_type": "code",
   "execution_count": 31,
   "metadata": {},
   "outputs": [],
   "source": [
    "class Loggable:\n",
    "    def __init__(self):\n",
    "        self.title: stf = ''\n",
    "        print('Konstruktor Loggable called')\n",
    "    \n",
    "    def log(self):\n",
    "        print('Log message from ' + self.title)"
   ]
  },
  {
   "cell_type": "code",
   "execution_count": 32,
   "metadata": {},
   "outputs": [],
   "source": [
    "class Connection:\n",
    "    def __init__(self):\n",
    "        self.server: str = ''\n",
    "        print('Konstruktor Connection called')\n",
    "    \n",
    "    def connect(self):\n",
    "        print('Connection to DB on ' + self.server)"
   ]
  },
  {
   "cell_type": "code",
   "execution_count": 33,
   "metadata": {},
   "outputs": [],
   "source": [
    "def framework(item):\n",
    "    if isinstance(item, Connection):\n",
    "        item.connect()\n",
    "\n",
    "    if isinstance(item, Loggable):\n",
    "        if isinstance(item, Loggable):\n",
    "            item.log()"
   ]
  },
  {
   "cell_type": "code",
   "execution_count": 34,
   "metadata": {},
   "outputs": [],
   "source": [
    "class SqlDB1(Connection, Loggable):\n",
    "    def __init__(self):\n",
    "        super().__init__()\n",
    "        self.title = 'SqL Connection Demo'\n",
    "        self.server = 'Some Server'\n",
    "    def test(self):\n",
    "        print('  -----')\n",
    "        Connection.connect(self)\n",
    "        Loggable.log(self)\n",
    "        print('  -----')"
   ]
  },
  {
   "cell_type": "code",
   "execution_count": 35,
   "metadata": {},
   "outputs": [],
   "source": [
    "class SqlDB2(Loggable, Connection):\n",
    "    def __init__(self):\n",
    "        super().__init__()\n",
    "        self.title = 'SqL Connection Demo'\n",
    "        self.server = 'Some Server'"
   ]
  },
  {
   "cell_type": "code",
   "execution_count": 37,
   "metadata": {},
   "outputs": [
    {
     "output_type": "stream",
     "name": "stdout",
     "text": "Konstruktor Connection called\nConnection to DB on Some Server\nLog message from SqL Connection Demo\n  -----\nConnection to DB on Some Server\nLog message from SqL Connection Demo\n  -----\n\n------\nKonstruktor Loggable called\nConnection to DB on Some Server\nLog message from SqL Connection Demo\n"
    }
   ],
   "source": [
    "sqlDB1: SqlDB1 = SqlDB1()\n",
    "framework(sqlDB1)\n",
    "sqlDB1.test()\n",
    "\n",
    "print()\n",
    "print('------')\n",
    "sqlDB2: SqlDB2 = SqlDB2() \n",
    "framework(sqlDB2)"
   ]
  },
  {
   "cell_type": "markdown",
   "metadata": {},
   "source": [
    "Also erste Klasse in der Liste ist Most Valueble Klasse"
   ]
  }
 ],
 "metadata": {
  "language_info": {
   "codemirror_mode": {
    "name": "ipython",
    "version": 3
   },
   "file_extension": ".py",
   "mimetype": "text/x-python",
   "name": "python",
   "nbconvert_exporter": "python",
   "pygments_lexer": "ipython3",
   "version": "3.7.7-final"
  },
  "orig_nbformat": 2,
  "kernelspec": {
   "name": "python37764bit4e807fddc8e943d58cd1b797b94c1b63",
   "display_name": "Python 3.7.7 64-bit"
  }
 },
 "nbformat": 4,
 "nbformat_minor": 2
}