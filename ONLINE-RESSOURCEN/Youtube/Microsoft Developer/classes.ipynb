{
 "cells": [
  {
   "cell_type": "code",
   "execution_count": 18,
   "metadata": {},
   "outputs": [],
   "source": [
    "class Presenter():\n",
    "    def __init__(self, name: str) -> 'Presenter':\n",
    "        self.name = name\n",
    "        print(\"Setter name() wurde aufgerufen\")\n",
    "\n",
    "    @property # @property und @name.setter gehören zusammen\n",
    "    def name(self):\n",
    "        print('Getter name() ... ')\n",
    "        return self.__name\n",
    "    @name.setter\n",
    "    def name(self, value: str):\n",
    "        print(\"Setter name() ...\")\n",
    "        self.__name = value"
   ]
  },
  {
   "cell_type": "code",
   "execution_count": 19,
   "metadata": {},
   "outputs": [
    {
     "output_type": "stream",
     "name": "stdout",
     "text": "Setter name() ...\nSetter name() wurde aufgerufen\nSetter name() ...\nGetter name() ... \nKirill 2\n"
    }
   ],
   "source": [
    "presenter = Presenter('Kirill')\n",
    "presenter.name = 'Kirill 2'\n",
    "print(presenter.name)"
   ]
  },
  {
   "cell_type": "code",
   "execution_count": null,
   "metadata": {},
   "outputs": [],
   "source": []
  }
 ],
 "metadata": {
  "language_info": {
   "codemirror_mode": {
    "name": "ipython",
    "version": 3
   },
   "file_extension": ".py",
   "mimetype": "text/x-python",
   "name": "python",
   "nbconvert_exporter": "python",
   "pygments_lexer": "ipython3",
   "version": "3.7.3-final"
  },
  "orig_nbformat": 2,
  "kernelspec": {
   "name": "python37364bitd40ffe3c4fa549c8a6e666b1b34165fc",
   "display_name": "Python 3.7.3 64-bit"
  }
 },
 "nbformat": 4,
 "nbformat_minor": 2
}