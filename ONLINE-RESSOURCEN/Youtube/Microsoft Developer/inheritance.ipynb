{
 "cells": [
  {
   "cell_type": "code",
   "execution_count": 4,
   "metadata": {},
   "outputs": [],
   "source": [
    "class Person():\n",
    "    name: str\n",
    "\n",
    "    def __init__(self, name):\n",
    "        self.name = name\n",
    "    def say_hello(self):\n",
    "        print('Eltern: Hello ' + self.name)"
   ]
  },
  {
   "cell_type": "code",
   "execution_count": 11,
   "metadata": {},
   "outputs": [],
   "source": [
    "class Student(Person):\n",
    "    def __init__(self, name: str, school:str):\n",
    "        \"\"\"\n",
    "        Parameters:\n",
    "            name (str)\n",
    "            school (str)\n",
    "        \"\"\"\n",
    "        super().__init__(name)\n",
    "        self.school = school\n",
    "    def sing_school_song(self):\n",
    "        print('Ode to ' + self.school)\n",
    "    def get_name_of_parrent(self): # funktioniert nicht\n",
    "        print('Eltern.name: ' + super().name)\n",
    "    def say_hello(self):\n",
    "        super().say_hello()\n",
    "        print('Kind: Hello ' + self.name)\n",
    "\n",
    "    def __str__(self):\n",
    "        return f'{self.name} besucht {self.school}'"
   ]
  },
  {
   "cell_type": "markdown",
   "metadata": {},
   "source": [
    "mit `super()` kann man auf Elter-Methoden zugreifen"
   ]
  },
  {
   "cell_type": "code",
   "execution_count": 12,
   "metadata": {},
   "outputs": [
    {
     "output_type": "stream",
     "name": "stdout",
     "text": "Eltern: Hello Kirill\nKind: Hello Kirill\nOde to UVM\nEltern.name: Kirill\nKirill besucht UVM\n-------\nIs this a student True\nIs this a person ? True\nIs this a student True\n"
    }
   ],
   "source": [
    "student = Student('Kirill', 'UVM') \n",
    "student.say_hello()\n",
    "student.sing_school_song()\n",
    "#student.get_name_of_parrent()\n",
    "print(\"Eltern.name: \" + student.name)\n",
    "print(student)\n",
    "\n",
    "#print(isinstance(student, Student))\n",
    "#print(isinstance(student, Person))\n",
    "#print(issubclass(Student, Person))\n",
    "print('-------')\n",
    "print('Is this a student {}'.format(isinstance(student, Student)))\n",
    "print(f'Is this a person ? { isinstance(student, Person) }')\n",
    "print('Is this a student {0}'.format(issubclass(Student, Person)))"
   ]
  },
  {
   "cell_type": "markdown",
   "metadata": {},
   "source": [
    "mit `f' {}'` wird alles was in `{}` steht in String konvertiert"
   ]
  }
 ],
 "metadata": {
  "language_info": {
   "codemirror_mode": {
    "name": "ipython",
    "version": 3
   },
   "file_extension": ".py",
   "mimetype": "text/x-python",
   "name": "python",
   "nbconvert_exporter": "python",
   "pygments_lexer": "ipython3",
   "version": "3.7.7-final"
  },
  "orig_nbformat": 2,
  "kernelspec": {
   "name": "python37764bit4e807fddc8e943d58cd1b797b94c1b63",
   "display_name": "Python 3.7.7 64-bit"
  }
 },
 "nbformat": 4,
 "nbformat_minor": 2
}