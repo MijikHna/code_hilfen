{
 "nbformat": 4,
 "nbformat_minor": 2,
 "metadata": {
  "language_info": {
   "name": "python",
   "codemirror_mode": {
    "name": "ipython",
    "version": 3
   },
   "version": "3.7.3-final"
  },
  "orig_nbformat": 2,
  "file_extension": ".py",
  "mimetype": "text/x-python",
  "name": "python",
  "npconvert_exporter": "python",
  "pygments_lexer": "ipython3",
  "version": 3,
  "kernelspec": {
   "name": "python37364bit8da75422cb644cea8898ce014649d9b1",
   "display_name": "Python 3.7.3 64-bit"
  }
 },
 "cells": [
  {
   "cell_type": "markdown",
   "execution_count": null,
   "metadata": {},
   "outputs": [],
   "source": [
    "1. `None` - Konstante so wie `null`\n",
    "2. `and` = `&&`; `or` = `||`; `not` = `!`\n",
    "3. `as` - wird für Aliases benutzt:"
   ]
  },
  {
   "cell_type": "code",
   "execution_count": null,
   "metadata": {},
   "outputs": [],
   "source": [
    "import numpy as np\n",
    "\n",
    "with open(\"test.txt\") as fileObjekt:\n",
    "    fileText = fileObjekt.read()\n",
    "    print(fileText)"
   ]
  },
  {
   "cell_type": "markdown",
   "execution_count": null,
   "metadata": {},
   "outputs": [],
   "source": [
    "4. `assert` - ähnlich wie `assert` in Java. Um z.B eine Variable auf bestimmten Wert zu testen. Wenn nicht `True` wird Ausführung abgebrochen"
   ]
  },
  {
   "cell_type": "code",
   "execution_count": null,
   "metadata": {},
   "outputs": [],
   "source": [
    "a = 4\n",
    "assert a > 5"
   ]
  },
  {
   "cell_type": "markdown",
   "execution_count": null,
   "metadata": {},
   "outputs": [],
   "source": [
    "5. `del` - Um Referenz auf ein Obj zu löschen, da in Python alles ein Obj. ist, kann man auf für einfache Variablen benutzen\n",
    "6. `try`, `except`, `raise`, `finally`"
   ]
  },
  {
   "cell_type": "code",
   "execution_count": null,
   "metadata": {},
   "outputs": [],
   "source": [
    "import sys\n",
    "\n",
    "def throws():\n",
    "    print(\"Starting throws()\")\n",
    "    raise RuntimeError(\"this is the error message\")\n",
    "\n",
    "def main():\n",
    "    try:\n",
    "        try:\n",
    "            throws() # in der Funktion wird raise Geworfen => wird in den except-Block gesprungen\n",
    "            return 0\n",
    "        except(Exception):\n",
    "            print(\"Caught an exception\")\n",
    "            return 1\n",
    "    finally:\n",
    "        print(\"Clean up\")\n",
    "\n",
    "if __name__ == '__main__':\n",
    "    sys.exit(main())"
   ]
  },
  {
   "cell_type": "markdown",
   "execution_count": null,
   "metadata": {},
   "outputs": [],
   "source": [
    "7. `global` - um innerhalb der Funktionen auf globale Variablen zu zugreifen"
   ]
  },
  {
   "cell_type": "code",
   "execution_count": null,
   "metadata": {},
   "outputs": [],
   "source": [
    "glob_var = 10\n",
    "\n",
    "def write():\n",
    "    #print(glob_var)\n",
    "    #glob_var = 15\n",
    "    #print(glob_var)\n",
    "\n",
    "    global glob_var\n",
    "    print(glob_var)\n",
    "    glob_var = 5\n",
    "    print(glob_var)\n",
    "\n",
    "write()"
   ]
  },
  {
   "cell_type": "markdown",
   "execution_count": null,
   "metadata": {},
   "outputs": [],
   "source": [
    "8. `lambda` - um annonyme Funktion zu schafen => wird direkt ausgeführt."
   ]
  },
  {
   "cell_type": "code",
   "execution_count": null,
   "metadata": {},
   "outputs": [],
   "source": [
    "add_one = lambda x: x + 1\n",
    "add_one(2)"
   ]
  },
  {
   "cell_type": "code",
   "execution_count": null,
   "metadata": {},
   "outputs": [],
   "source": [
    "(lambda x, y: x + y)(2,3)"
   ]
  },
  {
   "cell_type": "code",
   "execution_count": null,
   "metadata": {},
   "outputs": [],
   "source": [
    "list(map(lambda x: x.upper(), ['cat', 'dog', 'cow']))"
   ]
  },
  {
   "cell_type": "markdown",
   "execution_count": null,
   "metadata": {},
   "outputs": [],
   "source": [
    "9. `with` - um Block-Code in einer Methode auszuführen"
   ]
  },
  {
   "cell_type": "code",
   "execution_count": null,
   "metadata": {},
   "outputs": [],
   "source": [
    "with open('test.txt', 'a') as my_file: # für Methode open() wird Block-Code ausgeführt\n",
    "    my_file.write(\"Hello World\\n\")"
   ]
  },
  {
   "cell_type": "markdown",
   "execution_count": null,
   "metadata": {},
   "outputs": [],
   "source": [
    " 1. `if item in list: ...` kann man auch Strings durchlaufen (Klar ist für List, Dict Array)"
   ]
  },
  {
   "cell_type": "code",
   "execution_count": null,
   "metadata": {},
   "outputs": [],
   "source": [
    "string = 'Hi there' # True пример\n",
    "# string = 'Hello' # False пример\n",
    "if string.find('Hi') != -1:\n",
    "    print('Success!')\n",
    "\n",
    "# Bessere Lösung\n",
    "string = 'Hi there' # True example\n",
    "# string = 'Hello' # False example\n",
    "if 'Hi' in string:\n",
    "    print('Success!')"
   ]
  },
  {
   "cell_type": "markdown",
   "metadata": {},
   "source": [
    "2. Lambda:\n",
    "    1. wenn man eine Funktion als Argument übergeben muss\n",
    "    2. wenn man kleine Aufgabe mehrfach ausführen muss\n",
    "    3. return Wert eines Ausdrucks\n",
    "    4. ist ein Ausdruck\n"
   ]
  },
  {
   "cell_type": "code",
   "execution_count": 49,
   "metadata": {},
   "outputs": [
    {
     "name": "stdout",
     "output_type": "stream",
     "text": "6\n[1, 4, 9, 16, 25]\n"
    }
   ],
   "source": [
    "def add1(a: int, b: int) -> int:\n",
    "    return a + b\n",
    "\n",
    "add2 = lambda a, b: a + b # a,b = Parameter\n",
    "print(add2(2,4))\n",
    "\n",
    "squares = map(lambda x: x * x, [1, 2, 3, 4, 5])\n",
    "print(list(squares))"
   ]
  },
  {
   "cell_type": "markdown",
   "metadata": {},
   "source": [
    "3. List Comprehensions = for/if in einer Zeile"
   ]
  },
  {
   "cell_type": "code",
   "execution_count": 51,
   "metadata": {},
   "outputs": [
    {
     "name": "stdout",
     "output_type": "stream",
     "text": "[1, 4, 9, 16, 25]\n[]\n[1, 4, 9, 16, 25]\n"
    }
   ],
   "source": [
    "numbers = [1, 2, 3, 4, 5]\n",
    "squares = []\n",
    "\n",
    "# OHNE COMPREHENSION\n",
    "for number in numbers:\n",
    "    squares.append(number * number)\n",
    "print(list(squares))\n",
    "\n",
    "# MIT COMPREHENSION\n",
    "squares = []\n",
    "print(list(squares))\n",
    "squares = [number * number for number in numbers ] # Syntax: [AUSDRUCK for/if BEDINGUNG ]\n",
    "print(list(squares))\n"
   ]
  },
  {
   "cell_type": "markdown",
   "metadata": {},
   "source": [
    "4.  Lists filtern \n",
    "    * `filter()` arbeitet wie `map()` bekommt als Param eine Funktion und Array, Wenn Funtion return `True` => macht `append()` "
   ]
  },
  {
   "cell_type": "code",
   "execution_count": null,
   "metadata": {},
   "outputs": [],
   "source": [
    "# Bsp: alle ungerade Zahlen löschen\n",
    "numbers = [1, 2, 3, 4, 5]\n",
    "odds = []\n",
    "\n",
    "# BAD \n",
    "for number in numbers:\n",
    "    if number % 2:\n",
    "        odds.append(number)\n",
    "print(list(odds))\n",
    "\n",
    "# GOOD\n",
    "odds = []\n",
    "odds = filter(lambda x: x % 2, numbers)\n",
    "print(list(odds))"
   ]
  },
  {
   "cell_type": "markdown",
   "metadata": {},
   "source": [
    "5. `map()` + `filter()`"
   ]
  },
  {
   "cell_type": "code",
   "execution_count": 53,
   "metadata": {},
   "outputs": [
    {
     "name": "stdout",
     "output_type": "stream",
     "text": "[1, 9, 25]\n[1, 9, 25]\n[1, 9, 25]\n"
    }
   ],
   "source": [
    "numbers = [1, 2, 3, 4, 5]\n",
    "\n",
    "# BAD\n",
    "odd_squares = []\n",
    "for number in numbers:\n",
    "    if number % 2:\n",
    "        odd_squares.append(number * number)\n",
    "print(list(odd_squares))\n",
    "\n",
    "# GOOD\n",
    "odd_squares = []\n",
    "odd_squares = map(lambda x: x * x, filter(lambda x: x % 2, numbers))\n",
    "print(list(odd_squares))\n",
    "\n",
    "# BETTER\n",
    "odd_squares = []\n",
    "odd_squares = [number * number for number in numbers if number % 2]\n",
    "print(list(odd_squares))"
   ]
  },
  {
   "cell_type": "markdown",
   "metadata": {},
   "source": [
    "6. Моржовый оператор - `:=`\n",
    "    * = einer Variablen einen Wert Zuweisen\n",
    "    * Syntax: (VARNAME:= WERT)"
   ]
  },
  {
   "cell_type": "code",
   "execution_count": 9,
   "metadata": {},
   "outputs": [
    {
     "ename": "SyntaxError",
     "evalue": "invalid syntax (<ipython-input-9-c10fbbb2f4eb>, line 7)",
     "output_type": "error",
     "traceback": [
      "\u001b[0;36m  File \u001b[0;32m\"<ipython-input-9-c10fbbb2f4eb>\"\u001b[0;36m, line \u001b[0;32m7\u001b[0m\n\u001b[0;31m    if ( n := len(a) ) > 4:\u001b[0m\n\u001b[0m           ^\u001b[0m\n\u001b[0;31mSyntaxError\u001b[0m\u001b[0;31m:\u001b[0m invalid syntax\n"
     ]
    }
   ],
   "source": [
    "#(x:= 5)\n",
    "#print(x)\n",
    "\n",
    "a = [1, 2, 3, 4, 5]\n",
    "\n",
    "# Bsp 1:\n",
    "if ( n := len(a) ) > 4:\n",
    "    print(f'Anzahl: {n}')\n",
    "# Anstelle von \n",
    "n = len(a)\n",
    "if n > 10:\n",
    "    print(f'Слишком много элементов, а именно {n}')\n",
    "\n",
    "# Bsp 2: - Wiederholge Benutzung in Array\n",
    "foo = [ y:= f(x), y * 2, y * 3]\n",
    "# Anstelle von \n",
    "foo = [f(x), f(x) * 2, f(x) * 3]\n",
    "\n",
    "# Bsp 3: - Wiederholte Benutzung des Werte aus Bedinung in Generatoren\n",
    "[y for x in data if (y:=f(x))]\n",
    "# Anstelle von\n",
    "result = []\n",
    "for x in data:\n",
    "    result = f(x)\n",
    "    if result:\n",
    "        results.append(result)\n",
    "\n",
    "# Bsp 4: - Daten aus Datei in While lesen\n",
    "while (block := f.read(256)) != '':\n",
    "    process(block)\n",
    "# Anstelle von\n",
    "while True:\n",
    "    stuff()\n",
    "    if fail_condition:\n",
    "        break\n",
    "\n",
    "\n",
    "\n"
   ]
  },
  {
   "cell_type": "code",
   "execution_count": null,
   "metadata": {},
   "outputs": [],
   "source": []
  }
 ]
}