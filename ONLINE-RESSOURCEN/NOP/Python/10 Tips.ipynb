{
 "metadata": {
  "language_info": {
   "codemirror_mode": {
    "name": "ipython",
    "version": 3
   },
   "file_extension": ".py",
   "mimetype": "text/x-python",
   "name": "python",
   "nbconvert_exporter": "python",
   "pygments_lexer": "ipython3",
   "version": "3.7.8-final"
  },
  "orig_nbformat": 2,
  "kernelspec": {
   "name": "python_defaultSpec_1596397154339",
   "display_name": "Python 3.7.8 64-bit"
  }
 },
 "nbformat": 4,
 "nbformat_minor": 2,
 "cells": [
  {
   "cell_type": "markdown",
   "metadata": {},
   "source": [
    "#### 1 - Zeile umdrehen"
   ]
  },
  {
   "cell_type": "code",
   "execution_count": 1,
   "metadata": {
    "tags": []
   },
   "outputs": [
    {
     "output_type": "stream",
     "name": "stdout",
     "text": "!dlrow olleH\n"
    }
   ],
   "source": [
    "a: str = '!dlrow olleH'\n",
    "\n",
    "print(a)"
   ]
  },
  {
   "cell_type": "code",
   "execution_count": 2,
   "metadata": {
    "tags": []
   },
   "outputs": [
    {
     "output_type": "stream",
     "name": "stdout",
     "text": "Hello world!\n"
    }
   ],
   "source": [
    "backward: str = a [::-1]\n",
    "print(backward) "
   ]
  },
  {
   "cell_type": "markdown",
   "metadata": {},
   "source": [
    "#### 2 - Dims als Variablennamen\n",
    "* eigentlich Index gemeint\n",
    "* in Python kann die Index-Zugriff etwas vereinfachen"
   ]
  },
  {
   "cell_type": "code",
   "execution_count": 7,
   "metadata": {
    "tags": []
   },
   "outputs": [
    {
     "output_type": "stream",
     "name": "stdout",
     "text": "5\n10\n15\n20\n"
    }
   ],
   "source": [
    "myArray1 = [5, 10, 15, 20]\n",
    "five, ten, fift, twenty = myArray1\n",
    "print(five)\n",
    "print(ten)\n",
    "print(fift)\n",
    "print(twenty)"
   ]
  },
  {
   "cell_type": "markdown",
   "metadata": {},
   "source": [
    "#### 3 - Modul itertools\n",
    "* für die Arbeit mit Iteratoren\n",
    "* vereinfacht den Code und macht den Code schneller"
   ]
  },
  {
   "cell_type": "code",
   "execution_count": 12,
   "metadata": {},
   "outputs": [
    {
     "output_type": "execute_result",
     "data": {
      "text/plain": "[1, 2, 3, 4, 5, 6]"
     },
     "metadata": {},
     "execution_count": 12
    }
   ],
   "source": [
    "c = [[1, 2], [3, 4], [5, 6]]\n",
    "\n",
    "import itertools as it\n",
    "\n",
    "newlist = list(it.chain.from_iterable(c))\n",
    "\n",
    "newlist"
   ]
  },
  {
   "cell_type": "markdown",
   "metadata": {},
   "source": [
    "#### 4 - Arrays auspacken\n",
    "* `*` - ählich den variablen Param-Listen (eventul Zeiger)"
   ]
  },
  {
   "cell_type": "code",
   "execution_count": 17,
   "metadata": {
    "tags": []
   },
   "outputs": [
    {
     "output_type": "stream",
     "name": "stdout",
     "text": "1\n[2, 3, 4]\n5\n"
    }
   ],
   "source": [
    "a, *b, c = [1,2,3,4,5]\n",
    "print(a)\n",
    "print(b)\n",
    "print(c)"
   ]
  },
  {
   "cell_type": "markdown",
   "metadata": {},
   "source": [
    "#### 5 - Enumerates\n",
    "* man kann mit Enumarates die Index-es des Array herausbekommen"
   ]
  },
  {
   "cell_type": "code",
   "execution_count": 20,
   "metadata": {
    "tags": []
   },
   "outputs": [
    {
     "output_type": "stream",
     "name": "stdout",
     "text": "0 5\n1 10\n2 15\n3 20\n"
    }
   ],
   "source": [
    "myArray1 = [5, 10, 15, 20]\n",
    "\n",
    "for i,w in enumerate(myArray1):\n",
    "    print(i,w)"
   ]
  },
  {
   "cell_type": "markdown",
   "metadata": {},
   "source": [
    "#### 6 - Sektoren Namen vergeben\n",
    "* wenn man einen Array z.B Slices kann man dieses Slices den Sektoren zuweisen\n"
   ]
  },
  {
   "cell_type": "code",
   "execution_count": 26,
   "metadata": {
    "tags": []
   },
   "outputs": [
    {
     "output_type": "stream",
     "name": "stdout",
     "text": "slice(-3, None, None)\n[3, 4, 5]\n"
    }
   ],
   "source": [
    "from typing import List\n",
    "\n",
    "a: List[int] = [0, 1, 2, 3, 4, 5]\n",
    "\n",
    "LASTTHREE: slice = slice(-3, None)\n",
    "print(LASTTHREE)\n",
    "\n",
    "slice(-3, None, None)\n",
    "\n",
    "print(a[LASTTHREE])"
   ]
  },
  {
   "cell_type": "markdown",
   "metadata": {},
   "source": [
    "#### 7 - Array(Listen) gruppieren\n",
    "* man kann die Gruppierung leicht in `for` mit `zip()` realisieren\n",
    "* hier wird es mit `lambda` verkürzt"
   ]
  },
  {
   "cell_type": "code",
   "execution_count": 39,
   "metadata": {},
   "outputs": [
    {
     "output_type": "execute_result",
     "data": {
      "text/plain": "[(1,), (2,), (3,), (4,), (5,), (6,)]"
     },
     "metadata": {},
     "execution_count": 39
    }
   ],
   "source": [
    "a: List[int] = [1,2,3,4,5,6]\n",
    "group_adjacent = lambda a, k : list(zip(*([iter(a)] * k)))\n",
    "\n",
    "group_adjacent(a, 3) # [(1,2,3), (4,5,6)]\n",
    "group_adjacent(a, 2) # [(1,2), (3,4), (5,6)]\n",
    "group_adjacent(a, 1) # [(1,), (2,), (3,), (4,), (5,), (6,)]"
   ]
  },
  {
   "cell_type": "markdown",
   "metadata": {},
   "source": [
    "#### 8 - mit `next()` über Generatoren iterieren"
   ]
  },
  {
   "cell_type": "code",
   "execution_count": 5,
   "metadata": {},
   "outputs": [
    {
     "output_type": "error",
     "ename": "SyntaxError",
     "evalue": "invalid syntax (<ipython-input-5-43ca8b64f1ca>, line 3)",
     "traceback": [
      "\u001b[0;36m  File \u001b[0;32m\"<ipython-input-5-43ca8b64f1ca>\"\u001b[0;36m, line \u001b[0;32m3\u001b[0m\n\u001b[0;31m    counter = for i in array1:\u001b[0m\n\u001b[0m                ^\u001b[0m\n\u001b[0;31mSyntaxError\u001b[0m\u001b[0;31m:\u001b[0m invalid syntax\n"
     ]
    }
   ],
   "source": [
    "array1 = [5, 10, 15, 20]\n",
    "array2 = (x ** 2 for x in range(10))\n",
    "counter = for i in array1:\n",
    "    # i = array2[i]     # wird nicht funktionieren, da da es kein i in array2 gibt \n",
    "    i = array2[counter]"
   ]
  },
  {
   "cell_type": "markdown",
   "metadata": {},
   "source": [
    "* bessere Lösung mit `next()`"
   ]
  },
  {
   "cell_type": "code",
   "execution_count": 8,
   "metadata": {
    "tags": []
   },
   "outputs": [
    {
     "output_type": "stream",
     "name": "stdout",
     "text": "0\n1\n4\n"
    }
   ],
   "source": [
    "g = (x ** 2 for x in range(10))\n",
    "print(next(g))\n",
    "print(next(g))\n",
    "print(next(g))"
   ]
  },
  {
   "cell_type": "markdown",
   "metadata": {},
   "source": [
    "#### 9 - Counter\n",
    "* aus Modul `collections`\n",
    "* z.B  "
   ]
  },
  {
   "cell_type": "code",
   "execution_count": 23,
   "metadata": {
    "tags": []
   },
   "outputs": [
    {
     "output_type": "stream",
     "name": "stdout",
     "text": "[(3, 4)]\n[(3, 4), (1, 2), (2, 2)]\n"
    }
   ],
   "source": [
    "import collections\n",
    "\n",
    "A = collections.Counter([1, 1, 2, 2, 3, 3, 3, 3, 4, 5, 6, 7]) # wird folgende Tupel erstellt: A collections.Counter({3: 4, 1: 2, 2: 2, 4: 1, 5: 1, 6: 1, 7: 1})\n",
    "print(A.most_common(1)) #[(3, 4)]\n",
    "print(A.most_common(3)) #[(3, 4), (1, 2), (2, 2)]"
   ]
  },
  {
   "cell_type": "markdown",
   "metadata": {},
   "source": [
    "#### 10 - Ausname auf den Queue\n",
    "* Typ `dequeue` aus Modul `collections`"
   ]
  },
  {
   "cell_type": "code",
   "execution_count": 27,
   "metadata": {
    "tags": []
   },
   "outputs": [
    {
     "output_type": "stream",
     "name": "stdout",
     "text": "deque([1])\ndeque([2, 1])\ndeque([2, 1, 3, 4])\ndeque([6, 5, 2, 1, 3, 4])\ndeque([6, 5, 2, 1, 3])\ndeque([5, 2, 1, 3])\ndeque([2, 1, 3, 5])\ndeque([5, 2, 1, 3])\n"
    }
   ],
   "source": [
    "import collections\n",
    "\n",
    "Q = collections.deque() \n",
    "Q.append(1) \n",
    "print(Q)\n",
    "Q.appendleft(2) \n",
    "print(Q)\n",
    "Q.extend([3, 4])\n",
    "print(Q)\n",
    "Q.extendleft([5, 6])\n",
    "print(Q)\n",
    "\n",
    "Q.pop() #letzen löschen\n",
    "print(Q)\n",
    "Q.popleft() #ersten löschen\n",
    "print(Q)\n",
    "Q.rotate(3)\n",
    "print(Q)\n",
    "Q.rotate(-3)\n",
    "print(Q)"
   ]
  }
 ]
}