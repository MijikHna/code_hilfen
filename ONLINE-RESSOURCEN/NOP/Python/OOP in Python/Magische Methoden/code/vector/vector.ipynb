{
 "nbformat": 4,
 "nbformat_minor": 2,
 "metadata": {
  "language_info": {
   "name": "python",
   "codemirror_mode": {
    "name": "ipython",
    "version": 3
   },
   "version": "3.7.3-final"
  },
  "orig_nbformat": 2,
  "file_extension": ".py",
  "mimetype": "text/x-python",
  "name": "python",
  "npconvert_exporter": "python",
  "pygments_lexer": "ipython3",
  "version": 3,
  "kernelspec": {
   "name": "python37364bit8da75422cb644cea8898ce014649d9b1",
   "display_name": "Python 3.7.3 64-bit"
  }
 },
 "cells": [
  {
   "cell_type": "code",
   "execution_count": 94,
   "metadata": {},
   "outputs": [],
   "source": [
    "import math"
   ]
  },
  {
   "cell_type": "code",
   "execution_count": 95,
   "metadata": {},
   "outputs": [],
   "source": [
    "class Vector:\n",
    "    x: float\n",
    "    y: float\n",
    "    z: float\n",
    "\n",
    "    ''' Konstruktor '''\n",
    "    def __init__(self, x:float, y: float, z: float):\n",
    "        self.x = x\n",
    "        self.y = y\n",
    "        self.z = z\n",
    "    ''' str() überladen '''\n",
    "    def __str__(self) :\n",
    "        return \"( \" + str(self.x) + \", \" + str(self.y) + \", \" + str(self.z) + \" )\"\n",
    "\n",
    "    ''' add() und add() überladen '''\n",
    "    def __add__(self, op2: Vector) -> Vector:\n",
    "        return Vector(\n",
    "            self.x + op2.x, \n",
    "            self.y + op2.y, \n",
    "            self.z + op2.z\n",
    "        )\n",
    "\n",
    "    def __iadd__(self, op2: Vector) -> Vector:\n",
    "        return Vector.__add__(self, op2)\n",
    "\n",
    "    ''' sub() und isub() '''\n",
    "    def __sub__(self, op2: Vector) -> Vector:\n",
    "        return Vector(\n",
    "            self.x - op2.x,\n",
    "            self.y - op2.y,\n",
    "            self.z - op2.z\n",
    "        )\n",
    "    def __isub__(self, op2: Vector) -> Vector:\n",
    "        return Vector.__sub__(self, op2)\n",
    "    \n",
    "    ''' mul() und imul() = Skalarproduct * '''\n",
    "    def __mul__(self, op2: Vector) -> Vector:\n",
    "        return Vector(\n",
    "            self.x * op2.x,\n",
    "            self.y * op2.y,\n",
    "            self.z * op2.z\n",
    "        )\n",
    "    \n",
    "    ''' neg() überladen '''\n",
    "    def __neg__(self) -> Vector:\n",
    "        return Vector(\n",
    "            -self.x,\n",
    "            -self.y,\n",
    "            -self.z\n",
    "        )\n",
    "    \n",
    "    ''' abs() '''\n",
    "    def __abs__(self):\n",
    "        return math.sqrt(self.x**2 + self.y**2 + self.z**2)\n",
    "\n",
    "    ''' == - eq() '''\n",
    "    def __eq__(self, op2):\n",
    "        return self.x == op2.x and self.y == op2.y and self.z == op.z \n"
   ]
  },
  {
   "cell_type": "code",
   "execution_count": 96,
   "metadata": {},
   "outputs": [
    {
     "name": "stdout",
     "output_type": "stream",
     "text": "( 2, 3, 4 )\n( 6, 6, 9 )\n( 8, 9, 13 )\n( -2, 0, -1 )\n( -4, -3, -5 )\n( 8, 9, 20 )\n( -8, -9, -20 )\n5.385164807134504\n"
    },
    {
     "ename": "NameError",
     "evalue": "name 'op' is not defined",
     "output_type": "error",
     "traceback": [
      "\u001b[0;31m---------------------------------------------------------------------------\u001b[0m",
      "\u001b[0;31mNameError\u001b[0m                                 Traceback (most recent call last)",
      "\u001b[0;32m<ipython-input-96-541d9c6f9eaa>\u001b[0m in \u001b[0;36m<module>\u001b[0;34m\u001b[0m\n\u001b[1;32m     16\u001b[0m \u001b[0mprint\u001b[0m\u001b[0;34m(\u001b[0m\u001b[0mabs\u001b[0m\u001b[0;34m(\u001b[0m\u001b[0mvec1\u001b[0m\u001b[0;34m)\u001b[0m\u001b[0;34m)\u001b[0m\u001b[0;34m\u001b[0m\u001b[0;34m\u001b[0m\u001b[0m\n\u001b[1;32m     17\u001b[0m \u001b[0mvec4\u001b[0m \u001b[0;34m=\u001b[0m \u001b[0mVector\u001b[0m\u001b[0;34m(\u001b[0m\u001b[0;36m2\u001b[0m\u001b[0;34m,\u001b[0m\u001b[0;36m3\u001b[0m\u001b[0;34m,\u001b[0m\u001b[0;36m4\u001b[0m\u001b[0;34m)\u001b[0m\u001b[0;34m\u001b[0m\u001b[0;34m\u001b[0m\u001b[0m\n\u001b[0;32m---> 18\u001b[0;31m \u001b[0mprint\u001b[0m\u001b[0;34m(\u001b[0m\u001b[0mvec1\u001b[0m \u001b[0;34m==\u001b[0m \u001b[0mvec4\u001b[0m\u001b[0;34m)\u001b[0m\u001b[0;34m\u001b[0m\u001b[0;34m\u001b[0m\u001b[0m\n\u001b[0m",
      "\u001b[0;32m<ipython-input-95-cfc42f595b05>\u001b[0m in \u001b[0;36m__eq__\u001b[0;34m(self, op2)\u001b[0m\n\u001b[1;32m     56\u001b[0m     \u001b[0;34m''' == - eq() '''\u001b[0m\u001b[0;34m\u001b[0m\u001b[0;34m\u001b[0m\u001b[0m\n\u001b[1;32m     57\u001b[0m     \u001b[0;32mdef\u001b[0m \u001b[0m__eq__\u001b[0m\u001b[0;34m(\u001b[0m\u001b[0mself\u001b[0m\u001b[0;34m,\u001b[0m \u001b[0mop2\u001b[0m\u001b[0;34m)\u001b[0m\u001b[0;34m:\u001b[0m\u001b[0;34m\u001b[0m\u001b[0;34m\u001b[0m\u001b[0m\n\u001b[0;32m---> 58\u001b[0;31m         \u001b[0;32mreturn\u001b[0m \u001b[0mself\u001b[0m\u001b[0;34m.\u001b[0m\u001b[0mx\u001b[0m \u001b[0;34m==\u001b[0m \u001b[0mop2\u001b[0m\u001b[0;34m.\u001b[0m\u001b[0mx\u001b[0m \u001b[0;32mand\u001b[0m \u001b[0mself\u001b[0m\u001b[0;34m.\u001b[0m\u001b[0my\u001b[0m \u001b[0;34m==\u001b[0m \u001b[0mop2\u001b[0m\u001b[0;34m.\u001b[0m\u001b[0my\u001b[0m \u001b[0;32mand\u001b[0m \u001b[0mself\u001b[0m\u001b[0;34m.\u001b[0m\u001b[0mz\u001b[0m \u001b[0;34m==\u001b[0m \u001b[0mop\u001b[0m\u001b[0;34m.\u001b[0m\u001b[0mz\u001b[0m\u001b[0;34m\u001b[0m\u001b[0;34m\u001b[0m\u001b[0m\n\u001b[0m",
      "\u001b[0;31mNameError\u001b[0m: name 'op' is not defined"
     ]
    }
   ],
   "source": [
    "vec1 = Vector(2, 3, 4)\n",
    "print(vec1)\n",
    "vec2 = Vector(4, 3, 5)\n",
    "vec3 = vec1 + vec2\n",
    "print(vec3)\n",
    "vec3 += vec1\n",
    "print(vec3)\n",
    "vec3 = vec1 - vec2\n",
    "print(vec3)\n",
    "vec3 -= vec1\n",
    "print(vec3)\n",
    "vec3 = vec1 * vec2\n",
    "print(vec3)\n",
    "vec3 = -vec3\n",
    "print(vec3)\n",
    "print(abs(vec1))\n",
    "vec4 = Vector(2,3,4)\n",
    "print(vec1 == vec4)"
   ]
  }
 ]
}