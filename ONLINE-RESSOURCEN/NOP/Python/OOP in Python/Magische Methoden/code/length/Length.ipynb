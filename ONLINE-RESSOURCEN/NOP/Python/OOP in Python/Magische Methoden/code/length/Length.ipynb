{
 "nbformat": 4,
 "nbformat_minor": 2,
 "metadata": {
  "language_info": {
   "name": "python",
   "codemirror_mode": {
    "name": "ipython",
    "version": 3
   },
   "version": "3.7.3-final"
  },
  "orig_nbformat": 2,
  "file_extension": ".py",
  "mimetype": "text/x-python",
  "name": "python",
  "npconvert_exporter": "python",
  "pygments_lexer": "ipython3",
  "version": 3,
  "kernelspec": {
   "name": "python37364bit8da75422cb644cea8898ce014649d9b1",
   "display_name": "Python 3.7.3 64-bit"
  }
 },
 "cells": [
  {
   "cell_type": "code",
   "execution_count": 39,
   "metadata": {},
   "outputs": [],
   "source": [
    "class Length:\n",
    "    __metric = {\n",
    "        \"mm\": 0.001,\n",
    "        \"cm\": 0.01,\n",
    "        \"m\": 1,\n",
    "        \"km\": 1000,\n",
    "        \"in\": 0.0254,\n",
    "        \"ft\": 0.3048,\n",
    "        \"yd\": 0.9144,\n",
    "        \"mi\": 1609.344 \n",
    "    }\n",
    "\n",
    "    def __init__(self, value: float, unit: str = \"m\"):\n",
    "        self.value = value\n",
    "        self.unit = unit\n",
    "\n",
    "    def Converse2Meters(self):\n",
    "        return self.value * Length.__metric[self.unit]\n",
    "\n",
    "    def __add__(self, op2):\n",
    "        #l = self.Converse2Meters() + op2.Converse2Meters()\n",
    "        if type(op2) == float or type(op2) == int:\n",
    "            l = self.Converse2Meters() + op2\n",
    "        else:\n",
    "            l = self.Converse2Meters() + op2.Converse2Meters()\n",
    "        return Length(l / Length.__metric[self.unit], self.unit)\n",
    "\n",
    "    def __str__(self):\n",
    "        return str(self.Converse2Meters())\n",
    "\n",
    "    def __repr__(self):\n",
    "        return str((self.value, self.unit))\n",
    "\n",
    "    def __iadd__(self, op2):\n",
    "        #l = self.Converse2Meters() + op2.Converse2Meters()\n",
    "        #self.value = l / Length.__metric[self.unit]\n",
    "        #return self\n",
    "        if type(op2) == float or type(op2) == int:\n",
    "            l = self.Converse2Meters() + op2\n",
    "        else:\n",
    "            l = self.Converse2Meters() + op2.Converse2Meters()\n",
    "        return Length(l / Length.__metric[self.unit], self.unit)\n",
    "\n",
    "    def __radd__(self, op2):\n",
    "        return Length.__add__(self, op2)\n",
    "        \n",
    "\n"
   ]
  },
  {
   "cell_type": "code",
   "execution_count": 40,
   "metadata": {},
   "outputs": [
    {
     "name": "stdout",
     "output_type": "stream",
     "text": "4\n(4, 'm')\n(8.87445319335083, 'yd')\n8.114799999999999\n(5.0, 'm')\n(8.6576, 'm')\n(15.1576, 'm')\n"
    }
   ],
   "source": [
    "if __name__ == \"__main__\":\n",
    "    # str(), repr(), add(), new()\n",
    "    x = Length(4)\n",
    "    print(x)\n",
    "    print(repr(x))\n",
    "    y = Length(4.5, \"yd\") + x\n",
    "    print(repr(y))\n",
    "    print(y)\n",
    "    # iadd()\n",
    "    x += Length(1)\n",
    "    print(repr(x))\n",
    "    x += Length(4, \"yd\")\n",
    "    print(repr(x))\n",
    "    # add() mit int,float\n",
    "    x += 6.5\n",
    "    print(repr(x))\n",
    "    # radd()\n",
    "    z = 5 + x"
   ]
  },
  {
   "cell_type": "code",
   "execution_count": null,
   "metadata": {},
   "outputs": [],
   "source": []
  }
 ]
}