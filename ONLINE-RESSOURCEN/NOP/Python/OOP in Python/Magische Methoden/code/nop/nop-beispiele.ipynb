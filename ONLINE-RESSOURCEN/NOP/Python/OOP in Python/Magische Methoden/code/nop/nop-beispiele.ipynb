{
 "nbformat": 4,
 "nbformat_minor": 2,
 "metadata": {
  "language_info": {
   "name": "python",
   "codemirror_mode": {
    "name": "ipython",
    "version": 3
   },
   "version": "3.7.3-final"
  },
  "orig_nbformat": 2,
  "file_extension": ".py",
  "mimetype": "text/x-python",
  "name": "python",
  "npconvert_exporter": "python",
  "pygments_lexer": "ipython3",
  "version": 3,
  "kernelspec": {
   "name": "python37364bit8da75422cb644cea8898ce014649d9b1",
   "display_name": "Python 3.7.3 64-bit"
  }
 },
 "cells": [
  {
   "cell_type": "markdown",
   "execution_count": null,
   "metadata": {},
   "outputs": [],
   "source": [
    "eigener Dict, dass als Value nur **float** oder **int** aktzeptiert"
   ]
  },
  {
   "cell_type": "code",
   "execution_count": 9,
   "metadata": {},
   "outputs": [],
   "source": [
    "class CustomIntFloat(dict):\n",
    "    #empty_dict = {}\n",
    "\n",
    "    def __init__(self, key=None, value=None):\n",
    "        if key is None:\n",
    "        #    CustomIntFloat.empty_dict = None\n",
    "            dict.__setitem__(self, None, None)\n",
    "        elif len(key) == 1 and isinstance(value, (int, float)):\n",
    "            #self.empty_dict.__setitem__(self, key, value)\n",
    "            dict.__setitem__(self, key, value)\n",
    "        else:\n",
    "            zipped = zip(key, value)\n",
    "            for tup in zipped:\n",
    "                if isinstance(tup[1], (int, float)):\n",
    "                    #self.empty_dict.__setitem__(self, tup[0], tup[1])\n",
    "                    dict.__setitem__(self, tup[0], tup[1])\n",
    "                else:\n",
    "                    raise Exception(\"Wrong Value Typ\")\n",
    "    def __setitem__(self, key, value):\n",
    "        if not isinstance(value, (int, float)):\n",
    "            raise Exception(\"Wrong Value Typ\")\n",
    "        return dict.__setitem__(self, key, value)\n",
    "\n"
   ]
  },
  {
   "cell_type": "code",
   "execution_count": 10,
   "metadata": {},
   "outputs": [
    {
     "name": "stdout",
     "output_type": "stream",
     "text": "<class '__main__.CustomIntFloat'>\n{'a': 1}\n<class 'ChildProcessError'>\n[Errno b] b\n<class '__main__.CustomIntFloat'>\n{'a': 1, 'b': 2, 'c': 3}\n{None: None}\n"
    }
   ],
   "source": [
    "x = CustomIntFloat('a', 1)\n",
    "print(type(x))\n",
    "print(x)\n",
    "y = ChildProcessError('b', 'b')\n",
    "print(type(y))\n",
    "print(y)\n",
    "z = CustomIntFloat(key=['a', 'b', 'c'], value=[1, 2, 3])\n",
    "print(type(z))\n",
    "print(z)\n",
    "xy = CustomIntFloat()\n",
    "print(xy)\n",
    "#print(z.empty_dict)"
   ]
  },
  {
   "cell_type": "markdown",
   "metadata": {},
   "source": [
    "Beispiele für Verwendung von Mathematischen Operatoren"
   ]
  },
  {
   "cell_type": "code",
   "execution_count": 11,
   "metadata": {},
   "outputs": [],
   "source": [
    "class NumOpetations():\n",
    "    def __init__(self, math_list):\n",
    "        self.math_list = math_list\n",
    "    \n",
    "    def __sub__(self, op2):\n",
    "        minuslst = []\n",
    "        zipped = zip(self.math_list, op2.math_list)\n",
    "        for tup in zipped:\n",
    "            minuslst.append(tup[0] - tup[1])\n",
    "        return NumOpetations(minuslst)\n",
    "    def __add__(self, op2):\n",
    "        addlst= [x + y for x, y in zip(self.math_list, op2.math_list)]\n",
    "        return NumOpetations(addlst)\n",
    "    def __mul__(self, op2):\n",
    "        mullst = [x * y for x, y in zip(self.math_list, op2.math_list)]\n",
    "        return NumOpetations(mullst)\n",
    "    def __repr__(self):\n",
    "        return str(self.math_list)"
   ]
  },
  {
   "cell_type": "code",
   "execution_count": 12,
   "metadata": {},
   "outputs": [
    {
     "name": "stdout",
     "output_type": "stream",
     "text": "ADD: [110, 99, 88, 77, 66]\nSUB: [90, 81, 72, 63, 54]\nMUL: [1000, 810, 640, 490, 360]\n"
    }
   ],
   "source": [
    "x = NumOpetations([100, 90, 80, 70, 60])\n",
    "y = NumOpetations([10, 9, 8, 7, 6])\n",
    "\n",
    "z = x + y\n",
    "p = x - y \n",
    "q = x * y\n",
    "\n",
    "print('ADD: ' + str(z))\n",
    "print('SUB: ' + str(p))\n",
    "print('MUL: ' + str(q))"
   ]
  }
 ]
}